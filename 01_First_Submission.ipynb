{
 "cells": [
  {
   "cell_type": "markdown",
   "id": "7d147b26",
   "metadata": {},
   "source": [
    "We will start with a simple baseline.\n",
    "\n",
    "The idea here is to get a feel for what this very simple approach can achieve.\n",
    "\n",
    "Further to that, we want to start getting our feet wet with the data, learning about the problem domain, get the logistics in place for making a sumission and so forth."
   ]
  },
  {
   "cell_type": "markdown",
   "id": "83b968f9",
   "metadata": {},
   "source": [
    "# First Submission"
   ]
  },
  {
   "cell_type": "markdown",
   "id": "f25fbb9f",
   "metadata": {},
   "source": [
    "The period of interest for this competition is one week **after** the train data.\n",
    "\n",
    "I imagine trends are quite important when it comes to fashion. Let's try to verify this assumption as we work on our first submission.\n",
    "\n",
    "On our path to our first submission we will create a validation set (we will use the last week of the train data for this).\n",
    "\n",
    "Our two sets of predictions, that we will submit to Kaggle, will be the most popular items purchased in the 2 weeks leading up to the period of our validation dataset, and the most popular items purchased 3 months earlier.\n",
    "\n",
    "We will learn a little bit about trends by following this strategy. What is probably more important at this point, we will also learn whether our validatio set tracks the public LB."
   ]
  },
  {
   "cell_type": "code",
   "execution_count": 12,
   "id": "7ff31c50",
   "metadata": {},
   "outputs": [],
   "source": [
    "import pandas as pd"
   ]
  },
  {
   "cell_type": "code",
   "execution_count": 213,
   "id": "fbefe701",
   "metadata": {},
   "outputs": [],
   "source": [
    "transactions = pd.read_csv('data/transactions_train.csv', dtype={'article_id': str})\n",
    "sample_sub = pd.read_csv('data/sample_submission.csv')"
   ]
  },
  {
   "cell_type": "code",
   "execution_count": 215,
   "id": "bffc3159",
   "metadata": {},
   "outputs": [],
   "source": [
    "transactions.t_dat = pd.to_datetime(transactions.t_dat)"
   ]
  },
  {
   "cell_type": "code",
   "execution_count": 41,
   "id": "5caef95b",
   "metadata": {},
   "outputs": [
    {
     "data": {
      "text/plain": [
       "Timestamp('2020-09-22 00:00:00')"
      ]
     },
     "execution_count": 41,
     "metadata": {},
     "output_type": "execute_result"
    }
   ],
   "source": [
    "newest_entry = transactions.t_dat.max()\n",
    "newest_entry"
   ]
  },
  {
   "cell_type": "code",
   "execution_count": 42,
   "id": "94a2bf2d",
   "metadata": {},
   "outputs": [],
   "source": [
    "import datetime"
   ]
  },
  {
   "cell_type": "code",
   "execution_count": 44,
   "id": "45713a9d",
   "metadata": {},
   "outputs": [],
   "source": [
    "last_7_days = transactions.t_dat > newest_entry - datetime.timedelta(days=7)"
   ]
  },
  {
   "cell_type": "code",
   "execution_count": 48,
   "id": "4b8a81c7",
   "metadata": {},
   "outputs": [],
   "source": [
    "leading_up_2_weeks =  (transactions.t_dat < newest_entry - datetime.timedelta(days=7)) & (transactions.t_dat > newest_entry - datetime.timedelta(days=21)) "
   ]
  },
  {
   "cell_type": "code",
   "execution_count": 49,
   "id": "8064d3e2",
   "metadata": {},
   "outputs": [],
   "source": [
    "a_quarter_ago_2_weeks =  (transactions.t_dat < newest_entry - datetime.timedelta(days=7+30*3)) & (transactions.t_dat > newest_entry - datetime.timedelta(days=21+30*3)) "
   ]
  },
  {
   "cell_type": "markdown",
   "id": "a791ded6",
   "metadata": {},
   "source": [
    "We have the time ranges for our validation dataset and the two \"train sets\". But how do we go from the transactions in the validation time period to something we can use to evaluate our predictions?\n",
    "\n",
    "For every customer that has made a purchase in the period of interest we will use their purchases as our ground truth in chronological order. If fewer than 12 purchases were made, we will pad the list with 0s. "
   ]
  },
  {
   "cell_type": "code",
   "execution_count": 220,
   "id": "3b050250",
   "metadata": {},
   "outputs": [],
   "source": [
    "cust_id = []\n",
    "purchases = []\n",
    "\n",
    "for grp in transactions[last_7_days].groupby('customer_id'):\n",
    "    cust_purchases = grp[1]['article_id'].tolist()[:12]\n",
    "    while len(cust_purchases) < 12:\n",
    "        cust_purchases.append('0')\n",
    "    cust_id.append(grp[0])\n",
    "    purchases.append(cust_purchases)"
   ]
  },
  {
   "cell_type": "code",
   "execution_count": 221,
   "id": "e6ac6a45",
   "metadata": {},
   "outputs": [
    {
     "data": {
      "text/plain": [
       "(68984, 68984)"
      ]
     },
     "execution_count": 221,
     "metadata": {},
     "output_type": "execute_result"
    }
   ],
   "source": [
    "len(cust_id), len(purchases)"
   ]
  },
  {
   "cell_type": "code",
   "execution_count": 222,
   "id": "98f914c2",
   "metadata": {},
   "outputs": [],
   "source": [
    "validation_set = pd.DataFrame(data={'customer_id': cust_id, 'purchases': purchases})\n",
    "validation_set.to_pickle('data/validation_set.pkl')"
   ]
  },
  {
   "cell_type": "markdown",
   "id": "19f4c29c",
   "metadata": {},
   "source": [
    "Now let's \"calculate\" our predictions."
   ]
  },
  {
   "cell_type": "code",
   "execution_count": 223,
   "id": "63224a1d",
   "metadata": {},
   "outputs": [],
   "source": [
    "predictions_leading_2_weeks = validation_set.copy()\n",
    "predictions_leading_2_weeks['purchases'] = [transactions[leading_up_2_weeks]['article_id'].value_counts().index.tolist()[:12]]*68984"
   ]
  },
  {
   "cell_type": "markdown",
   "id": "014cc39e",
   "metadata": {},
   "source": [
    "We can grab the code to run the metric calculation directly from github."
   ]
  },
  {
   "cell_type": "code",
   "execution_count": 1,
   "id": "4693f427",
   "metadata": {},
   "outputs": [
    {
     "name": "stdout",
     "output_type": "stream",
     "text": [
      "--2022-02-14 09:58:00--  https://raw.githubusercontent.com/benhamner/Metrics/master/Python/ml_metrics/average_precision.py\n",
      "Resolving raw.githubusercontent.com (raw.githubusercontent.com)... 185.199.111.133, 185.199.110.133, 185.199.108.133, ...\n",
      "Connecting to raw.githubusercontent.com (raw.githubusercontent.com)|185.199.111.133|:443... connected.\n",
      "HTTP request sent, awaiting response... 200 OK\n",
      "Length: 1654 (1.6K) [text/plain]\n",
      "Saving to: ‘average_precision.py’\n",
      "\n",
      "average_precision.p 100%[===================>]   1.62K  --.-KB/s    in 0s      \n",
      "\n",
      "2022-02-14 09:58:01 (60.0 MB/s) - ‘average_precision.py’ saved [1654/1654]\n",
      "\n"
     ]
    }
   ],
   "source": [
    "!wget https://raw.githubusercontent.com/benhamner/Metrics/master/Python/ml_metrics/average_precision.py"
   ]
  },
  {
   "cell_type": "code",
   "execution_count": 182,
   "id": "21fc75d3",
   "metadata": {},
   "outputs": [],
   "source": [
    "from average_precision import apk"
   ]
  },
  {
   "cell_type": "code",
   "execution_count": 185,
   "id": "1a421c03",
   "metadata": {},
   "outputs": [],
   "source": [
    "import numpy as np\n",
    "\n",
    "def calculate_apk(list_of_preds, list_of_gts):\n",
    "    apks = []\n",
    "    for preds, gt in zip(list_of_preds, list_of_gts):\n",
    "        apks.append(apk(preds, gt))\n",
    "    return np.mean(apks)"
   ]
  },
  {
   "cell_type": "markdown",
   "id": "e7b82f7a",
   "metadata": {},
   "source": [
    "And how did we do?"
   ]
  },
  {
   "cell_type": "code",
   "execution_count": 224,
   "id": "cc09de14",
   "metadata": {},
   "outputs": [
    {
     "data": {
      "text/plain": [
       "0.0036434351466822766"
      ]
     },
     "execution_count": 224,
     "metadata": {},
     "output_type": "execute_result"
    }
   ],
   "source": [
    "calculate_apk(predictions_leading_2_weeks.purchases, validation_set.purchases)"
   ]
  },
  {
   "cell_type": "markdown",
   "id": "d6281b05",
   "metadata": {},
   "source": [
    "Not ideal but it is a start! :) "
   ]
  },
  {
   "cell_type": "markdown",
   "id": "1759fcb9",
   "metadata": {},
   "source": [
    "Now, let's do the same but using data from roughly three months prior."
   ]
  },
  {
   "cell_type": "code",
   "execution_count": 225,
   "id": "5b82b1a7",
   "metadata": {},
   "outputs": [],
   "source": [
    "predictions_a_quarter_ago_2_weeks = validation_set.copy()\n",
    "predictions_a_quarter_ago_2_weeks['purchases'] = [transactions[a_quarter_ago_2_weeks]['article_id'].value_counts().index.tolist()[:12]]*68984"
   ]
  },
  {
   "cell_type": "code",
   "execution_count": 226,
   "id": "8e75f74e",
   "metadata": {},
   "outputs": [
    {
     "data": {
      "text/plain": [
       "0.00044962634537753403"
      ]
     },
     "execution_count": 226,
     "metadata": {},
     "output_type": "execute_result"
    }
   ],
   "source": [
    "calculate_apk(predictions_a_quarter_ago_2_weeks.purchases, validation_set.purchases)"
   ]
  },
  {
   "cell_type": "markdown",
   "id": "2edff52d",
   "metadata": {},
   "source": [
    "As it turns out, there might be some trending/seasonality to fashion purchases!\n",
    "\n",
    "Now let's see if we can make a submission using both sets of these predictions."
   ]
  },
  {
   "cell_type": "code",
   "execution_count": 253,
   "id": "84b88eff",
   "metadata": {},
   "outputs": [],
   "source": [
    "name = 'most_purchased_last_two_weeks'\n",
    "sub = sample_sub.copy()\n",
    "per_customer_predictions = ' '.join(transactions[leading_up_2_weeks]['article_id'].value_counts().index.tolist()[:12])\n",
    "sub['prediction'] = [per_customer_predictions]*sub.shape[0]"
   ]
  },
  {
   "cell_type": "code",
   "execution_count": 239,
   "id": "be0fbe6a",
   "metadata": {},
   "outputs": [],
   "source": [
    "!mkdir -p data/subs"
   ]
  },
  {
   "cell_type": "code",
   "execution_count": 254,
   "id": "9e336819",
   "metadata": {},
   "outputs": [
    {
     "data": {
      "text/html": [
       "<div>\n",
       "<style scoped>\n",
       "    .dataframe tbody tr th:only-of-type {\n",
       "        vertical-align: middle;\n",
       "    }\n",
       "\n",
       "    .dataframe tbody tr th {\n",
       "        vertical-align: top;\n",
       "    }\n",
       "\n",
       "    .dataframe thead th {\n",
       "        text-align: right;\n",
       "    }\n",
       "</style>\n",
       "<table border=\"1\" class=\"dataframe\">\n",
       "  <thead>\n",
       "    <tr style=\"text-align: right;\">\n",
       "      <th></th>\n",
       "      <th>customer_id</th>\n",
       "      <th>prediction</th>\n",
       "    </tr>\n",
       "  </thead>\n",
       "  <tbody>\n",
       "    <tr>\n",
       "      <th>0</th>\n",
       "      <td>00000dbacae5abe5e23885899a1fa44253a17956c6d1c3...</td>\n",
       "      <td>0751471001 0909370001 0915526001 0751471043 04...</td>\n",
       "    </tr>\n",
       "    <tr>\n",
       "      <th>1</th>\n",
       "      <td>0000423b00ade91418cceaf3b26c6af3dd342b51fd051e...</td>\n",
       "      <td>0751471001 0909370001 0915526001 0751471043 04...</td>\n",
       "    </tr>\n",
       "    <tr>\n",
       "      <th>2</th>\n",
       "      <td>000058a12d5b43e67d225668fa1f8d618c13dc232df0ca...</td>\n",
       "      <td>0751471001 0909370001 0915526001 0751471043 04...</td>\n",
       "    </tr>\n",
       "    <tr>\n",
       "      <th>3</th>\n",
       "      <td>00005ca1c9ed5f5146b52ac8639a40ca9d57aeff4d1bd2...</td>\n",
       "      <td>0751471001 0909370001 0915526001 0751471043 04...</td>\n",
       "    </tr>\n",
       "    <tr>\n",
       "      <th>4</th>\n",
       "      <td>00006413d8573cd20ed7128e53b7b13819fe5cfc2d801f...</td>\n",
       "      <td>0751471001 0909370001 0915526001 0751471043 04...</td>\n",
       "    </tr>\n",
       "    <tr>\n",
       "      <th>...</th>\n",
       "      <td>...</td>\n",
       "      <td>...</td>\n",
       "    </tr>\n",
       "    <tr>\n",
       "      <th>1371975</th>\n",
       "      <td>ffffbbf78b6eaac697a8a5dfbfd2bfa8113ee5b403e474...</td>\n",
       "      <td>0751471001 0909370001 0915526001 0751471043 04...</td>\n",
       "    </tr>\n",
       "    <tr>\n",
       "      <th>1371976</th>\n",
       "      <td>ffffcd5046a6143d29a04fb8c424ce494a76e5cdf4fab5...</td>\n",
       "      <td>0751471001 0909370001 0915526001 0751471043 04...</td>\n",
       "    </tr>\n",
       "    <tr>\n",
       "      <th>1371977</th>\n",
       "      <td>ffffcf35913a0bee60e8741cb2b4e78b8a98ee5ff2e6a1...</td>\n",
       "      <td>0751471001 0909370001 0915526001 0751471043 04...</td>\n",
       "    </tr>\n",
       "    <tr>\n",
       "      <th>1371978</th>\n",
       "      <td>ffffd7744cebcf3aca44ae7049d2a94b87074c3d4ffe38...</td>\n",
       "      <td>0751471001 0909370001 0915526001 0751471043 04...</td>\n",
       "    </tr>\n",
       "    <tr>\n",
       "      <th>1371979</th>\n",
       "      <td>ffffd9ac14e89946416d80e791d064701994755c3ab686...</td>\n",
       "      <td>0751471001 0909370001 0915526001 0751471043 04...</td>\n",
       "    </tr>\n",
       "  </tbody>\n",
       "</table>\n",
       "<p>1371980 rows × 2 columns</p>\n",
       "</div>"
      ],
      "text/plain": [
       "                                               customer_id  \\\n",
       "0        00000dbacae5abe5e23885899a1fa44253a17956c6d1c3...   \n",
       "1        0000423b00ade91418cceaf3b26c6af3dd342b51fd051e...   \n",
       "2        000058a12d5b43e67d225668fa1f8d618c13dc232df0ca...   \n",
       "3        00005ca1c9ed5f5146b52ac8639a40ca9d57aeff4d1bd2...   \n",
       "4        00006413d8573cd20ed7128e53b7b13819fe5cfc2d801f...   \n",
       "...                                                    ...   \n",
       "1371975  ffffbbf78b6eaac697a8a5dfbfd2bfa8113ee5b403e474...   \n",
       "1371976  ffffcd5046a6143d29a04fb8c424ce494a76e5cdf4fab5...   \n",
       "1371977  ffffcf35913a0bee60e8741cb2b4e78b8a98ee5ff2e6a1...   \n",
       "1371978  ffffd7744cebcf3aca44ae7049d2a94b87074c3d4ffe38...   \n",
       "1371979  ffffd9ac14e89946416d80e791d064701994755c3ab686...   \n",
       "\n",
       "                                                prediction  \n",
       "0        0751471001 0909370001 0915526001 0751471043 04...  \n",
       "1        0751471001 0909370001 0915526001 0751471043 04...  \n",
       "2        0751471001 0909370001 0915526001 0751471043 04...  \n",
       "3        0751471001 0909370001 0915526001 0751471043 04...  \n",
       "4        0751471001 0909370001 0915526001 0751471043 04...  \n",
       "...                                                    ...  \n",
       "1371975  0751471001 0909370001 0915526001 0751471043 04...  \n",
       "1371976  0751471001 0909370001 0915526001 0751471043 04...  \n",
       "1371977  0751471001 0909370001 0915526001 0751471043 04...  \n",
       "1371978  0751471001 0909370001 0915526001 0751471043 04...  \n",
       "1371979  0751471001 0909370001 0915526001 0751471043 04...  \n",
       "\n",
       "[1371980 rows x 2 columns]"
      ]
     },
     "execution_count": 254,
     "metadata": {},
     "output_type": "execute_result"
    }
   ],
   "source": [
    "sub.to_csv(f'data/subs/{name}.csv.gz', index=False, compression='gzip')\n",
    "pd.read_csv(f'data/subs/{name}.csv.gz')"
   ]
  },
  {
   "cell_type": "code",
   "execution_count": 246,
   "id": "2b9ffec0",
   "metadata": {},
   "outputs": [
    {
     "name": "stdout",
     "output_type": "stream",
     "text": [
      "100%|██████████████████████████████████████| 50.3M/50.3M [00:25<00:00, 2.05MB/s]\n",
      "Successfully submitted to H&M Personalized Fashion Recommendations"
     ]
    }
   ],
   "source": [
    "!kaggle competitions submit -c h-and-m-personalized-fashion-recommendations -f data/subs/{name}.csv.gz -m \"{name}\""
   ]
  },
  {
   "cell_type": "markdown",
   "id": "dc6e71a4",
   "metadata": {},
   "source": [
    "And now looking roughly a quarter back."
   ]
  },
  {
   "cell_type": "code",
   "execution_count": 247,
   "id": "d54292c0",
   "metadata": {},
   "outputs": [],
   "source": [
    "name = 'most_purchased_3_mths_ago_two_weeks'\n",
    "sub = sample_sub.copy()\n",
    "per_customer_predictions = ' '.join(transactions[a_quarter_ago_2_weeks]['article_id'].value_counts().index.tolist()[:12])\n",
    "sub['prediction'] = [per_customer_predictions]*sub.shape[0]"
   ]
  },
  {
   "cell_type": "code",
   "execution_count": 249,
   "id": "8c35d851",
   "metadata": {},
   "outputs": [
    {
     "data": {
      "text/html": [
       "<div>\n",
       "<style scoped>\n",
       "    .dataframe tbody tr th:only-of-type {\n",
       "        vertical-align: middle;\n",
       "    }\n",
       "\n",
       "    .dataframe tbody tr th {\n",
       "        vertical-align: top;\n",
       "    }\n",
       "\n",
       "    .dataframe thead th {\n",
       "        text-align: right;\n",
       "    }\n",
       "</style>\n",
       "<table border=\"1\" class=\"dataframe\">\n",
       "  <thead>\n",
       "    <tr style=\"text-align: right;\">\n",
       "      <th></th>\n",
       "      <th>customer_id</th>\n",
       "      <th>prediction</th>\n",
       "    </tr>\n",
       "  </thead>\n",
       "  <tbody>\n",
       "    <tr>\n",
       "      <th>0</th>\n",
       "      <td>00000dbacae5abe5e23885899a1fa44253a17956c6d1c3...</td>\n",
       "      <td>0817472002 0599580038 0599580052 0817472005 03...</td>\n",
       "    </tr>\n",
       "    <tr>\n",
       "      <th>1</th>\n",
       "      <td>0000423b00ade91418cceaf3b26c6af3dd342b51fd051e...</td>\n",
       "      <td>0817472002 0599580038 0599580052 0817472005 03...</td>\n",
       "    </tr>\n",
       "    <tr>\n",
       "      <th>2</th>\n",
       "      <td>000058a12d5b43e67d225668fa1f8d618c13dc232df0ca...</td>\n",
       "      <td>0817472002 0599580038 0599580052 0817472005 03...</td>\n",
       "    </tr>\n",
       "    <tr>\n",
       "      <th>3</th>\n",
       "      <td>00005ca1c9ed5f5146b52ac8639a40ca9d57aeff4d1bd2...</td>\n",
       "      <td>0817472002 0599580038 0599580052 0817472005 03...</td>\n",
       "    </tr>\n",
       "    <tr>\n",
       "      <th>4</th>\n",
       "      <td>00006413d8573cd20ed7128e53b7b13819fe5cfc2d801f...</td>\n",
       "      <td>0817472002 0599580038 0599580052 0817472005 03...</td>\n",
       "    </tr>\n",
       "    <tr>\n",
       "      <th>...</th>\n",
       "      <td>...</td>\n",
       "      <td>...</td>\n",
       "    </tr>\n",
       "    <tr>\n",
       "      <th>1371975</th>\n",
       "      <td>ffffbbf78b6eaac697a8a5dfbfd2bfa8113ee5b403e474...</td>\n",
       "      <td>0817472002 0599580038 0599580052 0817472005 03...</td>\n",
       "    </tr>\n",
       "    <tr>\n",
       "      <th>1371976</th>\n",
       "      <td>ffffcd5046a6143d29a04fb8c424ce494a76e5cdf4fab5...</td>\n",
       "      <td>0817472002 0599580038 0599580052 0817472005 03...</td>\n",
       "    </tr>\n",
       "    <tr>\n",
       "      <th>1371977</th>\n",
       "      <td>ffffcf35913a0bee60e8741cb2b4e78b8a98ee5ff2e6a1...</td>\n",
       "      <td>0817472002 0599580038 0599580052 0817472005 03...</td>\n",
       "    </tr>\n",
       "    <tr>\n",
       "      <th>1371978</th>\n",
       "      <td>ffffd7744cebcf3aca44ae7049d2a94b87074c3d4ffe38...</td>\n",
       "      <td>0817472002 0599580038 0599580052 0817472005 03...</td>\n",
       "    </tr>\n",
       "    <tr>\n",
       "      <th>1371979</th>\n",
       "      <td>ffffd9ac14e89946416d80e791d064701994755c3ab686...</td>\n",
       "      <td>0817472002 0599580038 0599580052 0817472005 03...</td>\n",
       "    </tr>\n",
       "  </tbody>\n",
       "</table>\n",
       "<p>1371980 rows × 2 columns</p>\n",
       "</div>"
      ],
      "text/plain": [
       "                                               customer_id  \\\n",
       "0        00000dbacae5abe5e23885899a1fa44253a17956c6d1c3...   \n",
       "1        0000423b00ade91418cceaf3b26c6af3dd342b51fd051e...   \n",
       "2        000058a12d5b43e67d225668fa1f8d618c13dc232df0ca...   \n",
       "3        00005ca1c9ed5f5146b52ac8639a40ca9d57aeff4d1bd2...   \n",
       "4        00006413d8573cd20ed7128e53b7b13819fe5cfc2d801f...   \n",
       "...                                                    ...   \n",
       "1371975  ffffbbf78b6eaac697a8a5dfbfd2bfa8113ee5b403e474...   \n",
       "1371976  ffffcd5046a6143d29a04fb8c424ce494a76e5cdf4fab5...   \n",
       "1371977  ffffcf35913a0bee60e8741cb2b4e78b8a98ee5ff2e6a1...   \n",
       "1371978  ffffd7744cebcf3aca44ae7049d2a94b87074c3d4ffe38...   \n",
       "1371979  ffffd9ac14e89946416d80e791d064701994755c3ab686...   \n",
       "\n",
       "                                                prediction  \n",
       "0        0817472002 0599580038 0599580052 0817472005 03...  \n",
       "1        0817472002 0599580038 0599580052 0817472005 03...  \n",
       "2        0817472002 0599580038 0599580052 0817472005 03...  \n",
       "3        0817472002 0599580038 0599580052 0817472005 03...  \n",
       "4        0817472002 0599580038 0599580052 0817472005 03...  \n",
       "...                                                    ...  \n",
       "1371975  0817472002 0599580038 0599580052 0817472005 03...  \n",
       "1371976  0817472002 0599580038 0599580052 0817472005 03...  \n",
       "1371977  0817472002 0599580038 0599580052 0817472005 03...  \n",
       "1371978  0817472002 0599580038 0599580052 0817472005 03...  \n",
       "1371979  0817472002 0599580038 0599580052 0817472005 03...  \n",
       "\n",
       "[1371980 rows x 2 columns]"
      ]
     },
     "execution_count": 249,
     "metadata": {},
     "output_type": "execute_result"
    }
   ],
   "source": [
    "sub.to_csv(f'data/subs/{name}.csv.gz', index=False, compression='gzip')\n",
    "pd.read_csv(f'data/subs/{name}.csv.gz')"
   ]
  },
  {
   "cell_type": "code",
   "execution_count": 252,
   "id": "534d847d",
   "metadata": {},
   "outputs": [
    {
     "name": "stdout",
     "output_type": "stream",
     "text": [
      "100%|██████████████████████████████████████| 50.3M/50.3M [00:22<00:00, 2.30MB/s]\n",
      "Successfully submitted to H&M Personalized Fashion Recommendations"
     ]
    }
   ],
   "source": [
    "!kaggle competitions submit -c h-and-m-personalized-fashion-recommendations -f data/subs/{name}.csv.gz -m \"{name}\""
   ]
  }
 ],
 "metadata": {
  "kernelspec": {
   "display_name": "Python 3",
   "language": "python",
   "name": "python3"
  },
  "language_info": {
   "codemirror_mode": {
    "name": "ipython",
    "version": 3
   },
   "file_extension": ".py",
   "mimetype": "text/x-python",
   "name": "python",
   "nbconvert_exporter": "python",
   "pygments_lexer": "ipython3",
   "version": "3.8.8"
  }
 },
 "nbformat": 4,
 "nbformat_minor": 5
}
