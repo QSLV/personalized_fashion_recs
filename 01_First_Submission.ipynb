{
 "cells": [
  {
   "cell_type": "markdown",
   "id": "b4b7f26a",
   "metadata": {},
   "source": [
    "We will start with a simple baseline.\n",
    "\n",
    "The idea here is to get a feel for what this very simple approach can achieve.\n",
    "\n",
    "Further to that, we want to start getting our feet wet with the data, learning about the problem domain, get the logistics in place for making a sumission and so forth."
   ]
  },
  {
   "cell_type": "markdown",
   "id": "b874597c",
   "metadata": {},
   "source": [
    "# First Submission"
   ]
  },
  {
   "cell_type": "markdown",
   "id": "f19c0f02",
   "metadata": {},
   "source": [
    "The period of interest for this competition is one week **after** the train data.\n",
    "\n",
    "I imagine trends are quite important when it comes to fashion. Let's try to verify this assumption as we work on our first submission.\n",
    "\n",
    "On our path to our first submission we will create a validation set (we will use the last week of the train data for this).\n",
    "\n",
    "Our two sets of predictions, that we will submit to Kaggle, will be the most popular items purchased in the 2 weeks leading up to the period of our validation dataset, and the most popular items purchased 3 months earlier.\n",
    "\n",
    "We will learn a little bit about trends by following this strategy. What is probably more important at this point, we will also learn whether our validatio set tracks the public LB."
   ]
  },
  {
   "cell_type": "code",
   "execution_count": 12,
   "id": "5ded00f1",
   "metadata": {},
   "outputs": [],
   "source": [
    "import pandas as pd"
   ]
  },
  {
   "cell_type": "code",
   "execution_count": 213,
   "id": "89a9a397",
   "metadata": {},
   "outputs": [],
   "source": [
    "transactions = pd.read_csv('data/transactions_train.csv', dtype={'article_id': str})\n",
    "sample_sub = pd.read_csv('data/sample_submission.csv')"
   ]
  },
  {
   "cell_type": "code",
   "execution_count": 215,
   "id": "8358143d",
   "metadata": {},
   "outputs": [],
   "source": [
    "transactions.t_dat = pd.to_datetime(transactions.t_dat)"
   ]
  },
  {
   "cell_type": "code",
   "execution_count": 41,
   "id": "a3ee8300",
   "metadata": {},
   "outputs": [
    {
     "data": {
      "text/plain": [
       "Timestamp('2020-09-22 00:00:00')"
      ]
     },
     "execution_count": 41,
     "metadata": {},
     "output_type": "execute_result"
    }
   ],
   "source": [
    "newest_entry = transactions.t_dat.max()\n",
    "newest_entry"
   ]
  },
  {
   "cell_type": "code",
   "execution_count": 42,
   "id": "54240f30",
   "metadata": {},
   "outputs": [],
   "source": [
    "import datetime"
   ]
  },
  {
   "cell_type": "code",
   "execution_count": 44,
   "id": "1aecced5",
   "metadata": {},
   "outputs": [],
   "source": [
    "last_7_days = transactions.t_dat > newest_entry - datetime.timedelta(days=7)"
   ]
  },
  {
   "cell_type": "code",
   "execution_count": 48,
   "id": "67555b37",
   "metadata": {},
   "outputs": [],
   "source": [
    "leading_up_2_weeks =  (transactions.t_dat < newest_entry - datetime.timedelta(days=7)) & (transactions.t_dat > newest_entry - datetime.timedelta(days=21)) "
   ]
  },
  {
   "cell_type": "code",
   "execution_count": 49,
   "id": "af1397d0",
   "metadata": {},
   "outputs": [],
   "source": [
    "a_quarter_ago_2_weeks =  (transactions.t_dat < newest_entry - datetime.timedelta(days=7+30*3)) & (transactions.t_dat > newest_entry - datetime.timedelta(days=21+30*3)) "
   ]
  },
  {
   "cell_type": "markdown",
   "id": "f8ff51d2",
   "metadata": {},
   "source": [
    "We have the time ranges for our validation dataset and the two \"train sets\". But how do we go from the transactions in the validation time period to something we can use to evaluate our predictions?\n",
    "\n",
    "For every customer that has made a purchase in the period of interest we will use their purchases as our ground truth in chronological order. If fewer than 12 purchases were made, we will pad the list with 0s. "
   ]
  },
  {
   "cell_type": "code",
   "execution_count": 220,
   "id": "22752114",
   "metadata": {},
   "outputs": [],
   "source": [
    "cust_id = []\n",
    "purchases = []\n",
    "\n",
    "for grp in transactions[last_7_days].groupby('customer_id'):\n",
    "    cust_purchases = grp[1]['article_id'].tolist()[:12]\n",
    "    while len(cust_purchases) < 12:\n",
    "        cust_purchases.append('0')\n",
    "    cust_id.append(grp[0])\n",
    "    purchases.append(cust_purchases)"
   ]
  },
  {
   "cell_type": "code",
   "execution_count": 221,
   "id": "a7c57588",
   "metadata": {},
   "outputs": [
    {
     "data": {
      "text/plain": [
       "(68984, 68984)"
      ]
     },
     "execution_count": 221,
     "metadata": {},
     "output_type": "execute_result"
    }
   ],
   "source": [
    "len(cust_id), len(purchases)"
   ]
  },
  {
   "cell_type": "code",
   "execution_count": 222,
   "id": "33ef3825",
   "metadata": {},
   "outputs": [],
   "source": [
    "validation_set = pd.DataFrame(data={'customer_id': cust_id, 'purchases': purchases})\n",
    "validation_set.to_pickle('data/validation_set.pkl')"
   ]
  },
  {
   "cell_type": "markdown",
   "id": "85f32a3d",
   "metadata": {},
   "source": [
    "Now let's \"calculate\" our predictions."
   ]
  },
  {
   "cell_type": "code",
   "execution_count": 223,
   "id": "645f17cb",
   "metadata": {},
   "outputs": [],
   "source": [
    "predictions_leading_2_weeks = validation_set.copy()\n",
    "predictions_leading_2_weeks['purchases'] = [transactions[leading_up_2_weeks]['article_id'].value_counts().index.tolist()[:12]]*68984"
   ]
  },
  {
   "cell_type": "markdown",
   "id": "7c065e3a",
   "metadata": {},
   "source": [
    "We can grab the code to run the metric calculation directly from github."
   ]
  },
  {
   "cell_type": "code",
   "execution_count": 1,
   "id": "7812b597",
   "metadata": {},
   "outputs": [
    {
     "name": "stdout",
     "output_type": "stream",
     "text": [
      "--2022-02-14 09:58:00--  https://raw.githubusercontent.com/benhamner/Metrics/master/Python/ml_metrics/average_precision.py\n",
      "Resolving raw.githubusercontent.com (raw.githubusercontent.com)... 185.199.111.133, 185.199.110.133, 185.199.108.133, ...\n",
      "Connecting to raw.githubusercontent.com (raw.githubusercontent.com)|185.199.111.133|:443... connected.\n",
      "HTTP request sent, awaiting response... 200 OK\n",
      "Length: 1654 (1.6K) [text/plain]\n",
      "Saving to: ‘average_precision.py’\n",
      "\n",
      "average_precision.p 100%[===================>]   1.62K  --.-KB/s    in 0s      \n",
      "\n",
      "2022-02-14 09:58:01 (60.0 MB/s) - ‘average_precision.py’ saved [1654/1654]\n",
      "\n"
     ]
    }
   ],
   "source": [
    "!wget https://raw.githubusercontent.com/benhamner/Metrics/master/Python/ml_metrics/average_precision.py"
   ]
  },
  {
   "cell_type": "code",
   "execution_count": 182,
   "id": "f2a6713d",
   "metadata": {},
   "outputs": [],
   "source": [
    "from average_precision import apk"
   ]
  },
  {
   "cell_type": "code",
   "execution_count": 185,
   "id": "2ea27d51",
   "metadata": {},
   "outputs": [],
   "source": [
    "import numpy as np\n",
    "\n",
    "def calculate_apk(list_of_preds, list_of_gts):\n",
    "    apks = []\n",
    "    for preds, gt in zip(list_of_preds, list_of_gts):\n",
    "        apks.append(apk(preds, gt))\n",
    "    return np.mean(apks)"
   ]
  },
  {
   "cell_type": "markdown",
   "id": "cff4973a",
   "metadata": {},
   "source": [
    "And how did we do?"
   ]
  },
  {
   "cell_type": "code",
   "execution_count": 224,
   "id": "ae71ea5a",
   "metadata": {},
   "outputs": [
    {
     "data": {
      "text/plain": [
       "0.0036434351466822766"
      ]
     },
     "execution_count": 224,
     "metadata": {},
     "output_type": "execute_result"
    }
   ],
   "source": [
    "calculate_apk(predictions_leading_2_weeks.purchases, validation_set.purchases)"
   ]
  },
  {
   "cell_type": "markdown",
   "id": "4808afda",
   "metadata": {},
   "source": [
    "Not ideal but it is a start! :) "
   ]
  },
  {
   "cell_type": "markdown",
   "id": "1bf6ce8b",
   "metadata": {},
   "source": [
    "Now, let's do the same but using data from rouhly three months prior."
   ]
  },
  {
   "cell_type": "code",
   "execution_count": 225,
   "id": "18b5a6d0",
   "metadata": {},
   "outputs": [],
   "source": [
    "predictions_a_quarter_ago_2_weeks = validation_set.copy()\n",
    "predictions_a_quarter_ago_2_weeks['purchases'] = [transactions[a_quarter_ago_2_weeks]['article_id'].value_counts().index.tolist()[:12]]*68984"
   ]
  },
  {
   "cell_type": "code",
   "execution_count": 226,
   "id": "0698fe05",
   "metadata": {},
   "outputs": [
    {
     "data": {
      "text/plain": [
       "0.00044962634537753403"
      ]
     },
     "execution_count": 226,
     "metadata": {},
     "output_type": "execute_result"
    }
   ],
   "source": [
    "calculate_apk(predictions_a_quarter_ago_2_weeks.purchases, validation_set.purchases)"
   ]
  },
  {
   "cell_type": "markdown",
   "id": "c0626b62",
   "metadata": {},
   "source": [
    "As it turns out, there might be some tranding/seasonality to fashion purchase patterns!\n",
    "\n",
    "Now let's see if we can make a submission using both sets of these predictions."
   ]
  },
  {
   "cell_type": "code",
   "execution_count": 242,
   "id": "b988699a",
   "metadata": {},
   "outputs": [],
   "source": [
    "name = 'most_purchased_last_two_weeks'\n",
    "sub = sample_sub.copy()\n",
    "per_customer_predictions = ' '.join(transactions[leading_up_2_weeks]['article_id'].value_counts().index.tolist()[:12])\n",
    "sub['prediction'] = [per_customer_predictions]*sub.shape[0]"
   ]
  },
  {
   "cell_type": "code",
   "execution_count": 239,
   "id": "51683576",
   "metadata": {},
   "outputs": [],
   "source": [
    "!mkdir -p data/subs"
   ]
  },
  {
   "cell_type": "code",
   "execution_count": null,
   "id": "81005bdf",
   "metadata": {},
   "outputs": [],
   "source": [
    "sub.to_csv(f'data/subs/{name}.csv.gz', index=False, compression='gzip')\n",
    "pd.read_csv(f'data/subs/{name}.csv.gz')"
   ]
  },
  {
   "cell_type": "code",
   "execution_count": 246,
   "id": "e0ffad51",
   "metadata": {},
   "outputs": [
    {
     "name": "stdout",
     "output_type": "stream",
     "text": [
      "100%|██████████████████████████████████████| 50.3M/50.3M [00:25<00:00, 2.05MB/s]\n",
      "Successfully submitted to H&M Personalized Fashion Recommendations"
     ]
    }
   ],
   "source": [
    "!kaggle competitions submit -c h-and-m-personalized-fashion-recommendations -f data/subs/{name}.csv.gz -m \"{name}\""
   ]
  },
  {
   "cell_type": "markdown",
   "id": "43143223",
   "metadata": {},
   "source": [
    "And now looking roughly a quarter back."
   ]
  },
  {
   "cell_type": "code",
   "execution_count": 247,
   "id": "b2758958",
   "metadata": {},
   "outputs": [],
   "source": [
    "name = 'most_purchased_3_mths_ago_two_weeks'\n",
    "sub = sample_sub.copy()\n",
    "per_customer_predictions = ' '.join(transactions[a_quarter_ago_2_weeks]['article_id'].value_counts().index.tolist()[:12])\n",
    "sub['prediction'] = [per_customer_predictions]*sub.shape[0]"
   ]
  },
  {
   "cell_type": "code",
   "execution_count": null,
   "id": "69ad52a1",
   "metadata": {},
   "outputs": [],
   "source": []
  },
  {
   "cell_type": "code",
   "execution_count": null,
   "id": "a7b2c6d2",
   "metadata": {},
   "outputs": [],
   "source": []
  },
  {
   "cell_type": "code",
   "execution_count": 130,
   "id": "19a24193",
   "metadata": {},
   "outputs": [
    {
     "data": {
      "text/plain": [
       "0.1111111111111111"
      ]
     },
     "execution_count": 130,
     "metadata": {},
     "output_type": "execute_result"
    }
   ],
   "source": [
    "apk([1,2,3], [0,0,1], 12)"
   ]
  },
  {
   "cell_type": "code",
   "execution_count": 125,
   "id": "ddaccb33",
   "metadata": {},
   "outputs": [
    {
     "data": {
      "text/html": [
       "<div>\n",
       "<style scoped>\n",
       "    .dataframe tbody tr th:only-of-type {\n",
       "        vertical-align: middle;\n",
       "    }\n",
       "\n",
       "    .dataframe tbody tr th {\n",
       "        vertical-align: top;\n",
       "    }\n",
       "\n",
       "    .dataframe thead th {\n",
       "        text-align: right;\n",
       "    }\n",
       "</style>\n",
       "<table border=\"1\" class=\"dataframe\">\n",
       "  <thead>\n",
       "    <tr style=\"text-align: right;\">\n",
       "      <th></th>\n",
       "      <th>customer_id</th>\n",
       "      <th>ground_truth</th>\n",
       "    </tr>\n",
       "  </thead>\n",
       "  <tbody>\n",
       "    <tr>\n",
       "      <th>0</th>\n",
       "      <td>00039306476aaf41a07fed942884f16b30abfa83a2a8be...</td>\n",
       "      <td>[624486001, 0, 0, 0, 0, 0, 0, 0, 0, 0, 0, 0]</td>\n",
       "    </tr>\n",
       "    <tr>\n",
       "      <th>1</th>\n",
       "      <td>0003e867a930d0d6842f923d6ba7c9b77aba33fe2a0fbf...</td>\n",
       "      <td>[827487003, 0, 0, 0, 0, 0, 0, 0, 0, 0, 0, 0]</td>\n",
       "    </tr>\n",
       "    <tr>\n",
       "      <th>2</th>\n",
       "      <td>000493dd9fc463df1acc2081450c9e75ef8e87d5dd17ed...</td>\n",
       "      <td>[757926001, 788575004, 640021019, 0, 0, 0, 0, ...</td>\n",
       "    </tr>\n",
       "    <tr>\n",
       "      <th>3</th>\n",
       "      <td>000525e3fe01600d717da8423643a8303390a055c578ed...</td>\n",
       "      <td>[874110016, 0, 0, 0, 0, 0, 0, 0, 0, 0, 0, 0]</td>\n",
       "    </tr>\n",
       "    <tr>\n",
       "      <th>4</th>\n",
       "      <td>00077dbd5c4a4991e092e63893ccf29294a9d5c46e8501...</td>\n",
       "      <td>[903762001, 879189005, 158340001, 867966009, 9...</td>\n",
       "    </tr>\n",
       "    <tr>\n",
       "      <th>...</th>\n",
       "      <td>...</td>\n",
       "      <td>...</td>\n",
       "    </tr>\n",
       "    <tr>\n",
       "      <th>68979</th>\n",
       "      <td>fffa67737587e52ff1afa9c7c6490b5eb7acbc439fe82b...</td>\n",
       "      <td>[874816003, 911870004, 0, 0, 0, 0, 0, 0, 0, 0,...</td>\n",
       "    </tr>\n",
       "    <tr>\n",
       "      <th>68980</th>\n",
       "      <td>fffa7d7799eb390a76308454cbdd76e473d65b1497fbe4...</td>\n",
       "      <td>[861803014, 849886010, 0, 0, 0, 0, 0, 0, 0, 0,...</td>\n",
       "    </tr>\n",
       "    <tr>\n",
       "      <th>68981</th>\n",
       "      <td>fffae8eb3a282d8c43c77dd2ca0621703b71e90904dfde...</td>\n",
       "      <td>[396135007, 817472007, 715624050, 817472003, 8...</td>\n",
       "    </tr>\n",
       "    <tr>\n",
       "      <th>68982</th>\n",
       "      <td>fffd870c6324ad3bda24e4d6aeae221c199479086bfdfd...</td>\n",
       "      <td>[750423010, 761269001, 0, 0, 0, 0, 0, 0, 0, 0,...</td>\n",
       "    </tr>\n",
       "    <tr>\n",
       "      <th>68983</th>\n",
       "      <td>fffef3b6b73545df065b521e19f64bf6fe93bfd450ab20...</td>\n",
       "      <td>[898573003, 0, 0, 0, 0, 0, 0, 0, 0, 0, 0, 0]</td>\n",
       "    </tr>\n",
       "  </tbody>\n",
       "</table>\n",
       "<p>68984 rows × 2 columns</p>\n",
       "</div>"
      ],
      "text/plain": [
       "                                             customer_id  \\\n",
       "0      00039306476aaf41a07fed942884f16b30abfa83a2a8be...   \n",
       "1      0003e867a930d0d6842f923d6ba7c9b77aba33fe2a0fbf...   \n",
       "2      000493dd9fc463df1acc2081450c9e75ef8e87d5dd17ed...   \n",
       "3      000525e3fe01600d717da8423643a8303390a055c578ed...   \n",
       "4      00077dbd5c4a4991e092e63893ccf29294a9d5c46e8501...   \n",
       "...                                                  ...   \n",
       "68979  fffa67737587e52ff1afa9c7c6490b5eb7acbc439fe82b...   \n",
       "68980  fffa7d7799eb390a76308454cbdd76e473d65b1497fbe4...   \n",
       "68981  fffae8eb3a282d8c43c77dd2ca0621703b71e90904dfde...   \n",
       "68982  fffd870c6324ad3bda24e4d6aeae221c199479086bfdfd...   \n",
       "68983  fffef3b6b73545df065b521e19f64bf6fe93bfd450ab20...   \n",
       "\n",
       "                                            ground_truth  \n",
       "0           [624486001, 0, 0, 0, 0, 0, 0, 0, 0, 0, 0, 0]  \n",
       "1           [827487003, 0, 0, 0, 0, 0, 0, 0, 0, 0, 0, 0]  \n",
       "2      [757926001, 788575004, 640021019, 0, 0, 0, 0, ...  \n",
       "3           [874110016, 0, 0, 0, 0, 0, 0, 0, 0, 0, 0, 0]  \n",
       "4      [903762001, 879189005, 158340001, 867966009, 9...  \n",
       "...                                                  ...  \n",
       "68979  [874816003, 911870004, 0, 0, 0, 0, 0, 0, 0, 0,...  \n",
       "68980  [861803014, 849886010, 0, 0, 0, 0, 0, 0, 0, 0,...  \n",
       "68981  [396135007, 817472007, 715624050, 817472003, 8...  \n",
       "68982  [750423010, 761269001, 0, 0, 0, 0, 0, 0, 0, 0,...  \n",
       "68983       [898573003, 0, 0, 0, 0, 0, 0, 0, 0, 0, 0, 0]  \n",
       "\n",
       "[68984 rows x 2 columns]"
      ]
     },
     "execution_count": 125,
     "metadata": {},
     "output_type": "execute_result"
    }
   ],
   "source": [
    "validation_set"
   ]
  },
  {
   "cell_type": "code",
   "execution_count": 117,
   "id": "a5c75cc1",
   "metadata": {},
   "outputs": [
    {
     "data": {
      "text/html": [
       "<div>\n",
       "<style scoped>\n",
       "    .dataframe tbody tr th:only-of-type {\n",
       "        vertical-align: middle;\n",
       "    }\n",
       "\n",
       "    .dataframe tbody tr th {\n",
       "        vertical-align: top;\n",
       "    }\n",
       "\n",
       "    .dataframe thead th {\n",
       "        text-align: right;\n",
       "    }\n",
       "</style>\n",
       "<table border=\"1\" class=\"dataframe\">\n",
       "  <thead>\n",
       "    <tr style=\"text-align: right;\">\n",
       "      <th></th>\n",
       "      <th>customer_id</th>\n",
       "      <th>prediction</th>\n",
       "    </tr>\n",
       "  </thead>\n",
       "  <tbody>\n",
       "    <tr>\n",
       "      <th>0</th>\n",
       "      <td>00000dbacae5abe5e23885899a1fa44253a17956c6d1c3...</td>\n",
       "      <td>0706016001 0706016002 0372860001 0610776002 07...</td>\n",
       "    </tr>\n",
       "    <tr>\n",
       "      <th>1</th>\n",
       "      <td>0000423b00ade91418cceaf3b26c6af3dd342b51fd051e...</td>\n",
       "      <td>0706016001 0706016002 0372860001 0610776002 07...</td>\n",
       "    </tr>\n",
       "    <tr>\n",
       "      <th>2</th>\n",
       "      <td>000058a12d5b43e67d225668fa1f8d618c13dc232df0ca...</td>\n",
       "      <td>0706016001 0706016002 0372860001 0610776002 07...</td>\n",
       "    </tr>\n",
       "    <tr>\n",
       "      <th>3</th>\n",
       "      <td>00005ca1c9ed5f5146b52ac8639a40ca9d57aeff4d1bd2...</td>\n",
       "      <td>0706016001 0706016002 0372860001 0610776002 07...</td>\n",
       "    </tr>\n",
       "    <tr>\n",
       "      <th>4</th>\n",
       "      <td>00006413d8573cd20ed7128e53b7b13819fe5cfc2d801f...</td>\n",
       "      <td>0706016001 0706016002 0372860001 0610776002 07...</td>\n",
       "    </tr>\n",
       "    <tr>\n",
       "      <th>...</th>\n",
       "      <td>...</td>\n",
       "      <td>...</td>\n",
       "    </tr>\n",
       "    <tr>\n",
       "      <th>1371975</th>\n",
       "      <td>ffffbbf78b6eaac697a8a5dfbfd2bfa8113ee5b403e474...</td>\n",
       "      <td>0706016001 0706016002 0372860001 0610776002 07...</td>\n",
       "    </tr>\n",
       "    <tr>\n",
       "      <th>1371976</th>\n",
       "      <td>ffffcd5046a6143d29a04fb8c424ce494a76e5cdf4fab5...</td>\n",
       "      <td>0706016001 0706016002 0372860001 0610776002 07...</td>\n",
       "    </tr>\n",
       "    <tr>\n",
       "      <th>1371977</th>\n",
       "      <td>ffffcf35913a0bee60e8741cb2b4e78b8a98ee5ff2e6a1...</td>\n",
       "      <td>0706016001 0706016002 0372860001 0610776002 07...</td>\n",
       "    </tr>\n",
       "    <tr>\n",
       "      <th>1371978</th>\n",
       "      <td>ffffd7744cebcf3aca44ae7049d2a94b87074c3d4ffe38...</td>\n",
       "      <td>0706016001 0706016002 0372860001 0610776002 07...</td>\n",
       "    </tr>\n",
       "    <tr>\n",
       "      <th>1371979</th>\n",
       "      <td>ffffd9ac14e89946416d80e791d064701994755c3ab686...</td>\n",
       "      <td>0706016001 0706016002 0372860001 0610776002 07...</td>\n",
       "    </tr>\n",
       "  </tbody>\n",
       "</table>\n",
       "<p>1371980 rows × 2 columns</p>\n",
       "</div>"
      ],
      "text/plain": [
       "                                               customer_id  \\\n",
       "0        00000dbacae5abe5e23885899a1fa44253a17956c6d1c3...   \n",
       "1        0000423b00ade91418cceaf3b26c6af3dd342b51fd051e...   \n",
       "2        000058a12d5b43e67d225668fa1f8d618c13dc232df0ca...   \n",
       "3        00005ca1c9ed5f5146b52ac8639a40ca9d57aeff4d1bd2...   \n",
       "4        00006413d8573cd20ed7128e53b7b13819fe5cfc2d801f...   \n",
       "...                                                    ...   \n",
       "1371975  ffffbbf78b6eaac697a8a5dfbfd2bfa8113ee5b403e474...   \n",
       "1371976  ffffcd5046a6143d29a04fb8c424ce494a76e5cdf4fab5...   \n",
       "1371977  ffffcf35913a0bee60e8741cb2b4e78b8a98ee5ff2e6a1...   \n",
       "1371978  ffffd7744cebcf3aca44ae7049d2a94b87074c3d4ffe38...   \n",
       "1371979  ffffd9ac14e89946416d80e791d064701994755c3ab686...   \n",
       "\n",
       "                                                prediction  \n",
       "0        0706016001 0706016002 0372860001 0610776002 07...  \n",
       "1        0706016001 0706016002 0372860001 0610776002 07...  \n",
       "2        0706016001 0706016002 0372860001 0610776002 07...  \n",
       "3        0706016001 0706016002 0372860001 0610776002 07...  \n",
       "4        0706016001 0706016002 0372860001 0610776002 07...  \n",
       "...                                                    ...  \n",
       "1371975  0706016001 0706016002 0372860001 0610776002 07...  \n",
       "1371976  0706016001 0706016002 0372860001 0610776002 07...  \n",
       "1371977  0706016001 0706016002 0372860001 0610776002 07...  \n",
       "1371978  0706016001 0706016002 0372860001 0610776002 07...  \n",
       "1371979  0706016001 0706016002 0372860001 0610776002 07...  \n",
       "\n",
       "[1371980 rows x 2 columns]"
      ]
     },
     "execution_count": 117,
     "metadata": {},
     "output_type": "execute_result"
    }
   ],
   "source": [
    "sample_sub"
   ]
  },
  {
   "cell_type": "code",
   "execution_count": 109,
   "id": "05573bd8",
   "metadata": {},
   "outputs": [
    {
     "data": {
      "text/plain": [
       "[898573003]"
      ]
     },
     "execution_count": 109,
     "metadata": {},
     "output_type": "execute_result"
    }
   ],
   "source": []
  },
  {
   "cell_type": "code",
   "execution_count": 105,
   "id": "dd657a21",
   "metadata": {},
   "outputs": [
    {
     "data": {
      "text/html": [
       "<div>\n",
       "<style scoped>\n",
       "    .dataframe tbody tr th:only-of-type {\n",
       "        vertical-align: middle;\n",
       "    }\n",
       "\n",
       "    .dataframe tbody tr th {\n",
       "        vertical-align: top;\n",
       "    }\n",
       "\n",
       "    .dataframe thead th {\n",
       "        text-align: right;\n",
       "    }\n",
       "</style>\n",
       "<table border=\"1\" class=\"dataframe\">\n",
       "  <thead>\n",
       "    <tr style=\"text-align: right;\">\n",
       "      <th></th>\n",
       "      <th>customer_id</th>\n",
       "      <th>prediction</th>\n",
       "    </tr>\n",
       "  </thead>\n",
       "  <tbody>\n",
       "    <tr>\n",
       "      <th>0</th>\n",
       "      <td>00000dbacae5abe5e23885899a1fa44253a17956c6d1c3...</td>\n",
       "      <td>0706016001 0706016002 0372860001 0610776002 07...</td>\n",
       "    </tr>\n",
       "    <tr>\n",
       "      <th>1</th>\n",
       "      <td>0000423b00ade91418cceaf3b26c6af3dd342b51fd051e...</td>\n",
       "      <td>0706016001 0706016002 0372860001 0610776002 07...</td>\n",
       "    </tr>\n",
       "    <tr>\n",
       "      <th>2</th>\n",
       "      <td>000058a12d5b43e67d225668fa1f8d618c13dc232df0ca...</td>\n",
       "      <td>0706016001 0706016002 0372860001 0610776002 07...</td>\n",
       "    </tr>\n",
       "    <tr>\n",
       "      <th>3</th>\n",
       "      <td>00005ca1c9ed5f5146b52ac8639a40ca9d57aeff4d1bd2...</td>\n",
       "      <td>0706016001 0706016002 0372860001 0610776002 07...</td>\n",
       "    </tr>\n",
       "    <tr>\n",
       "      <th>4</th>\n",
       "      <td>00006413d8573cd20ed7128e53b7b13819fe5cfc2d801f...</td>\n",
       "      <td>0706016001 0706016002 0372860001 0610776002 07...</td>\n",
       "    </tr>\n",
       "    <tr>\n",
       "      <th>...</th>\n",
       "      <td>...</td>\n",
       "      <td>...</td>\n",
       "    </tr>\n",
       "    <tr>\n",
       "      <th>1371975</th>\n",
       "      <td>ffffbbf78b6eaac697a8a5dfbfd2bfa8113ee5b403e474...</td>\n",
       "      <td>0706016001 0706016002 0372860001 0610776002 07...</td>\n",
       "    </tr>\n",
       "    <tr>\n",
       "      <th>1371976</th>\n",
       "      <td>ffffcd5046a6143d29a04fb8c424ce494a76e5cdf4fab5...</td>\n",
       "      <td>0706016001 0706016002 0372860001 0610776002 07...</td>\n",
       "    </tr>\n",
       "    <tr>\n",
       "      <th>1371977</th>\n",
       "      <td>ffffcf35913a0bee60e8741cb2b4e78b8a98ee5ff2e6a1...</td>\n",
       "      <td>0706016001 0706016002 0372860001 0610776002 07...</td>\n",
       "    </tr>\n",
       "    <tr>\n",
       "      <th>1371978</th>\n",
       "      <td>ffffd7744cebcf3aca44ae7049d2a94b87074c3d4ffe38...</td>\n",
       "      <td>0706016001 0706016002 0372860001 0610776002 07...</td>\n",
       "    </tr>\n",
       "    <tr>\n",
       "      <th>1371979</th>\n",
       "      <td>ffffd9ac14e89946416d80e791d064701994755c3ab686...</td>\n",
       "      <td>0706016001 0706016002 0372860001 0610776002 07...</td>\n",
       "    </tr>\n",
       "  </tbody>\n",
       "</table>\n",
       "<p>1371980 rows × 2 columns</p>\n",
       "</div>"
      ],
      "text/plain": [
       "                                               customer_id  \\\n",
       "0        00000dbacae5abe5e23885899a1fa44253a17956c6d1c3...   \n",
       "1        0000423b00ade91418cceaf3b26c6af3dd342b51fd051e...   \n",
       "2        000058a12d5b43e67d225668fa1f8d618c13dc232df0ca...   \n",
       "3        00005ca1c9ed5f5146b52ac8639a40ca9d57aeff4d1bd2...   \n",
       "4        00006413d8573cd20ed7128e53b7b13819fe5cfc2d801f...   \n",
       "...                                                    ...   \n",
       "1371975  ffffbbf78b6eaac697a8a5dfbfd2bfa8113ee5b403e474...   \n",
       "1371976  ffffcd5046a6143d29a04fb8c424ce494a76e5cdf4fab5...   \n",
       "1371977  ffffcf35913a0bee60e8741cb2b4e78b8a98ee5ff2e6a1...   \n",
       "1371978  ffffd7744cebcf3aca44ae7049d2a94b87074c3d4ffe38...   \n",
       "1371979  ffffd9ac14e89946416d80e791d064701994755c3ab686...   \n",
       "\n",
       "                                                prediction  \n",
       "0        0706016001 0706016002 0372860001 0610776002 07...  \n",
       "1        0706016001 0706016002 0372860001 0610776002 07...  \n",
       "2        0706016001 0706016002 0372860001 0610776002 07...  \n",
       "3        0706016001 0706016002 0372860001 0610776002 07...  \n",
       "4        0706016001 0706016002 0372860001 0610776002 07...  \n",
       "...                                                    ...  \n",
       "1371975  0706016001 0706016002 0372860001 0610776002 07...  \n",
       "1371976  0706016001 0706016002 0372860001 0610776002 07...  \n",
       "1371977  0706016001 0706016002 0372860001 0610776002 07...  \n",
       "1371978  0706016001 0706016002 0372860001 0610776002 07...  \n",
       "1371979  0706016001 0706016002 0372860001 0610776002 07...  \n",
       "\n",
       "[1371980 rows x 2 columns]"
      ]
     },
     "execution_count": 105,
     "metadata": {},
     "output_type": "execute_result"
    }
   ],
   "source": [
    "sample_sub"
   ]
  },
  {
   "cell_type": "code",
   "execution_count": null,
   "id": "c28f470e",
   "metadata": {},
   "outputs": [],
   "source": []
  },
  {
   "cell_type": "code",
   "execution_count": 98,
   "id": "f068faf9",
   "metadata": {},
   "outputs": [],
   "source": [
    "a = [1,2,3]"
   ]
  },
  {
   "cell_type": "code",
   "execution_count": 102,
   "id": "2a2a8db1",
   "metadata": {},
   "outputs": [
    {
     "ename": "IndexError",
     "evalue": "pop from empty list",
     "output_type": "error",
     "traceback": [
      "\u001b[0;31m---------------------------------------------------------------------------\u001b[0m",
      "\u001b[0;31mIndexError\u001b[0m                                Traceback (most recent call last)",
      "\u001b[0;32m<ipython-input-102-9c070c907602>\u001b[0m in \u001b[0;36m<module>\u001b[0;34m\u001b[0m\n\u001b[0;32m----> 1\u001b[0;31m \u001b[0ma\u001b[0m\u001b[0;34m.\u001b[0m\u001b[0mpop\u001b[0m\u001b[0;34m(\u001b[0m\u001b[0;34m)\u001b[0m\u001b[0;34m\u001b[0m\u001b[0;34m\u001b[0m\u001b[0m\n\u001b[0m",
      "\u001b[0;31mIndexError\u001b[0m: pop from empty list"
     ]
    }
   ],
   "source": [
    "a.pop()"
   ]
  },
  {
   "cell_type": "code",
   "execution_count": 97,
   "id": "3de8c6c4",
   "metadata": {},
   "outputs": [
    {
     "data": {
      "text/plain": [
       "3"
      ]
     },
     "execution_count": 97,
     "metadata": {},
     "output_type": "execute_result"
    }
   ],
   "source": [
    "a.pop()"
   ]
  },
  {
   "cell_type": "code",
   "execution_count": 91,
   "id": "51fbf635",
   "metadata": {},
   "outputs": [
    {
     "data": {
      "text/plain": [
       "[715624010,\n",
       " 717490008,\n",
       " 717490058,\n",
       " 832312002,\n",
       " 856440002,\n",
       " 870328001,\n",
       " 871519008,\n",
       " 873158008,\n",
       " 902388001,\n",
       " 902528006,\n",
       " 927529001,\n",
       " 927957001,\n",
       " 870328002,\n",
       " 932243002]"
      ]
     },
     "execution_count": 91,
     "metadata": {},
     "output_type": "execute_result"
    }
   ],
   "source": []
  },
  {
   "cell_type": "code",
   "execution_count": 88,
   "id": "92fa26ae",
   "metadata": {},
   "outputs": [
    {
     "data": {
      "text/html": [
       "<div>\n",
       "<style scoped>\n",
       "    .dataframe tbody tr th:only-of-type {\n",
       "        vertical-align: middle;\n",
       "    }\n",
       "\n",
       "    .dataframe tbody tr th {\n",
       "        vertical-align: top;\n",
       "    }\n",
       "\n",
       "    .dataframe thead th {\n",
       "        text-align: right;\n",
       "    }\n",
       "</style>\n",
       "<table border=\"1\" class=\"dataframe\">\n",
       "  <thead>\n",
       "    <tr style=\"text-align: right;\">\n",
       "      <th></th>\n",
       "      <th>t_dat</th>\n",
       "      <th>customer_id</th>\n",
       "      <th>article_id</th>\n",
       "      <th>price</th>\n",
       "      <th>sales_channel_id</th>\n",
       "    </tr>\n",
       "  </thead>\n",
       "  <tbody>\n",
       "    <tr>\n",
       "      <th>31755572</th>\n",
       "      <td>2020-09-22</td>\n",
       "      <td>012611429367ef74cb9008dcf0069284501071e90717e5...</td>\n",
       "      <td>871519008</td>\n",
       "      <td>0.033881</td>\n",
       "      <td>2</td>\n",
       "    </tr>\n",
       "    <tr>\n",
       "      <th>31755573</th>\n",
       "      <td>2020-09-22</td>\n",
       "      <td>012611429367ef74cb9008dcf0069284501071e90717e5...</td>\n",
       "      <td>871519008</td>\n",
       "      <td>0.033881</td>\n",
       "      <td>2</td>\n",
       "    </tr>\n",
       "    <tr>\n",
       "      <th>31755574</th>\n",
       "      <td>2020-09-22</td>\n",
       "      <td>012611429367ef74cb9008dcf0069284501071e90717e5...</td>\n",
       "      <td>717490058</td>\n",
       "      <td>0.008458</td>\n",
       "      <td>2</td>\n",
       "    </tr>\n",
       "    <tr>\n",
       "      <th>31755575</th>\n",
       "      <td>2020-09-22</td>\n",
       "      <td>012611429367ef74cb9008dcf0069284501071e90717e5...</td>\n",
       "      <td>717490058</td>\n",
       "      <td>0.008458</td>\n",
       "      <td>2</td>\n",
       "    </tr>\n",
       "    <tr>\n",
       "      <th>31755576</th>\n",
       "      <td>2020-09-22</td>\n",
       "      <td>012611429367ef74cb9008dcf0069284501071e90717e5...</td>\n",
       "      <td>873158008</td>\n",
       "      <td>0.016932</td>\n",
       "      <td>2</td>\n",
       "    </tr>\n",
       "    <tr>\n",
       "      <th>31755577</th>\n",
       "      <td>2020-09-22</td>\n",
       "      <td>012611429367ef74cb9008dcf0069284501071e90717e5...</td>\n",
       "      <td>873158008</td>\n",
       "      <td>0.016932</td>\n",
       "      <td>2</td>\n",
       "    </tr>\n",
       "    <tr>\n",
       "      <th>31755578</th>\n",
       "      <td>2020-09-22</td>\n",
       "      <td>012611429367ef74cb9008dcf0069284501071e90717e5...</td>\n",
       "      <td>717490008</td>\n",
       "      <td>0.008458</td>\n",
       "      <td>2</td>\n",
       "    </tr>\n",
       "    <tr>\n",
       "      <th>31755579</th>\n",
       "      <td>2020-09-22</td>\n",
       "      <td>012611429367ef74cb9008dcf0069284501071e90717e5...</td>\n",
       "      <td>717490008</td>\n",
       "      <td>0.008458</td>\n",
       "      <td>2</td>\n",
       "    </tr>\n",
       "    <tr>\n",
       "      <th>31755580</th>\n",
       "      <td>2020-09-22</td>\n",
       "      <td>012611429367ef74cb9008dcf0069284501071e90717e5...</td>\n",
       "      <td>902388001</td>\n",
       "      <td>0.016932</td>\n",
       "      <td>2</td>\n",
       "    </tr>\n",
       "    <tr>\n",
       "      <th>31755581</th>\n",
       "      <td>2020-09-22</td>\n",
       "      <td>012611429367ef74cb9008dcf0069284501071e90717e5...</td>\n",
       "      <td>902388001</td>\n",
       "      <td>0.016932</td>\n",
       "      <td>2</td>\n",
       "    </tr>\n",
       "    <tr>\n",
       "      <th>31755582</th>\n",
       "      <td>2020-09-22</td>\n",
       "      <td>012611429367ef74cb9008dcf0069284501071e90717e5...</td>\n",
       "      <td>715624010</td>\n",
       "      <td>0.025407</td>\n",
       "      <td>2</td>\n",
       "    </tr>\n",
       "    <tr>\n",
       "      <th>31755583</th>\n",
       "      <td>2020-09-22</td>\n",
       "      <td>012611429367ef74cb9008dcf0069284501071e90717e5...</td>\n",
       "      <td>715624010</td>\n",
       "      <td>0.025407</td>\n",
       "      <td>2</td>\n",
       "    </tr>\n",
       "    <tr>\n",
       "      <th>31755584</th>\n",
       "      <td>2020-09-22</td>\n",
       "      <td>012611429367ef74cb9008dcf0069284501071e90717e5...</td>\n",
       "      <td>832312002</td>\n",
       "      <td>0.067780</td>\n",
       "      <td>2</td>\n",
       "    </tr>\n",
       "    <tr>\n",
       "      <th>31755585</th>\n",
       "      <td>2020-09-22</td>\n",
       "      <td>012611429367ef74cb9008dcf0069284501071e90717e5...</td>\n",
       "      <td>832312002</td>\n",
       "      <td>0.067780</td>\n",
       "      <td>2</td>\n",
       "    </tr>\n",
       "    <tr>\n",
       "      <th>31755586</th>\n",
       "      <td>2020-09-22</td>\n",
       "      <td>012611429367ef74cb9008dcf0069284501071e90717e5...</td>\n",
       "      <td>927957001</td>\n",
       "      <td>0.033881</td>\n",
       "      <td>2</td>\n",
       "    </tr>\n",
       "    <tr>\n",
       "      <th>31755587</th>\n",
       "      <td>2020-09-22</td>\n",
       "      <td>012611429367ef74cb9008dcf0069284501071e90717e5...</td>\n",
       "      <td>927957001</td>\n",
       "      <td>0.033881</td>\n",
       "      <td>2</td>\n",
       "    </tr>\n",
       "    <tr>\n",
       "      <th>31755588</th>\n",
       "      <td>2020-09-22</td>\n",
       "      <td>012611429367ef74cb9008dcf0069284501071e90717e5...</td>\n",
       "      <td>932243002</td>\n",
       "      <td>0.025407</td>\n",
       "      <td>2</td>\n",
       "    </tr>\n",
       "    <tr>\n",
       "      <th>31755589</th>\n",
       "      <td>2020-09-22</td>\n",
       "      <td>012611429367ef74cb9008dcf0069284501071e90717e5...</td>\n",
       "      <td>870328001</td>\n",
       "      <td>0.033881</td>\n",
       "      <td>2</td>\n",
       "    </tr>\n",
       "    <tr>\n",
       "      <th>31755590</th>\n",
       "      <td>2020-09-22</td>\n",
       "      <td>012611429367ef74cb9008dcf0069284501071e90717e5...</td>\n",
       "      <td>870328001</td>\n",
       "      <td>0.033881</td>\n",
       "      <td>2</td>\n",
       "    </tr>\n",
       "    <tr>\n",
       "      <th>31755591</th>\n",
       "      <td>2020-09-22</td>\n",
       "      <td>012611429367ef74cb9008dcf0069284501071e90717e5...</td>\n",
       "      <td>856440002</td>\n",
       "      <td>0.042356</td>\n",
       "      <td>2</td>\n",
       "    </tr>\n",
       "    <tr>\n",
       "      <th>31755592</th>\n",
       "      <td>2020-09-22</td>\n",
       "      <td>012611429367ef74cb9008dcf0069284501071e90717e5...</td>\n",
       "      <td>856440002</td>\n",
       "      <td>0.042356</td>\n",
       "      <td>2</td>\n",
       "    </tr>\n",
       "    <tr>\n",
       "      <th>31755593</th>\n",
       "      <td>2020-09-22</td>\n",
       "      <td>012611429367ef74cb9008dcf0069284501071e90717e5...</td>\n",
       "      <td>902528006</td>\n",
       "      <td>0.050831</td>\n",
       "      <td>2</td>\n",
       "    </tr>\n",
       "    <tr>\n",
       "      <th>31755594</th>\n",
       "      <td>2020-09-22</td>\n",
       "      <td>012611429367ef74cb9008dcf0069284501071e90717e5...</td>\n",
       "      <td>902528006</td>\n",
       "      <td>0.050831</td>\n",
       "      <td>2</td>\n",
       "    </tr>\n",
       "    <tr>\n",
       "      <th>31755595</th>\n",
       "      <td>2020-09-22</td>\n",
       "      <td>012611429367ef74cb9008dcf0069284501071e90717e5...</td>\n",
       "      <td>870328002</td>\n",
       "      <td>0.033881</td>\n",
       "      <td>2</td>\n",
       "    </tr>\n",
       "    <tr>\n",
       "      <th>31755596</th>\n",
       "      <td>2020-09-22</td>\n",
       "      <td>012611429367ef74cb9008dcf0069284501071e90717e5...</td>\n",
       "      <td>927529001</td>\n",
       "      <td>0.033881</td>\n",
       "      <td>2</td>\n",
       "    </tr>\n",
       "    <tr>\n",
       "      <th>31755597</th>\n",
       "      <td>2020-09-22</td>\n",
       "      <td>012611429367ef74cb9008dcf0069284501071e90717e5...</td>\n",
       "      <td>927529001</td>\n",
       "      <td>0.033881</td>\n",
       "      <td>2</td>\n",
       "    </tr>\n",
       "  </tbody>\n",
       "</table>\n",
       "</div>"
      ],
      "text/plain": [
       "              t_dat                                        customer_id  \\\n",
       "31755572 2020-09-22  012611429367ef74cb9008dcf0069284501071e90717e5...   \n",
       "31755573 2020-09-22  012611429367ef74cb9008dcf0069284501071e90717e5...   \n",
       "31755574 2020-09-22  012611429367ef74cb9008dcf0069284501071e90717e5...   \n",
       "31755575 2020-09-22  012611429367ef74cb9008dcf0069284501071e90717e5...   \n",
       "31755576 2020-09-22  012611429367ef74cb9008dcf0069284501071e90717e5...   \n",
       "31755577 2020-09-22  012611429367ef74cb9008dcf0069284501071e90717e5...   \n",
       "31755578 2020-09-22  012611429367ef74cb9008dcf0069284501071e90717e5...   \n",
       "31755579 2020-09-22  012611429367ef74cb9008dcf0069284501071e90717e5...   \n",
       "31755580 2020-09-22  012611429367ef74cb9008dcf0069284501071e90717e5...   \n",
       "31755581 2020-09-22  012611429367ef74cb9008dcf0069284501071e90717e5...   \n",
       "31755582 2020-09-22  012611429367ef74cb9008dcf0069284501071e90717e5...   \n",
       "31755583 2020-09-22  012611429367ef74cb9008dcf0069284501071e90717e5...   \n",
       "31755584 2020-09-22  012611429367ef74cb9008dcf0069284501071e90717e5...   \n",
       "31755585 2020-09-22  012611429367ef74cb9008dcf0069284501071e90717e5...   \n",
       "31755586 2020-09-22  012611429367ef74cb9008dcf0069284501071e90717e5...   \n",
       "31755587 2020-09-22  012611429367ef74cb9008dcf0069284501071e90717e5...   \n",
       "31755588 2020-09-22  012611429367ef74cb9008dcf0069284501071e90717e5...   \n",
       "31755589 2020-09-22  012611429367ef74cb9008dcf0069284501071e90717e5...   \n",
       "31755590 2020-09-22  012611429367ef74cb9008dcf0069284501071e90717e5...   \n",
       "31755591 2020-09-22  012611429367ef74cb9008dcf0069284501071e90717e5...   \n",
       "31755592 2020-09-22  012611429367ef74cb9008dcf0069284501071e90717e5...   \n",
       "31755593 2020-09-22  012611429367ef74cb9008dcf0069284501071e90717e5...   \n",
       "31755594 2020-09-22  012611429367ef74cb9008dcf0069284501071e90717e5...   \n",
       "31755595 2020-09-22  012611429367ef74cb9008dcf0069284501071e90717e5...   \n",
       "31755596 2020-09-22  012611429367ef74cb9008dcf0069284501071e90717e5...   \n",
       "31755597 2020-09-22  012611429367ef74cb9008dcf0069284501071e90717e5...   \n",
       "\n",
       "          article_id     price  sales_channel_id  \n",
       "31755572   871519008  0.033881                 2  \n",
       "31755573   871519008  0.033881                 2  \n",
       "31755574   717490058  0.008458                 2  \n",
       "31755575   717490058  0.008458                 2  \n",
       "31755576   873158008  0.016932                 2  \n",
       "31755577   873158008  0.016932                 2  \n",
       "31755578   717490008  0.008458                 2  \n",
       "31755579   717490008  0.008458                 2  \n",
       "31755580   902388001  0.016932                 2  \n",
       "31755581   902388001  0.016932                 2  \n",
       "31755582   715624010  0.025407                 2  \n",
       "31755583   715624010  0.025407                 2  \n",
       "31755584   832312002  0.067780                 2  \n",
       "31755585   832312002  0.067780                 2  \n",
       "31755586   927957001  0.033881                 2  \n",
       "31755587   927957001  0.033881                 2  \n",
       "31755588   932243002  0.025407                 2  \n",
       "31755589   870328001  0.033881                 2  \n",
       "31755590   870328001  0.033881                 2  \n",
       "31755591   856440002  0.042356                 2  \n",
       "31755592   856440002  0.042356                 2  \n",
       "31755593   902528006  0.050831                 2  \n",
       "31755594   902528006  0.050831                 2  \n",
       "31755595   870328002  0.033881                 2  \n",
       "31755596   927529001  0.033881                 2  \n",
       "31755597   927529001  0.033881                 2  "
      ]
     },
     "execution_count": 88,
     "metadata": {},
     "output_type": "execute_result"
    }
   ],
   "source": [
    "grp[1]"
   ]
  },
  {
   "cell_type": "code",
   "execution_count": null,
   "id": "0982e605",
   "metadata": {},
   "outputs": [],
   "source": []
  },
  {
   "cell_type": "code",
   "execution_count": null,
   "id": "838def4f",
   "metadata": {},
   "outputs": [],
   "source": [
    "last_7_days = transactions.t_dat > (newest_entry - datetime.timedelta(days=7))"
   ]
  },
  {
   "cell_type": "code",
   "execution_count": 11,
   "id": "eec3e39c",
   "metadata": {},
   "outputs": [
    {
     "data": {
      "text/plain": [
       "(31788324, 5)"
      ]
     },
     "execution_count": 11,
     "metadata": {},
     "output_type": "execute_result"
    }
   ],
   "source": [
    "transactions.shape"
   ]
  },
  {
   "cell_type": "code",
   "execution_count": 9,
   "id": "dba156cd",
   "metadata": {},
   "outputs": [
    {
     "data": {
      "text/html": [
       "<div>\n",
       "<style scoped>\n",
       "    .dataframe tbody tr th:only-of-type {\n",
       "        vertical-align: middle;\n",
       "    }\n",
       "\n",
       "    .dataframe tbody tr th {\n",
       "        vertical-align: top;\n",
       "    }\n",
       "\n",
       "    .dataframe thead th {\n",
       "        text-align: right;\n",
       "    }\n",
       "</style>\n",
       "<table border=\"1\" class=\"dataframe\">\n",
       "  <thead>\n",
       "    <tr style=\"text-align: right;\">\n",
       "      <th></th>\n",
       "      <th>customer_id</th>\n",
       "      <th>prediction</th>\n",
       "    </tr>\n",
       "  </thead>\n",
       "  <tbody>\n",
       "    <tr>\n",
       "      <th>0</th>\n",
       "      <td>00000dbacae5abe5e23885899a1fa44253a17956c6d1c3...</td>\n",
       "      <td>0706016001 0706016002 0372860001 0610776002 07...</td>\n",
       "    </tr>\n",
       "    <tr>\n",
       "      <th>1</th>\n",
       "      <td>0000423b00ade91418cceaf3b26c6af3dd342b51fd051e...</td>\n",
       "      <td>0706016001 0706016002 0372860001 0610776002 07...</td>\n",
       "    </tr>\n",
       "    <tr>\n",
       "      <th>2</th>\n",
       "      <td>000058a12d5b43e67d225668fa1f8d618c13dc232df0ca...</td>\n",
       "      <td>0706016001 0706016002 0372860001 0610776002 07...</td>\n",
       "    </tr>\n",
       "    <tr>\n",
       "      <th>3</th>\n",
       "      <td>00005ca1c9ed5f5146b52ac8639a40ca9d57aeff4d1bd2...</td>\n",
       "      <td>0706016001 0706016002 0372860001 0610776002 07...</td>\n",
       "    </tr>\n",
       "    <tr>\n",
       "      <th>4</th>\n",
       "      <td>00006413d8573cd20ed7128e53b7b13819fe5cfc2d801f...</td>\n",
       "      <td>0706016001 0706016002 0372860001 0610776002 07...</td>\n",
       "    </tr>\n",
       "    <tr>\n",
       "      <th>...</th>\n",
       "      <td>...</td>\n",
       "      <td>...</td>\n",
       "    </tr>\n",
       "    <tr>\n",
       "      <th>1371975</th>\n",
       "      <td>ffffbbf78b6eaac697a8a5dfbfd2bfa8113ee5b403e474...</td>\n",
       "      <td>0706016001 0706016002 0372860001 0610776002 07...</td>\n",
       "    </tr>\n",
       "    <tr>\n",
       "      <th>1371976</th>\n",
       "      <td>ffffcd5046a6143d29a04fb8c424ce494a76e5cdf4fab5...</td>\n",
       "      <td>0706016001 0706016002 0372860001 0610776002 07...</td>\n",
       "    </tr>\n",
       "    <tr>\n",
       "      <th>1371977</th>\n",
       "      <td>ffffcf35913a0bee60e8741cb2b4e78b8a98ee5ff2e6a1...</td>\n",
       "      <td>0706016001 0706016002 0372860001 0610776002 07...</td>\n",
       "    </tr>\n",
       "    <tr>\n",
       "      <th>1371978</th>\n",
       "      <td>ffffd7744cebcf3aca44ae7049d2a94b87074c3d4ffe38...</td>\n",
       "      <td>0706016001 0706016002 0372860001 0610776002 07...</td>\n",
       "    </tr>\n",
       "    <tr>\n",
       "      <th>1371979</th>\n",
       "      <td>ffffd9ac14e89946416d80e791d064701994755c3ab686...</td>\n",
       "      <td>0706016001 0706016002 0372860001 0610776002 07...</td>\n",
       "    </tr>\n",
       "  </tbody>\n",
       "</table>\n",
       "<p>1371980 rows × 2 columns</p>\n",
       "</div>"
      ],
      "text/plain": [
       "                                               customer_id  \\\n",
       "0        00000dbacae5abe5e23885899a1fa44253a17956c6d1c3...   \n",
       "1        0000423b00ade91418cceaf3b26c6af3dd342b51fd051e...   \n",
       "2        000058a12d5b43e67d225668fa1f8d618c13dc232df0ca...   \n",
       "3        00005ca1c9ed5f5146b52ac8639a40ca9d57aeff4d1bd2...   \n",
       "4        00006413d8573cd20ed7128e53b7b13819fe5cfc2d801f...   \n",
       "...                                                    ...   \n",
       "1371975  ffffbbf78b6eaac697a8a5dfbfd2bfa8113ee5b403e474...   \n",
       "1371976  ffffcd5046a6143d29a04fb8c424ce494a76e5cdf4fab5...   \n",
       "1371977  ffffcf35913a0bee60e8741cb2b4e78b8a98ee5ff2e6a1...   \n",
       "1371978  ffffd7744cebcf3aca44ae7049d2a94b87074c3d4ffe38...   \n",
       "1371979  ffffd9ac14e89946416d80e791d064701994755c3ab686...   \n",
       "\n",
       "                                                prediction  \n",
       "0        0706016001 0706016002 0372860001 0610776002 07...  \n",
       "1        0706016001 0706016002 0372860001 0610776002 07...  \n",
       "2        0706016001 0706016002 0372860001 0610776002 07...  \n",
       "3        0706016001 0706016002 0372860001 0610776002 07...  \n",
       "4        0706016001 0706016002 0372860001 0610776002 07...  \n",
       "...                                                    ...  \n",
       "1371975  0706016001 0706016002 0372860001 0610776002 07...  \n",
       "1371976  0706016001 0706016002 0372860001 0610776002 07...  \n",
       "1371977  0706016001 0706016002 0372860001 0610776002 07...  \n",
       "1371978  0706016001 0706016002 0372860001 0610776002 07...  \n",
       "1371979  0706016001 0706016002 0372860001 0610776002 07...  \n",
       "\n",
       "[1371980 rows x 2 columns]"
      ]
     },
     "execution_count": 9,
     "metadata": {},
     "output_type": "execute_result"
    }
   ],
   "source": [
    "sample_sub"
   ]
  }
 ],
 "metadata": {
  "kernelspec": {
   "display_name": "Python 3",
   "language": "python",
   "name": "python3"
  },
  "language_info": {
   "codemirror_mode": {
    "name": "ipython",
    "version": 3
   },
   "file_extension": ".py",
   "mimetype": "text/x-python",
   "name": "python",
   "nbconvert_exporter": "python",
   "pygments_lexer": "ipython3",
   "version": "3.8.8"
  }
 },
 "nbformat": 4,
 "nbformat_minor": 5
}
