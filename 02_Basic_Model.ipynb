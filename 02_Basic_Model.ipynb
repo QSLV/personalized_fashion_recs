{
 "cells": [
  {
   "cell_type": "markdown",
   "id": "8aa9a27d",
   "metadata": {},
   "source": [
    "We will now attempt doing something more elaborate than predicting the most commonly purchased items, though arguably this will still be very simple.\n",
    "\n",
    "That is good though! We want to develop our solution piece by piece and we need to start somewhere.\n",
    "\n",
    "In this notebook we will attempt learning embeddings for each user and each product and calculating a score that ideally will reflect if there is a match.\n",
    "\n",
    "We will then use this score to order our predictions.\n",
    "\n",
    "Let's get started."
   ]
  },
  {
   "cell_type": "code",
   "execution_count": 1,
   "id": "748b2ce4",
   "metadata": {},
   "outputs": [
    {
     "name": "stdout",
     "output_type": "stream",
     "text": [
      "CPU times: user 25.2 s, sys: 8.35 s, total: 33.6 s\n",
      "Wall time: 35.9 s\n"
     ]
    }
   ],
   "source": [
    "%%time\n",
    "\n",
    "%run utils.py"
   ]
  },
  {
   "cell_type": "code",
   "execution_count": 62,
   "id": "44c20e01",
   "metadata": {},
   "outputs": [
    {
     "data": {
      "text/plain": [
       "31788324"
      ]
     },
     "execution_count": 62,
     "metadata": {},
     "output_type": "execute_result"
    }
   ],
   "source": [
    "transactions.shape[0]"
   ]
  },
  {
   "cell_type": "code",
   "execution_count": 63,
   "id": "f54308e9",
   "metadata": {},
   "outputs": [
    {
     "data": {
      "text/plain": [
       "1371980"
      ]
     },
     "execution_count": 63,
     "metadata": {},
     "output_type": "execute_result"
    }
   ],
   "source": [
    "customers.shape[0]"
   ]
  },
  {
   "cell_type": "code",
   "execution_count": 71,
   "id": "8a5ec96e",
   "metadata": {},
   "outputs": [
    {
     "data": {
      "text/plain": [
       "<AxesSubplot:>"
      ]
     },
     "execution_count": 71,
     "metadata": {},
     "output_type": "execute_result"
    },
    {
     "data": {
      "image/png": "[encoded data removed]",
      "text/plain": [
       "<Figure size 432x288 with 1 Axes>"
      ]
     },
     "metadata": {
      "needs_background": "light"
     },
     "output_type": "display_data"
    }
   ],
   "source": [
    "transactions.article_id.value_counts().plot()"
   ]
  },
  {
   "cell_type": "code",
   "execution_count": 73,
   "id": "88955e22",
   "metadata": {},
   "outputs": [
    {
     "data": {
      "text/plain": [
       "<AxesSubplot:>"
      ]
     },
     "execution_count": 73,
     "metadata": {},
     "output_type": "execute_result"
    },
    {
     "data": {
      "image/png": "[encoded data removed]",
      "text/plain": [
       "<Figure size 432x288 with 1 Axes>"
      ]
     },
     "metadata": {
      "needs_background": "light"
     },
     "output_type": "display_data"
    }
   ],
   "source": [
    "transactions['customer_id'].value_counts().plot()"
   ]
  },
  {
   "cell_type": "code",
   "execution_count": 74,
   "id": "de0769b5",
   "metadata": {},
   "outputs": [
    {
     "data": {
      "text/plain": [
       "count    1.362281e+06\n",
       "mean     2.333463e+01\n",
       "std      3.924225e+01\n",
       "min      1.000000e+00\n",
       "25%      3.000000e+00\n",
       "50%      9.000000e+00\n",
       "75%      2.700000e+01\n",
       "max      1.895000e+03\n",
       "Name: customer_id, dtype: float64"
      ]
     },
     "execution_count": 74,
     "metadata": {},
     "output_type": "execute_result"
    }
   ],
   "source": [
    "transactions['customer_id'].value_counts().describe()"
   ]
  },
  {
   "cell_type": "markdown",
   "id": "32f8cdce",
   "metadata": {},
   "source": [
    "There is a lot of data, over 30 mln transction records and over 1 mln customer records.\n",
    "\n",
    "As expected, there is a small portion of customers who buy a lot, and similarily there is a small subset of articles that are purchased frequently.\n",
    "\n",
    "We will exploit this fact to train a small model."
   ]
  },
  {
   "cell_type": "code",
   "execution_count": 2,
   "id": "1a1f89df",
   "metadata": {},
   "outputs": [],
   "source": [
    "import torch\n",
    "from torch import nn"
   ]
  },
  {
   "cell_type": "code",
   "execution_count": 3,
   "id": "28b5a5e0",
   "metadata": {},
   "outputs": [],
   "source": [
    "art_ids = transactions.article_id.unique()\n",
    "art_id2idx = {art_id: idx for idx, art_id in enumerate(art_ids)}\n",
    "\n",
    "cust_ids = customers.customer_id.unique()\n",
    "cust_id2idx = {cust_id: idx for idx, cust_id in enumerate(cust_ids)}"
   ]
  },
  {
   "cell_type": "code",
   "execution_count": 4,
   "id": "3ebd40b6",
   "metadata": {},
   "outputs": [
    {
     "data": {
      "text/plain": [
       "11074"
      ]
     },
     "execution_count": 4,
     "metadata": {},
     "output_type": "execute_result"
    }
   ],
   "source": [
    "vc = transactions_without_last_7_days.customer_id.value_counts()\n",
    "(vc.values > 200).sum()"
   ]
  },
  {
   "cell_type": "code",
   "execution_count": 5,
   "id": "8ab0c67f",
   "metadata": {},
   "outputs": [],
   "source": [
    "frequent_buyers = set((vc[vc > 200]).index)"
   ]
  },
  {
   "cell_type": "code",
   "execution_count": 6,
   "id": "b4e14765",
   "metadata": {},
   "outputs": [
    {
     "data": {
      "text/plain": [
       "86744"
      ]
     },
     "execution_count": 6,
     "metadata": {},
     "output_type": "execute_result"
    }
   ],
   "source": [
    "transactions_without_last_7_days.loc[transactions_without_last_7_days.customer_id.isin(frequent_buyers), 'article_id'].nunique()"
   ]
  },
  {
   "cell_type": "code",
   "execution_count": 9,
   "id": "245cb7e6",
   "metadata": {},
   "outputs": [
    {
     "data": {
      "text/plain": [
       "0.04040000583098879"
      ]
     },
     "execution_count": 9,
     "metadata": {},
     "output_type": "execute_result"
    }
   ],
   "source": [
    "sample_sub.customer_id.isin(frequent_buyers).mean()"
   ]
  },
  {
   "cell_type": "markdown",
   "id": "2f224be9",
   "metadata": {},
   "source": [
    "That's only 4% of the customers that make up  the submission, but chances are that their purchases are disproportionately important (they are much more likely to make a purchase in the test set period than the remaining customers).\n",
    "\n",
    "Besides, if this approach works, we might attempt to scale it to other customers as well. Still, the objective here is to get a feel for what goes into training a recommender model (or better yet, creating a recommender system), which -- combined with reading research papers and the Kaggle forum -- can inform our subsequent iterations."
   ]
  },
  {
   "cell_type": "code",
   "execution_count": 9,
   "id": "a3388201",
   "metadata": {},
   "outputs": [],
   "source": [
    "transactions_min = transactions_without_last_7_days.loc[transactions_without_last_7_days.customer_id.isin(frequent_buyers)]\n",
    "transactions_min.reset_index(inplace=True, drop=True)\n",
    "\n",
    "idxs = transactions_min.index.tolist()"
   ]
  },
  {
   "cell_type": "code",
   "execution_count": 10,
   "id": "07e321a9",
   "metadata": {},
   "outputs": [],
   "source": [
    "np.random.shuffle(idxs)"
   ]
  },
  {
   "cell_type": "code",
   "execution_count": 11,
   "id": "c7c206d0",
   "metadata": {},
   "outputs": [
    {
     "data": {
      "text/plain": [
       "3182664"
      ]
     },
     "execution_count": 11,
     "metadata": {},
     "output_type": "execute_result"
    }
   ],
   "source": [
    "len(idxs)"
   ]
  },
  {
   "cell_type": "markdown",
   "id": "aac98047",
   "metadata": {},
   "source": [
    "Over 3 mln transactions in our train set! Let's create a validation set."
   ]
  },
  {
   "cell_type": "code",
   "execution_count": 12,
   "id": "98ec4355",
   "metadata": {},
   "outputs": [],
   "source": [
    "train_idxs = idxs[:int(0.9*len(idxs))]\n",
    "valid_idxs = idxs[int(0.9*len(idxs)):]\n",
    "\n",
    "# pd.to_pickle(train_idxs, 'data/train_idxs.pkl')\n",
    "# pd.to_pickle(valid_idxs, 'data/valid_idxs.pkl')"
   ]
  },
  {
   "cell_type": "markdown",
   "id": "a4995d3b",
   "metadata": {},
   "source": [
    "Below we construct a `Dataset` that will present our model with pairs of ids (`customer_id` and a `product_id`). If the pair represents a transaction, the target will be `1`. If the pair doesn't represent a transaction, the target will be `0`.\n",
    "\n",
    "This should hopefully allow our model to learn meaningful embeddings."
   ]
  },
  {
   "cell_type": "code",
   "execution_count": 14,
   "id": "6da5a9c1",
   "metadata": {},
   "outputs": [],
   "source": [
    "class Dataset():\n",
    "    def __init__(self, idxs, transactions_df=transactions_min):\n",
    "        self.idxs = idxs\n",
    "        self.transactions_df = transactions_df\n",
    "    def __getitem__(self, idx):\n",
    "        if idx < len(self)/2:\n",
    "            idx_into_transactions_df = self.idxs[idx]\n",
    "            cust_id = cust_id2idx[self.transactions_df.iloc[idx_into_transactions_df]['customer_id']]\n",
    "            art_id = art_id2idx[self.transactions_df.iloc[idx_into_transactions_df]['article_id']]\n",
    "            return [cust_id, art_id], np.array([1]).astype(np.float32)\n",
    "        else:\n",
    "            idx -= len(self)\n",
    "            idx_into_transactions_df = self.idxs[idx]\n",
    "            cust_id = cust_id2idx[self.transactions_df.iloc[idx_into_transactions_df]['customer_id']]\n",
    "            art_id = art_id2idx[self.transactions_df.iloc[np.random.randint(len(self)/2)]['article_id']]\n",
    "            return [cust_id, art_id], np.array([0]).astype(np.float32)\n",
    "    def __len__(self):\n",
    "        return 2*len(self.idxs)"
   ]
  },
  {
   "cell_type": "code",
   "execution_count": 15,
   "id": "00511fe5",
   "metadata": {},
   "outputs": [],
   "source": [
    "# code I didn't end up using but keeping it here -- this samples epochs of arbitrary length, can be useful with\n",
    "# this amount of data, maybe I'll use it down the road\n",
    "\n",
    "# from torch.utils.data import SubsetRandomSampler, Sampler\n",
    "\n",
    "# # https://discuss.pytorch.org/t/new-subset-every-epoch/85018\n",
    "\n",
    "# class RandomSampler(Sampler):\n",
    "#     def __init__(self, data_source, samples_per_epoch=None):\n",
    "#         self.data_source = data_source\n",
    "#         self._num_samples = samples_per_epoch\n",
    "\n",
    "#     @property\n",
    "#     def num_samples(self):\n",
    "#         # dataset size might change at runtime\n",
    "#         if self._num_samples is None:\n",
    "#             return len(self.data_source)\n",
    "#         return self._num_samples\n",
    "\n",
    "#     def __iter__(self):\n",
    "#         n = len(self.data_source)\n",
    "#         return iter(torch.randperm(n, dtype=torch.int64)[:self.num_samples].tolist())\n",
    "\n",
    "#     def __len__(self):\n",
    "#         return self.num_samples"
   ]
  },
  {
   "cell_type": "code",
   "execution_count": 16,
   "id": "57cc6201",
   "metadata": {},
   "outputs": [],
   "source": [
    "train_ds = Dataset(train_idxs)\n",
    "valid_ds = Dataset(valid_idxs)"
   ]
  },
  {
   "cell_type": "code",
   "execution_count": 17,
   "id": "e4bf6fd7",
   "metadata": {},
   "outputs": [],
   "source": [
    "from fastai import *\n",
    "from fastai.learner import Learner\n",
    "from fastai.data.core import DataLoaders\n",
    "\n",
    "from fastai.callback.all import *\n",
    "from fastprogress import fastprogress\n",
    "\n",
    "from fastai.metrics import *\n",
    "\n",
    "from torch.utils.data import DataLoader"
   ]
  },
  {
   "cell_type": "code",
   "execution_count": 18,
   "id": "7482b0cb",
   "metadata": {},
   "outputs": [],
   "source": [
    "bs = 1024\n",
    "\n",
    "train_dl = DataLoader(\n",
    "    train_ds,\n",
    "    batch_size=bs,\n",
    "    num_workers=24,\n",
    "    shuffle=True\n",
    "#     sampler=RandomSampler(train_ds, samples_per_epoch=1_000_000) \n",
    ")\n",
    "\n",
    "valid_dl = DataLoader(\n",
    "    valid_ds,\n",
    "    batch_size=bs,\n",
    "    num_workers=24,\n",
    "#     sampler=RandomSampler(valid_ds, samples_per_epoch=1_000)\n",
    ")"
   ]
  },
  {
   "cell_type": "code",
   "execution_count": 21,
   "id": "12f95780",
   "metadata": {},
   "outputs": [],
   "source": [
    "# the commented out code allows you to experiment with different sizes of the classifier head\n",
    "# also, you might want to try the dot product formulation in the `forward` method and see what\n",
    "# results you can get with something like https://github.com/spotify/annoy\n",
    "\n",
    "class Model(nn.Module):\n",
    "    def __init__(self):\n",
    "        super().__init__()\n",
    "        self.cust_embed = nn.Embedding(len(cust_ids), 128)\n",
    "        self.art_embed = nn.Embedding(len(art_ids), 128)\n",
    "        self.classifier = nn.Sequential(*[\n",
    "#             nn.Linear(128, 128), nn.ReLU(), nn.BatchNorm1d(128),\n",
    "            nn.Linear(256, 128), nn.ReLU(),\n",
    "#             nn.Linear(128, 128), nn.ReLU(), nn.Dropout(p=0.1), nn.BatchNorm1d(128),\n",
    "            nn.Linear(128, 1)\n",
    "        ])\n",
    "    \n",
    "    def forward(self, x):\n",
    "        c = self.cust_embed(x[0])\n",
    "        a = self.art_embed(x[1])\n",
    "#         return (c * a).sum(axis=-1).reshape(-1,1)\n",
    "        ca = torch.cat([c, a], dim=1)\n",
    "        \n",
    "        return self.classifier(ca)"
   ]
  },
  {
   "cell_type": "code",
   "execution_count": 19,
   "id": "5cf26d97",
   "metadata": {},
   "outputs": [],
   "source": [
    "def accuracy(preds, targs):\n",
    "    return ((preds > 0) == targs).float().mean().item()"
   ]
  },
  {
   "cell_type": "code",
   "execution_count": 22,
   "id": "2f894e4b",
   "metadata": {},
   "outputs": [],
   "source": [
    "learn = Learner(\n",
    "    DataLoaders(train_dl, valid_dl),\n",
    "    Model(),\n",
    "    loss_func=torch.nn.BCEWithLogitsLoss(),\n",
    "    metrics=[accuracy]\n",
    ")"
   ]
  },
  {
   "cell_type": "code",
   "execution_count": 38,
   "id": "48477e8b",
   "metadata": {},
   "outputs": [
    {
     "data": {
      "text/html": [
       "<table border=\"1\" class=\"dataframe\">\n",
       "  <thead>\n",
       "    <tr style=\"text-align: left;\">\n",
       "      <th>epoch</th>\n",
       "      <th>train_loss</th>\n",
       "      <th>valid_loss</th>\n",
       "      <th>accuracy</th>\n",
       "      <th>time</th>\n",
       "    </tr>\n",
       "  </thead>\n",
       "  <tbody>\n",
       "    <tr>\n",
       "      <td>0</td>\n",
       "      <td>0.693313</td>\n",
       "      <td>0.693277</td>\n",
       "      <td>0.501885</td>\n",
       "      <td>04:11</td>\n",
       "    </tr>\n",
       "    <tr>\n",
       "      <td>1</td>\n",
       "      <td>0.693127</td>\n",
       "      <td>0.692812</td>\n",
       "      <td>0.508801</td>\n",
       "      <td>04:12</td>\n",
       "    </tr>\n",
       "    <tr>\n",
       "      <td>2</td>\n",
       "      <td>0.692301</td>\n",
       "      <td>0.692019</td>\n",
       "      <td>0.515655</td>\n",
       "      <td>04:12</td>\n",
       "    </tr>\n",
       "    <tr>\n",
       "      <td>3</td>\n",
       "      <td>0.691326</td>\n",
       "      <td>0.689241</td>\n",
       "      <td>0.523892</td>\n",
       "      <td>04:12</td>\n",
       "    </tr>\n",
       "    <tr>\n",
       "      <td>4</td>\n",
       "      <td>0.687591</td>\n",
       "      <td>0.685974</td>\n",
       "      <td>0.529269</td>\n",
       "      <td>04:09</td>\n",
       "    </tr>\n",
       "    <tr>\n",
       "      <td>5</td>\n",
       "      <td>0.685432</td>\n",
       "      <td>0.681903</td>\n",
       "      <td>0.535205</td>\n",
       "      <td>43:45</td>\n",
       "    </tr>\n",
       "    <tr>\n",
       "      <td>6</td>\n",
       "      <td>0.682422</td>\n",
       "      <td>0.678360</td>\n",
       "      <td>0.544002</td>\n",
       "      <td>04:16</td>\n",
       "    </tr>\n",
       "    <tr>\n",
       "      <td>7</td>\n",
       "      <td>0.680124</td>\n",
       "      <td>0.675503</td>\n",
       "      <td>0.548993</td>\n",
       "      <td>04:14</td>\n",
       "    </tr>\n",
       "    <tr>\n",
       "      <td>8</td>\n",
       "      <td>0.677659</td>\n",
       "      <td>0.673049</td>\n",
       "      <td>0.554792</td>\n",
       "      <td>04:13</td>\n",
       "    </tr>\n",
       "    <tr>\n",
       "      <td>9</td>\n",
       "      <td>0.674002</td>\n",
       "      <td>0.670446</td>\n",
       "      <td>0.558460</td>\n",
       "      <td>04:13</td>\n",
       "    </tr>\n",
       "    <tr>\n",
       "      <td>10</td>\n",
       "      <td>0.669821</td>\n",
       "      <td>0.668893</td>\n",
       "      <td>0.565019</td>\n",
       "      <td>04:12</td>\n",
       "    </tr>\n",
       "    <tr>\n",
       "      <td>11</td>\n",
       "      <td>0.663598</td>\n",
       "      <td>0.667091</td>\n",
       "      <td>0.570581</td>\n",
       "      <td>04:14</td>\n",
       "    </tr>\n",
       "    <tr>\n",
       "      <td>12</td>\n",
       "      <td>0.658379</td>\n",
       "      <td>0.664933</td>\n",
       "      <td>0.575179</td>\n",
       "      <td>04:13</td>\n",
       "    </tr>\n",
       "    <tr>\n",
       "      <td>13</td>\n",
       "      <td>0.649994</td>\n",
       "      <td>0.662988</td>\n",
       "      <td>0.582932</td>\n",
       "      <td>04:12</td>\n",
       "    </tr>\n",
       "    <tr>\n",
       "      <td>14</td>\n",
       "      <td>0.637468</td>\n",
       "      <td>0.660689</td>\n",
       "      <td>0.590119</td>\n",
       "      <td>04:12</td>\n",
       "    </tr>\n",
       "    <tr>\n",
       "      <td>15</td>\n",
       "      <td>0.625703</td>\n",
       "      <td>0.656969</td>\n",
       "      <td>0.599559</td>\n",
       "      <td>04:11</td>\n",
       "    </tr>\n",
       "    <tr>\n",
       "      <td>16</td>\n",
       "      <td>0.610474</td>\n",
       "      <td>0.650341</td>\n",
       "      <td>0.610717</td>\n",
       "      <td>04:13</td>\n",
       "    </tr>\n",
       "    <tr>\n",
       "      <td>17</td>\n",
       "      <td>0.593386</td>\n",
       "      <td>0.645639</td>\n",
       "      <td>0.620734</td>\n",
       "      <td>04:10</td>\n",
       "    </tr>\n",
       "    <tr>\n",
       "      <td>18</td>\n",
       "      <td>0.578273</td>\n",
       "      <td>0.641586</td>\n",
       "      <td>0.630295</td>\n",
       "      <td>04:13</td>\n",
       "    </tr>\n",
       "    <tr>\n",
       "      <td>19</td>\n",
       "      <td>0.562951</td>\n",
       "      <td>0.638801</td>\n",
       "      <td>0.638766</td>\n",
       "      <td>04:17</td>\n",
       "    </tr>\n",
       "    <tr>\n",
       "      <td>20</td>\n",
       "      <td>0.551248</td>\n",
       "      <td>0.635111</td>\n",
       "      <td>0.645117</td>\n",
       "      <td>04:16</td>\n",
       "    </tr>\n",
       "    <tr>\n",
       "      <td>21</td>\n",
       "      <td>0.537256</td>\n",
       "      <td>0.631435</td>\n",
       "      <td>0.653607</td>\n",
       "      <td>04:16</td>\n",
       "    </tr>\n",
       "    <tr>\n",
       "      <td>22</td>\n",
       "      <td>0.528285</td>\n",
       "      <td>0.628764</td>\n",
       "      <td>0.659473</td>\n",
       "      <td>04:18</td>\n",
       "    </tr>\n",
       "    <tr>\n",
       "      <td>23</td>\n",
       "      <td>0.515833</td>\n",
       "      <td>0.630456</td>\n",
       "      <td>0.665016</td>\n",
       "      <td>04:15</td>\n",
       "    </tr>\n",
       "    <tr>\n",
       "      <td>24</td>\n",
       "      <td>0.502919</td>\n",
       "      <td>0.627420</td>\n",
       "      <td>0.670767</td>\n",
       "      <td>04:14</td>\n",
       "    </tr>\n",
       "    <tr>\n",
       "      <td>25</td>\n",
       "      <td>0.491515</td>\n",
       "      <td>0.627706</td>\n",
       "      <td>0.674550</td>\n",
       "      <td>04:11</td>\n",
       "    </tr>\n",
       "    <tr>\n",
       "      <td>26</td>\n",
       "      <td>0.482494</td>\n",
       "      <td>0.628983</td>\n",
       "      <td>0.678303</td>\n",
       "      <td>04:10</td>\n",
       "    </tr>\n",
       "    <tr>\n",
       "      <td>27</td>\n",
       "      <td>0.475272</td>\n",
       "      <td>0.627069</td>\n",
       "      <td>0.681814</td>\n",
       "      <td>04:11</td>\n",
       "    </tr>\n",
       "    <tr>\n",
       "      <td>28</td>\n",
       "      <td>0.464382</td>\n",
       "      <td>0.633492</td>\n",
       "      <td>0.684768</td>\n",
       "      <td>04:10</td>\n",
       "    </tr>\n",
       "    <tr>\n",
       "      <td>29</td>\n",
       "      <td>0.457916</td>\n",
       "      <td>0.633834</td>\n",
       "      <td>0.687552</td>\n",
       "      <td>04:12</td>\n",
       "    </tr>\n",
       "  </tbody>\n",
       "</table>"
      ],
      "text/plain": [
       "<IPython.core.display.HTML object>"
      ]
     },
     "metadata": {},
     "output_type": "display_data"
    }
   ],
   "source": [
    "learn.fit(30, lr=1e-3)"
   ]
  },
  {
   "cell_type": "code",
   "execution_count": 39,
   "id": "fbd5e41e",
   "metadata": {},
   "outputs": [
    {
     "data": {
      "text/plain": [
       "Path('models/basic_model.pth')"
      ]
     },
     "execution_count": 39,
     "metadata": {},
     "output_type": "execute_result"
    }
   ],
   "source": [
    "# learn.save('basic_model')"
   ]
  },
  {
   "cell_type": "code",
   "execution_count": 23,
   "id": "f25945f2",
   "metadata": {},
   "outputs": [
    {
     "data": {
      "text/plain": [
       "<fastai.learner.Learner at 0x7fefd2bf2940>"
      ]
     },
     "execution_count": 23,
     "metadata": {},
     "output_type": "execute_result"
    }
   ],
   "source": [
    "learn.load('basic_model')"
   ]
  },
  {
   "cell_type": "markdown",
   "id": "cac77133",
   "metadata": {},
   "source": [
    "Now that we have a trained model, we need to somehow go from it to predictions for each article for each customer.\n",
    "\n",
    "With just 11074 customers and 86744 articles and as simple a model as we have that will not pose too big of an issue. But with more data that could certainly be problematic.\n",
    "\n",
    "Also, when constructing the model, I didn't go for dotting of the embeddings. But now I see how this could have been useful as we would be operating in the cosine similarity space and we would then be able to use off the shelf libraries for finding (approximate) nearest neighbors in the cosine similarity space for our score!\n",
    "\n",
    "Not all is lost though. I think we will be able to get the score for these 11074 customers nonetheless, though it might get a bit messy in code."
   ]
  },
  {
   "cell_type": "code",
   "execution_count": 24,
   "id": "0001c49b",
   "metadata": {},
   "outputs": [
    {
     "data": {
      "text/plain": [
       "Model(\n",
       "  (cust_embed): Embedding(1371980, 128)\n",
       "  (art_embed): Embedding(104547, 128)\n",
       "  (classifier): Sequential(\n",
       "    (0): Linear(in_features=256, out_features=128, bias=True)\n",
       "    (1): ReLU()\n",
       "    (2): Linear(in_features=128, out_features=1, bias=True)\n",
       "  )\n",
       ")"
      ]
     },
     "execution_count": 24,
     "metadata": {},
     "output_type": "execute_result"
    }
   ],
   "source": [
    "learn.model"
   ]
  },
  {
   "cell_type": "code",
   "execution_count": 27,
   "id": "6144a5e6",
   "metadata": {},
   "outputs": [
    {
     "data": {
      "text/plain": [
       "torch.Size([1371980, 128])"
      ]
     },
     "execution_count": 27,
     "metadata": {},
     "output_type": "execute_result"
    }
   ],
   "source": [
    "learn.model.cust_embed.weight.shape"
   ]
  },
  {
   "cell_type": "code",
   "execution_count": 26,
   "id": "e5f7fa8f",
   "metadata": {},
   "outputs": [
    {
     "data": {
      "text/plain": [
       "torch.Size([104547, 128])"
      ]
     },
     "execution_count": 26,
     "metadata": {},
     "output_type": "execute_result"
    }
   ],
   "source": [
    "learn.model.art_embed.weight.shape"
   ]
  },
  {
   "cell_type": "code",
   "execution_count": 28,
   "id": "eb63696b",
   "metadata": {},
   "outputs": [],
   "source": [
    "custs = transactions_min.customer_id.unique()\n",
    "arts = transactions_min.article_id.unique()"
   ]
  },
  {
   "cell_type": "code",
   "execution_count": 29,
   "id": "d3d82f77",
   "metadata": {},
   "outputs": [],
   "source": [
    "mapped_custs = [cust_id2idx[c] for c in custs]\n",
    "mapped_arts = [art_id2idx[a] for a in arts]"
   ]
  },
  {
   "cell_type": "code",
   "execution_count": 34,
   "id": "7141155a",
   "metadata": {},
   "outputs": [],
   "source": [
    "cust_embs = learn.model.cust_embed.weight[mapped_custs].detach().cuda()\n",
    "art_embs = learn.model.art_embed.weight[mapped_arts].detach().cuda()"
   ]
  },
  {
   "cell_type": "code",
   "execution_count": 35,
   "id": "4d4d3cac",
   "metadata": {},
   "outputs": [
    {
     "data": {
      "text/plain": [
       "torch.Size([86744, 128])"
      ]
     },
     "execution_count": 35,
     "metadata": {},
     "output_type": "execute_result"
    }
   ],
   "source": [
    "art_embs.shape"
   ]
  },
  {
   "cell_type": "code",
   "execution_count": 32,
   "id": "9d5f4722",
   "metadata": {},
   "outputs": [
    {
     "data": {
      "text/plain": [
       "torch.Size([11074, 128])"
      ]
     },
     "execution_count": 32,
     "metadata": {},
     "output_type": "execute_result"
    }
   ],
   "source": [
    "cust_embs.shape"
   ]
  },
  {
   "cell_type": "code",
   "execution_count": 44,
   "id": "02c57aa1",
   "metadata": {},
   "outputs": [],
   "source": [
    "learn.model.cuda();"
   ]
  },
  {
   "cell_type": "code",
   "execution_count": 45,
   "id": "c187fcee",
   "metadata": {},
   "outputs": [
    {
     "name": "stdout",
     "output_type": "stream",
     "text": [
      "CPU times: user 13.9 s, sys: 1.09 s, total: 15 s\n",
      "Wall time: 15 s\n"
     ]
    }
   ],
   "source": [
    "%%time\n",
    "\n",
    "scores = []\n",
    "\n",
    "for i in range(cust_embs.shape[0]):\n",
    "    c_expanded = cust_embs[i].reshape(1, -1).expand(86744, 128)\n",
    "    ca = torch.cat((c_expanded, art_embs), dim=1)\n",
    "    score = learn.model.classifier(ca).cpu().detach()\n",
    "    scores.append(score)"
   ]
  },
  {
   "cell_type": "markdown",
   "id": "665c13e0",
   "metadata": {},
   "source": [
    "Well, that was fast :D Ah, the magic of modern hw!"
   ]
  },
  {
   "cell_type": "code",
   "execution_count": 49,
   "id": "a1069781",
   "metadata": {},
   "outputs": [],
   "source": [
    "art_by_cust_score = torch.cat(scores, dim=1)"
   ]
  },
  {
   "cell_type": "markdown",
   "id": "8f6e9420",
   "metadata": {},
   "source": [
    "Now, the big question. We have a score matrix capturing an affinity between a customer and an article. But if cust A purchased product B, in the current formulation, our model should give a higher score for product B than for any other of the unpurchased products which the customer is likely to buy (assuming no repeat purchases)!\n",
    "\n",
    "Are repeat purchases frequent? Are there certain products that are purchased repeatedly and some that are not?\n",
    "\n",
    "We could use this to **filter** our scores.\n",
    "\n",
    "Let's see if we can answer this question based on the data."
   ]
  },
  {
   "cell_type": "code",
   "execution_count": 52,
   "id": "e5cf6cfd",
   "metadata": {},
   "outputs": [
    {
     "data": {
      "text/html": [
       "<div>\n",
       "<style scoped>\n",
       "    .dataframe tbody tr th:only-of-type {\n",
       "        vertical-align: middle;\n",
       "    }\n",
       "\n",
       "    .dataframe tbody tr th {\n",
       "        vertical-align: top;\n",
       "    }\n",
       "\n",
       "    .dataframe thead th {\n",
       "        text-align: right;\n",
       "    }\n",
       "</style>\n",
       "<table border=\"1\" class=\"dataframe\">\n",
       "  <thead>\n",
       "    <tr style=\"text-align: right;\">\n",
       "      <th></th>\n",
       "      <th>t_dat</th>\n",
       "      <th>customer_id</th>\n",
       "      <th>article_id</th>\n",
       "      <th>price</th>\n",
       "      <th>sales_channel_id</th>\n",
       "    </tr>\n",
       "  </thead>\n",
       "  <tbody>\n",
       "    <tr>\n",
       "      <th>0</th>\n",
       "      <td>2018-09-20</td>\n",
       "      <td>000058a12d5b43e67d225668fa1f8d618c13dc232df0cad8ffe7ad4a1091e318</td>\n",
       "      <td>0663713001</td>\n",
       "      <td>0.050831</td>\n",
       "      <td>2</td>\n",
       "    </tr>\n",
       "    <tr>\n",
       "      <th>1</th>\n",
       "      <td>2018-09-20</td>\n",
       "      <td>000058a12d5b43e67d225668fa1f8d618c13dc232df0cad8ffe7ad4a1091e318</td>\n",
       "      <td>0541518023</td>\n",
       "      <td>0.030492</td>\n",
       "      <td>2</td>\n",
       "    </tr>\n",
       "    <tr>\n",
       "      <th>2</th>\n",
       "      <td>2018-09-20</td>\n",
       "      <td>00007d2de826758b65a93dd24ce629ed66842531df6699338c5570910a014cc2</td>\n",
       "      <td>0505221004</td>\n",
       "      <td>0.015237</td>\n",
       "      <td>2</td>\n",
       "    </tr>\n",
       "    <tr>\n",
       "      <th>3</th>\n",
       "      <td>2018-09-20</td>\n",
       "      <td>00007d2de826758b65a93dd24ce629ed66842531df6699338c5570910a014cc2</td>\n",
       "      <td>0685687003</td>\n",
       "      <td>0.016932</td>\n",
       "      <td>2</td>\n",
       "    </tr>\n",
       "    <tr>\n",
       "      <th>4</th>\n",
       "      <td>2018-09-20</td>\n",
       "      <td>00007d2de826758b65a93dd24ce629ed66842531df6699338c5570910a014cc2</td>\n",
       "      <td>0685687004</td>\n",
       "      <td>0.016932</td>\n",
       "      <td>2</td>\n",
       "    </tr>\n",
       "  </tbody>\n",
       "</table>\n",
       "</div>"
      ],
      "text/plain": [
       "       t_dat  \\\n",
       "0 2018-09-20   \n",
       "1 2018-09-20   \n",
       "2 2018-09-20   \n",
       "3 2018-09-20   \n",
       "4 2018-09-20   \n",
       "\n",
       "                                                        customer_id  \\\n",
       "0  000058a12d5b43e67d225668fa1f8d618c13dc232df0cad8ffe7ad4a1091e318   \n",
       "1  000058a12d5b43e67d225668fa1f8d618c13dc232df0cad8ffe7ad4a1091e318   \n",
       "2  00007d2de826758b65a93dd24ce629ed66842531df6699338c5570910a014cc2   \n",
       "3  00007d2de826758b65a93dd24ce629ed66842531df6699338c5570910a014cc2   \n",
       "4  00007d2de826758b65a93dd24ce629ed66842531df6699338c5570910a014cc2   \n",
       "\n",
       "   article_id     price  sales_channel_id  \n",
       "0  0663713001  0.050831                 2  \n",
       "1  0541518023  0.030492                 2  \n",
       "2  0505221004  0.015237                 2  \n",
       "3  0685687003  0.016932                 2  \n",
       "4  0685687004  0.016932                 2  "
      ]
     },
     "execution_count": 52,
     "metadata": {},
     "output_type": "execute_result"
    }
   ],
   "source": [
    "transactions_without_last_7_days.head()"
   ]
  },
  {
   "cell_type": "code",
   "execution_count": 73,
   "id": "da41f2aa",
   "metadata": {},
   "outputs": [
    {
     "name": "stdout",
     "output_type": "stream",
     "text": [
      "CPU times: user 2min, sys: 298 ms, total: 2min 1s\n",
      "Wall time: 2min 1s\n"
     ]
    }
   ],
   "source": [
    "%%time\n",
    "no_duplicates = transactions_min.iloc[-300_000:].groupby(['t_dat', 'customer_id']).apply(lambda df: df.drop_duplicates('article_id'))"
   ]
  },
  {
   "cell_type": "code",
   "execution_count": 107,
   "id": "3b9fcc55",
   "metadata": {},
   "outputs": [
    {
     "data": {
      "text/html": [
       "<div>\n",
       "<style scoped>\n",
       "    .dataframe tbody tr th:only-of-type {\n",
       "        vertical-align: middle;\n",
       "    }\n",
       "\n",
       "    .dataframe tbody tr th {\n",
       "        vertical-align: top;\n",
       "    }\n",
       "\n",
       "    .dataframe thead th {\n",
       "        text-align: right;\n",
       "    }\n",
       "</style>\n",
       "<table border=\"1\" class=\"dataframe\">\n",
       "  <thead>\n",
       "    <tr style=\"text-align: right;\">\n",
       "      <th></th>\n",
       "      <th>t_dat</th>\n",
       "      <th>customer_id</th>\n",
       "      <th>article_id</th>\n",
       "      <th>price</th>\n",
       "      <th>sales_channel_id</th>\n",
       "    </tr>\n",
       "  </thead>\n",
       "  <tbody>\n",
       "    <tr>\n",
       "      <th>0</th>\n",
       "      <td>2020-07-01</td>\n",
       "      <td>1fbb79a49d1790fdd0941d3c5c5e22687741429b46540d9fedb62eaa13a3f9b5</td>\n",
       "      <td>0843872002</td>\n",
       "      <td>0.015390</td>\n",
       "      <td>2</td>\n",
       "    </tr>\n",
       "    <tr>\n",
       "      <th>1</th>\n",
       "      <td>2020-07-01</td>\n",
       "      <td>1fbb79a49d1790fdd0941d3c5c5e22687741429b46540d9fedb62eaa13a3f9b5</td>\n",
       "      <td>0843873003</td>\n",
       "      <td>0.020017</td>\n",
       "      <td>2</td>\n",
       "    </tr>\n",
       "    <tr>\n",
       "      <th>2</th>\n",
       "      <td>2020-07-01</td>\n",
       "      <td>205f687b9839c0a14e2cf5678752550e6856d21da1e9cd54b914403aef426ffd</td>\n",
       "      <td>0860731001</td>\n",
       "      <td>0.047441</td>\n",
       "      <td>2</td>\n",
       "    </tr>\n",
       "    <tr>\n",
       "      <th>3</th>\n",
       "      <td>2020-07-01</td>\n",
       "      <td>208aeb5d9e732114eafc95a7234c9d5132cf25e951937add48a2ea81cb24f5c4</td>\n",
       "      <td>0751471034</td>\n",
       "      <td>0.006763</td>\n",
       "      <td>2</td>\n",
       "    </tr>\n",
       "    <tr>\n",
       "      <th>4</th>\n",
       "      <td>2020-07-01</td>\n",
       "      <td>2093a6250e28c3f377922a7aee052828d2d673cf8a75da16238ad1acc1e4f8bc</td>\n",
       "      <td>0791594001</td>\n",
       "      <td>0.022017</td>\n",
       "      <td>2</td>\n",
       "    </tr>\n",
       "    <tr>\n",
       "      <th>...</th>\n",
       "      <td>...</td>\n",
       "      <td>...</td>\n",
       "      <td>...</td>\n",
       "      <td>...</td>\n",
       "      <td>...</td>\n",
       "    </tr>\n",
       "    <tr>\n",
       "      <th>257030</th>\n",
       "      <td>2020-09-15</td>\n",
       "      <td>fe9db31b93f6b1922976ac422d26020d530cd0d196823f2c3a99d53fc955be61</td>\n",
       "      <td>0923340001</td>\n",
       "      <td>0.016932</td>\n",
       "      <td>2</td>\n",
       "    </tr>\n",
       "    <tr>\n",
       "      <th>257031</th>\n",
       "      <td>2020-09-15</td>\n",
       "      <td>fe9db31b93f6b1922976ac422d26020d530cd0d196823f2c3a99d53fc955be61</td>\n",
       "      <td>0816598018</td>\n",
       "      <td>0.042356</td>\n",
       "      <td>2</td>\n",
       "    </tr>\n",
       "    <tr>\n",
       "      <th>257032</th>\n",
       "      <td>2020-09-15</td>\n",
       "      <td>fe9db31b93f6b1922976ac422d26020d530cd0d196823f2c3a99d53fc955be61</td>\n",
       "      <td>0893432002</td>\n",
       "      <td>0.033881</td>\n",
       "      <td>2</td>\n",
       "    </tr>\n",
       "    <tr>\n",
       "      <th>257033</th>\n",
       "      <td>2020-09-15</td>\n",
       "      <td>ff25b2750891c58c53fa7a02686275bc4b3c894385be81feb808454be795626f</td>\n",
       "      <td>0806388001</td>\n",
       "      <td>0.013542</td>\n",
       "      <td>2</td>\n",
       "    </tr>\n",
       "    <tr>\n",
       "      <th>257034</th>\n",
       "      <td>2020-09-15</td>\n",
       "      <td>ff6b2b2d2f58d2c0b36a578b07458cb119b9416023226b912365bb972772452a</td>\n",
       "      <td>0771759011</td>\n",
       "      <td>0.059305</td>\n",
       "      <td>1</td>\n",
       "    </tr>\n",
       "  </tbody>\n",
       "</table>\n",
       "<p>257035 rows × 5 columns</p>\n",
       "</div>"
      ],
      "text/plain": [
       "            t_dat  \\\n",
       "0      2020-07-01   \n",
       "1      2020-07-01   \n",
       "2      2020-07-01   \n",
       "3      2020-07-01   \n",
       "4      2020-07-01   \n",
       "...           ...   \n",
       "257030 2020-09-15   \n",
       "257031 2020-09-15   \n",
       "257032 2020-09-15   \n",
       "257033 2020-09-15   \n",
       "257034 2020-09-15   \n",
       "\n",
       "                                                             customer_id  \\\n",
       "0       1fbb79a49d1790fdd0941d3c5c5e22687741429b46540d9fedb62eaa13a3f9b5   \n",
       "1       1fbb79a49d1790fdd0941d3c5c5e22687741429b46540d9fedb62eaa13a3f9b5   \n",
       "2       205f687b9839c0a14e2cf5678752550e6856d21da1e9cd54b914403aef426ffd   \n",
       "3       208aeb5d9e732114eafc95a7234c9d5132cf25e951937add48a2ea81cb24f5c4   \n",
       "4       2093a6250e28c3f377922a7aee052828d2d673cf8a75da16238ad1acc1e4f8bc   \n",
       "...                                                                  ...   \n",
       "257030  fe9db31b93f6b1922976ac422d26020d530cd0d196823f2c3a99d53fc955be61   \n",
       "257031  fe9db31b93f6b1922976ac422d26020d530cd0d196823f2c3a99d53fc955be61   \n",
       "257032  fe9db31b93f6b1922976ac422d26020d530cd0d196823f2c3a99d53fc955be61   \n",
       "257033  ff25b2750891c58c53fa7a02686275bc4b3c894385be81feb808454be795626f   \n",
       "257034  ff6b2b2d2f58d2c0b36a578b07458cb119b9416023226b912365bb972772452a   \n",
       "\n",
       "        article_id     price  sales_channel_id  \n",
       "0       0843872002  0.015390                 2  \n",
       "1       0843873003  0.020017                 2  \n",
       "2       0860731001  0.047441                 2  \n",
       "3       0751471034  0.006763                 2  \n",
       "4       0791594001  0.022017                 2  \n",
       "...            ...       ...               ...  \n",
       "257030  0923340001  0.016932                 2  \n",
       "257031  0816598018  0.042356                 2  \n",
       "257032  0893432002  0.033881                 2  \n",
       "257033  0806388001  0.013542                 2  \n",
       "257034  0771759011  0.059305                 1  \n",
       "\n",
       "[257035 rows x 5 columns]"
      ]
     },
     "execution_count": 107,
     "metadata": {},
     "output_type": "execute_result"
    }
   ],
   "source": [
    "no_duplicates.reset_index(drop=True)"
   ]
  },
  {
   "cell_type": "code",
   "execution_count": 91,
   "id": "cb054a57",
   "metadata": {},
   "outputs": [
    {
     "name": "stdout",
     "output_type": "stream",
     "text": [
      "CPU times: user 14.8 s, sys: 0 ns, total: 14.8 s\n",
      "Wall time: 14.7 s\n"
     ]
    }
   ],
   "source": [
    "%%time\n",
    "\n",
    "# multiple purchases -- purchases of same item by a cust on different dates\n",
    "multiple_purchases_by_cust = no_duplicates.reset_index(drop=True).groupby('customer_id').apply(lambda df: df.duplicated('article_id'))"
   ]
  },
  {
   "cell_type": "code",
   "execution_count": 121,
   "id": "abdd71c7",
   "metadata": {},
   "outputs": [
    {
     "name": "stdout",
     "output_type": "stream",
     "text": [
      "CPU times: user 7.34 s, sys: 0 ns, total: 7.34 s\n",
      "Wall time: 7.34 s\n"
     ]
    }
   ],
   "source": [
    "%%time\n",
    "\n",
    "duplicated_purchases = [] # same article purchased by a given cust on two different t_dats\n",
    "\n",
    "for grp in no_duplicates.reset_index(drop=True).groupby('customer_id'):\n",
    "    duplicated_purchases += grp[1][grp[1].duplicated('article_id')]['article_id'].values.tolist()"
   ]
  },
  {
   "cell_type": "code",
   "execution_count": 123,
   "id": "124877ac",
   "metadata": {},
   "outputs": [
    {
     "data": {
      "text/plain": [
       "14676"
      ]
     },
     "execution_count": 123,
     "metadata": {},
     "output_type": "execute_result"
    }
   ],
   "source": [
    "len(duplicated_purchases)"
   ]
  },
  {
   "cell_type": "code",
   "execution_count": 127,
   "id": "9cb1587f",
   "metadata": {},
   "outputs": [
    {
     "data": {
      "text/plain": [
       "6051"
      ]
     },
     "execution_count": 127,
     "metadata": {},
     "output_type": "execute_result"
    }
   ],
   "source": [
    "np.unique(duplicated_purchases).shape[0]"
   ]
  },
  {
   "cell_type": "code",
   "execution_count": 130,
   "id": "a58c13c6",
   "metadata": {},
   "outputs": [
    {
     "data": {
      "text/plain": [
       "<AxesSubplot:>"
      ]
     },
     "execution_count": 130,
     "metadata": {},
     "output_type": "execute_result"
    },
    {
     "data": {
      "image/png": "[encoded data removed]",
      "text/plain": [
       "<Figure size 432x288 with 1 Axes>"
      ]
     },
     "metadata": {
      "needs_background": "light"
     },
     "output_type": "display_data"
    }
   ],
   "source": [
    "pd.value_counts(duplicated_purchases).plot()"
   ]
  },
  {
   "cell_type": "markdown",
   "id": "50570001",
   "metadata": {},
   "source": [
    "A small subset of items are purchased frequently by the same customer, other items are not.\n",
    "\n",
    "Let's be quite conservative here and show our prospective buyers only items that have been purchased mutliple times by someone at least on 5 occasions."
   ]
  },
  {
   "cell_type": "code",
   "execution_count": 209,
   "id": "f78d7bf8",
   "metadata": {},
   "outputs": [
    {
     "data": {
      "text/plain": [
       "528"
      ]
     },
     "execution_count": 209,
     "metadata": {},
     "output_type": "execute_result"
    }
   ],
   "source": [
    "duplicate_recs_ok = set(pd.value_counts(duplicated_purchases)[pd.value_counts(duplicated_purchases) > 5].index.tolist())\n",
    "len(duplicate_recs_ok)"
   ]
  },
  {
   "cell_type": "code",
   "execution_count": 188,
   "id": "abdcf246",
   "metadata": {},
   "outputs": [
    {
     "name": "stdout",
     "output_type": "stream",
     "text": [
      "CPU times: user 2.57 s, sys: 29.8 ms, total: 2.6 s\n",
      "Wall time: 2.6 s\n"
     ]
    }
   ],
   "source": [
    "%%time\n",
    "\n",
    "already_bought_by_cust = {}\n",
    "for grp in transactions_min.groupby('customer_id'):\n",
    "    already_bought_by_cust[grp[1]['customer_id'].iloc[0]] = set(grp[1]['article_id'])"
   ]
  },
  {
   "cell_type": "markdown",
   "id": "201f8d00",
   "metadata": {},
   "source": [
    "Let us now calculate the new submission and evaluate it on our validation set!"
   ]
  },
  {
   "cell_type": "code",
   "execution_count": 472,
   "id": "bbe87760",
   "metadata": {},
   "outputs": [
    {
     "data": {
      "text/plain": [
       "0.0036434351466822766"
      ]
     },
     "execution_count": 472,
     "metadata": {},
     "output_type": "execute_result"
    }
   ],
   "source": [
    "earlier_sub = pd.read_csv('data/subs/most_purchased_last_two_weeks.csv.gz')\n",
    "preds = earlier_sub['prediction'].str.split().values\n",
    "\n",
    "calculate_apk(earlier_sub['prediction'].str.split(), validation_set.purchases)"
   ]
  },
  {
   "cell_type": "markdown",
   "id": "86957896",
   "metadata": {},
   "source": [
    "Now what will the score be if we leverage our product-customer affinity matrix?"
   ]
  },
  {
   "cell_type": "code",
   "execution_count": 214,
   "id": "6d4ce47d",
   "metadata": {},
   "outputs": [
    {
     "name": "stdout",
     "output_type": "stream",
     "text": [
      "CPU times: user 2h 54min 58s, sys: 2min 4s, total: 2h 57min 2s\n",
      "Wall time: 31min 45s\n"
     ]
    }
   ],
   "source": [
    "%%time\n",
    "\n",
    "new_preds_by_cust = {}\n",
    "\n",
    "for i in range(art_by_cust_score.shape[1]):\n",
    "    ps = []\n",
    "    sub_cust_id = cust_ids[mapped_custs[i]]\n",
    "    for art_idx in art_by_cust_score[:, i].argsort(descending=True):\n",
    "        sub_art_id = art_ids[mapped_arts[art_idx]]\n",
    "        if (sub_art_id not in already_bought_by_cust[sub_cust_id]) or (sub_art_id in duplicate_recs_ok):\n",
    "            ps.append(sub_art_id)\n",
    "        if len(ps) > 12: break\n",
    "    new_preds_by_cust[sub_cust_id] = ps"
   ]
  },
  {
   "cell_type": "code",
   "execution_count": 216,
   "id": "1b89b50f",
   "metadata": {},
   "outputs": [],
   "source": [
    "# pd.to_pickle(new_preds_by_cust, 'data/new_preds_by_cust.pkl')"
   ]
  },
  {
   "cell_type": "code",
   "execution_count": 473,
   "id": "583c8323",
   "metadata": {},
   "outputs": [],
   "source": [
    "validation_set_cust_id2idx = {customer_id: i for i, customer_id in enumerate(validation_set.customer_id.values)}"
   ]
  },
  {
   "cell_type": "code",
   "execution_count": 474,
   "id": "903baaa8",
   "metadata": {},
   "outputs": [],
   "source": [
    "for cust_id, ps in new_preds_by_cust.items():\n",
    "    if cust_id in validation_set_cust_id2idx.keys():\n",
    "        validation_idx = validation_set_cust_id2idx[cust_id]\n",
    "        preds[validation_idx] = ps"
   ]
  },
  {
   "cell_type": "markdown",
   "id": "d8a2a3ec",
   "metadata": {},
   "source": [
    "The big moment... will our tweaked predictions do better?"
   ]
  },
  {
   "cell_type": "code",
   "execution_count": 475,
   "id": "cbce600b",
   "metadata": {},
   "outputs": [
    {
     "data": {
      "text/plain": [
       "0.003543575321813754"
      ]
     },
     "execution_count": 475,
     "metadata": {},
     "output_type": "execute_result"
    }
   ],
   "source": [
    "calculate_apk(preds, validation_set.purchases)"
   ]
  },
  {
   "cell_type": "markdown",
   "id": "bdbdc06e",
   "metadata": {},
   "source": [
    "We seem to be doing worse.\n",
    "\n",
    "At this point, it is really hard to say what might be going on.\n",
    "\n",
    "Could there be a bug somewhere as I am going back and forth mapping between ids? Absolutely. Could there be a bug somewhere else? Of course.\n",
    "\n",
    "It might also be very likely that the current approach just doesn't work, that this type of model trained just on frequent buyers is not very helpful. Or maybe it should be trained for longer / with different lr schedule. It kept improving during training, so maybe there is value in training it a bit more.\n",
    "\n",
    "But at this point this is not really important. I only wanted to get my feet wet with the problem, to start to understand what might go into building a RecSys model, or better yet, system.\n",
    "\n",
    "As such, let me do the two things that make sense here.\n",
    "\n",
    "1. Let me look at recent repeat purchases. This notebook on [Kaggle](https://www.kaggle.com/hengzheng/time-is-our-best-friend-v2/notebook) seems to suggest that there might be signal there.\n",
    "2. Let me change how we are evaluating results on our validation set. As is, mapping from ids back and forth is untenable, it is simply too cumbersome and error prone. The process should be: (a) write a submission to disk (b) call a function on it that would evaluate it against our validation set."
   ]
  },
  {
   "cell_type": "markdown",
   "id": "1a5a4d5b",
   "metadata": {},
   "source": [
    "### Recent repeat purchases"
   ]
  },
  {
   "cell_type": "code",
   "execution_count": 360,
   "id": "8a21ff29",
   "metadata": {},
   "outputs": [],
   "source": [
    "cust_purch_7_days = {}\n",
    "\n",
    "for cust_id, df in transactions_min[transactions_min.t_dat > (transactions_min.t_dat.max() - datetime.timedelta(days=7))].groupby('customer_id'):\n",
    "    cust_purch_7_days[cust_id] = df.article_id.values"
   ]
  },
  {
   "cell_type": "code",
   "execution_count": 322,
   "id": "ac57d1d9",
   "metadata": {},
   "outputs": [],
   "source": [
    "cust_purch_7_days_7_days_earlier = {}\n",
    "\n",
    "for cust_id, df in transactions_min[(transactions_min.t_dat < (transactions_min.t_dat.max() - datetime.timedelta(days=7))) & (transactions_min.t_dat > (transactions_min.t_dat.max() - datetime.timedelta(days=14)))].groupby('customer_id'):\n",
    "    cust_purch_7_days_7_days_earlier[cust_id] = df.article_id.values"
   ]
  },
  {
   "cell_type": "code",
   "execution_count": 328,
   "id": "061a052d",
   "metadata": {},
   "outputs": [
    {
     "data": {
      "text/plain": [
       "1675"
      ]
     },
     "execution_count": 328,
     "metadata": {},
     "output_type": "execute_result"
    }
   ],
   "source": [
    "len(set(cust_purch_7_days.keys()).intersection(set(cust_purch_7_days_7_days_earlier)))"
   ]
  },
  {
   "cell_type": "code",
   "execution_count": 329,
   "id": "886d5319",
   "metadata": {},
   "outputs": [
    {
     "data": {
      "text/plain": [
       "(3874, 3518)"
      ]
     },
     "execution_count": 329,
     "metadata": {},
     "output_type": "execute_result"
    }
   ],
   "source": [
    "len(cust_purch_7_days), len(cust_purch_7_days_7_days_earlier)"
   ]
  },
  {
   "cell_type": "markdown",
   "id": "42ca4da9",
   "metadata": {},
   "source": [
    "Wow, so many repeat customers week to week! Are they buying the same things?"
   ]
  },
  {
   "cell_type": "code",
   "execution_count": 330,
   "id": "1397b94d",
   "metadata": {},
   "outputs": [],
   "source": [
    "repeat_purchases = 0\n",
    "total_purchases = 0\n",
    "\n",
    "for repeat_cust in set(cust_purch_7_days.keys()).intersection(set(cust_purch_7_days_7_days_earlier)):\n",
    "    for purch in cust_purch_7_days[repeat_cust]:\n",
    "        total_purchases += 1\n",
    "        if purch in cust_purch_7_days_7_days_earlier[repeat_cust]:\n",
    "            repeat_purchases +=1            "
   ]
  },
  {
   "cell_type": "code",
   "execution_count": 332,
   "id": "8204e8a3",
   "metadata": {},
   "outputs": [
    {
     "data": {
      "text/plain": [
       "(562, 9982)"
      ]
     },
     "execution_count": 332,
     "metadata": {},
     "output_type": "execute_result"
    }
   ],
   "source": [
    "repeat_purchases, total_purchases"
   ]
  },
  {
   "cell_type": "markdown",
   "id": "1aee28c5",
   "metadata": {},
   "source": [
    "5% of items were rebought in a subsequent week. That is a lot. A good submission will likely need to somehow capture this tendency."
   ]
  },
  {
   "cell_type": "code",
   "execution_count": 383,
   "id": "82abee0e",
   "metadata": {},
   "outputs": [],
   "source": [
    "frequent_buyers = set(new_preds_by_cust.keys())"
   ]
  },
  {
   "cell_type": "code",
   "execution_count": 386,
   "id": "32d1b268",
   "metadata": {},
   "outputs": [],
   "source": [
    "from collections import defaultdict"
   ]
  },
  {
   "cell_type": "code",
   "execution_count": 404,
   "id": "bdac70ca",
   "metadata": {},
   "outputs": [],
   "source": [
    "cust_purchases = defaultdict(list)\n",
    "\n",
    "df = transactions_without_last_7_days[transactions_without_last_7_days.t_dat > (transactions_without_last_7_days.t_dat.max() - datetime.timedelta(days=7))]\n",
    "\n",
    "for idx, (cust_id, art_id) in df[['customer_id', 'article_id']].iterrows():\n",
    "    cust_purchases[cust_id].append(art_id)"
   ]
  },
  {
   "cell_type": "code",
   "execution_count": 484,
   "id": "1c908549",
   "metadata": {},
   "outputs": [],
   "source": [
    "earlier_sub = pd.read_csv('data/subs/most_purchased_last_two_weeks.csv.gz')\n",
    "preds = earlier_sub['prediction'].str.split().values"
   ]
  },
  {
   "cell_type": "code",
   "execution_count": 485,
   "id": "258e25f1",
   "metadata": {},
   "outputs": [],
   "source": [
    "for cust_id, purchases in cust_purchases.items():\n",
    "    if cust_id in validation_set_cust_id2idx.keys():\n",
    "        validation_idx = validation_set_cust_id2idx[cust_id]\n",
    "        purchases = purchases[:12]\n",
    "        preds[validation_idx][len(purchases):] = purchases"
   ]
  },
  {
   "cell_type": "code",
   "execution_count": 486,
   "id": "18b8ce02",
   "metadata": {},
   "outputs": [
    {
     "data": {
      "text/plain": [
       "0.009425028566550515"
      ]
     },
     "execution_count": 486,
     "metadata": {},
     "output_type": "execute_result"
    }
   ],
   "source": [
    "calculate_apk(preds, validation_set.purchases)"
   ]
  },
  {
   "cell_type": "markdown",
   "id": "68b4468e",
   "metadata": {},
   "source": [
    "Ok, this is significantly better. Apart from learning a bit more about the tendencies to expect in the dataset, this also tells me that my validation scheme could be okay-ish, there is some chance this part of the code works.\n",
    "\n",
    "Let's refactor it so that we can use it to evaluate actual submissions."
   ]
  },
  {
   "cell_type": "code",
   "execution_count": 489,
   "id": "441cd2e5",
   "metadata": {},
   "outputs": [
    {
     "data": {
      "text/plain": [
       "(1371980, 2)"
      ]
     },
     "execution_count": 489,
     "metadata": {},
     "output_type": "execute_result"
    }
   ],
   "source": [
    "sample_sub.shape"
   ]
  },
  {
   "cell_type": "code",
   "execution_count": 499,
   "id": "64dff271",
   "metadata": {},
   "outputs": [],
   "source": [
    "preds =[]\n",
    "c_ids_in_val = set(validation_set_cust_id2idx.keys())\n",
    "for c_id in sample_sub.customer_id:\n",
    "    if c_id in c_ids_in_val:\n",
    "        preds.append(validation_set.purchases[validation_set_cust_id2idx[c_id]])\n",
    "    else:\n",
    "        preds.append(['0']*12)"
   ]
  },
  {
   "cell_type": "code",
   "execution_count": 512,
   "id": "afa0b9ec",
   "metadata": {},
   "outputs": [],
   "source": [
    "preds_as_str = [' '.join(l) for l in preds]\n",
    "validation_set = sample_sub.copy()\n",
    "validation_set.prediction = preds_as_str"
   ]
  },
  {
   "cell_type": "code",
   "execution_count": 521,
   "id": "1144877a",
   "metadata": {},
   "outputs": [],
   "source": [
    "validation_set.to_csv('data/subs/validation_set.csv', index=False)"
   ]
  },
  {
   "cell_type": "markdown",
   "id": "aabeaea1",
   "metadata": {},
   "source": [
    "What could our evaluation code look like?"
   ]
  },
  {
   "cell_type": "code",
   "execution_count": 526,
   "id": "e36becc1",
   "metadata": {},
   "outputs": [],
   "source": [
    "\n",
    "sub_to_eval_2 = pd.read_csv('data/subs/most_purchased_3_mths_ago_two_weeks.csv.gz')"
   ]
  },
  {
   "cell_type": "code",
   "execution_count": 573,
   "id": "08819149",
   "metadata": {},
   "outputs": [],
   "source": [
    "def eval_sub(sub_csv, skip_cust_with_no_purchases=True):\n",
    "    sub=pd.read_csv(sub_csv)\n",
    "    validation_set=pd.read_csv('data/subs/validation_set.csv')\n",
    "\n",
    "    apks = []\n",
    "    \n",
    "    no_purchases_pattern = ['0']*12\n",
    "    for pred, gt in zip(sub.prediction.str.split(), validation_set.prediction.str.split()):\n",
    "        if skip_cust_with_no_purchases & (gt == no_purchases_pattern): continue\n",
    "        apks.append(apk(pred, gt))\n",
    "    return np.mean(apks)"
   ]
  },
  {
   "cell_type": "code",
   "execution_count": 576,
   "id": "0df1ec38",
   "metadata": {},
   "outputs": [
    {
     "data": {
      "text/plain": [
       "0.0036434351466822766"
      ]
     },
     "execution_count": 576,
     "metadata": {},
     "output_type": "execute_result"
    }
   ],
   "source": [
    "eval_sub('data/subs/most_purchased_last_two_weeks.csv.gz')"
   ]
  },
  {
   "cell_type": "code",
   "execution_count": 577,
   "id": "473a5dc3",
   "metadata": {},
   "outputs": [
    {
     "data": {
      "text/plain": [
       "0.0001831941647536627"
      ]
     },
     "execution_count": 577,
     "metadata": {},
     "output_type": "execute_result"
    }
   ],
   "source": [
    "eval_sub('data/subs/most_purchased_last_two_weeks.csv.gz', skip_cust_with_no_purchases=False)"
   ]
  },
  {
   "cell_type": "code",
   "execution_count": 578,
   "id": "9ec9ced5",
   "metadata": {},
   "outputs": [
    {
     "data": {
      "text/plain": [
       "0.00044962634537753403"
      ]
     },
     "execution_count": 578,
     "metadata": {},
     "output_type": "execute_result"
    }
   ],
   "source": [
    "eval_sub('data/subs/most_purchased_3_mths_ago_two_weeks.csv.gz')"
   ]
  }
 ],
 "metadata": {
  "kernelspec": {
   "display_name": "Python 3",
   "language": "python",
   "name": "python3"
  },
  "language_info": {
   "codemirror_mode": {
    "name": "ipython",
    "version": 3
   },
   "file_extension": ".py",
   "mimetype": "text/x-python",
   "name": "python",
   "nbconvert_exporter": "python",
   "pygments_lexer": "ipython3",
   "version": "3.8.8"
  }
 },
 "nbformat": 4,
 "nbformat_minor": 5
}
