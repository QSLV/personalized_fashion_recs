{
 "cells": [
  {
   "cell_type": "markdown",
   "id": "fbc794e1",
   "metadata": {},
   "source": [
    "The other two notebooks have been finein the sense that I learned a lot about the problem.\n",
    "\n",
    "I got a sense for how candidate genertion feels, what trends might exist in the data, etc.\n",
    "\n",
    "Let's not try generating a submission implementing a full (albeit small) data processing pipeline where at the end we will train an lgbm model and make a submission.\n",
    "\n",
    "Let's get started."
   ]
  },
  {
   "cell_type": "markdown",
   "id": "4572fa94",
   "metadata": {},
   "source": [
    "# Feature (and candidate) Engineering"
   ]
  },
  {
   "cell_type": "code",
   "execution_count": 1,
   "id": "3e0b92b9",
   "metadata": {},
   "outputs": [],
   "source": [
    "import pandas as pd\n",
    "import numpy as np\n",
    "import arrow"
   ]
  },
  {
   "cell_type": "code",
   "execution_count": 3,
   "id": "0688bbf1",
   "metadata": {},
   "outputs": [
    {
     "name": "stdout",
     "output_type": "stream",
     "text": [
      "CPU times: user 20.7 s, sys: 1.83 s, total: 22.5 s\n",
      "Wall time: 23.9 s\n"
     ]
    }
   ],
   "source": [
    "%%time\n",
    "# https://www.kaggle.com/paweljankiewicz/hm-create-dataset-samples\n",
    "\n",
    "transactions = pd.read_csv('data/transactions_train.csv', dtype={\"article_id\": \"str\"})\n",
    "customers = pd.read_csv('data/customers.csv')\n",
    "articles = pd.read_csv('data/articles.csv', dtype={\"article_id\": \"str\"})"
   ]
  },
  {
   "cell_type": "code",
   "execution_count": 6,
   "id": "8e7a52ad",
   "metadata": {},
   "outputs": [
    {
     "name": "stdout",
     "output_type": "stream",
     "text": [
      "0.001\n",
      "0.01\n",
      "0.05\n",
      "CPU times: user 15.9 s, sys: 53.7 ms, total: 15.9 s\n",
      "Wall time: 15.9 s\n"
     ]
    }
   ],
   "source": [
    "%%time\n",
    "\n",
    "for sample_repr, sample in [(\"01\", 0.001), (\"1\", 0.01), (\"5\", 0.05)]:\n",
    "    print(sample)\n",
    "    customers_sample = customers.sample(int(customers.shape[0]*sample), replace=False)\n",
    "    customers_sample_ids = set(customers_sample[\"customer_id\"])\n",
    "    transactions_sample = transactions[transactions[\"customer_id\"].isin(customers_sample_ids)]\n",
    "    articles_sample_ids = set(transactions_sample[\"article_id\"])\n",
    "    articles_sample = articles[articles[\"article_id\"].isin(articles_sample_ids)]\n",
    "    customers_sample.to_csv(f\"data/customers_sample_{sample_repr}.csv.gz\", index=False)\n",
    "    transactions_sample.to_csv(f\"data/transactions_train_sample_{sample_repr}.csv.gz\", index=False)\n",
    "    articles_sample.to_csv(f\"data/articles_train_sample_{sample_repr}.csv.gz\", index=False)"
   ]
  },
  {
   "cell_type": "code",
   "execution_count": 2,
   "id": "b932914e",
   "metadata": {},
   "outputs": [],
   "source": [
    "transactions = pd.read_csv('data/transactions_train_sample_01.csv.gz', dtype={\"article_id\": \"str\"})\n",
    "customers = pd.read_csv('data/customers_sample_01.csv.gz')\n",
    "articles = pd.read_csv('data/articles_train_sample_01.csv.gz', dtype={\"article_id\": \"str\"})"
   ]
  },
  {
   "cell_type": "markdown",
   "id": "419c0e32",
   "metadata": {},
   "source": [
    "We can skip customers and articles for now, the most heart of the problem are the transactions.\n",
    "\n",
    "We want to use features we generate for up to an including week $t$ to generate predictions for week $t_{t+1}$.\n",
    "\n",
    "Of course, that is just one way to structure the problem. We could treat it as a time series problem where we look at the sequence of weeks $t_1...t_n$ and predict the purchases for week $t_{n+1}$. There are many ways to frame the problem.\n",
    "\n",
    "But we want to do something that would be\n",
    "* simple\n",
    "* has a chance to lending itself well for using gradient boosted trees\n",
    "\n",
    "In line with [the suggestion from Pawel Jankiewicz](https://www.kaggle.com/c/h-and-m-personalized-fashion-recommendations/discussion/307288), we will predict baskets. And to make things even simpler, we will aggregate purchases by weeks."
   ]
  },
  {
   "cell_type": "code",
   "execution_count": 3,
   "id": "93805eda",
   "metadata": {},
   "outputs": [],
   "source": [
    "transactions['week'] = transactions.t_dat \\\n",
    "    .apply(lambda t: arrow.get(t)) \\\n",
    "    .apply(lambda t: t.year * 100 + t.week) \\\n",
    "    .rank(method='dense').astype('int')\n",
    "\n",
    "transactions.drop(columns='t_dat', inplace=True)"
   ]
  },
  {
   "cell_type": "code",
   "execution_count": 4,
   "id": "0ced0b19",
   "metadata": {},
   "outputs": [],
   "source": [
    "transactions['purchased'] = 1 # our positive examples\n",
    "\n",
    "transactions.drop_duplicates(['customer_id', 'article_id', 'week'], inplace=True)"
   ]
  },
  {
   "cell_type": "code",
   "execution_count": 5,
   "id": "884cc983",
   "metadata": {},
   "outputs": [],
   "source": [
    "bought_previous_week = transactions.copy()\n",
    "bought_previous_week.week += 1\n",
    "\n",
    "bought_previous_week.purchased = 0 # negative examples, possibly\n",
    "bought_previous_week['bought_previous_week'] = 1"
   ]
  },
  {
   "cell_type": "code",
   "execution_count": 6,
   "id": "85267001",
   "metadata": {},
   "outputs": [],
   "source": [
    "# updating true sales already in transactions with information on whether an article was bought by a customer\n",
    "# in the previous week\n",
    "\n",
    "transactions = pd.merge(\n",
    "    transactions,\n",
    "    bought_previous_week[['customer_id', 'article_id', 'week', 'bought_previous_week']],\n",
    "    on=['customer_id', 'article_id', 'week'], how='left'\n",
    ")\n",
    "\n",
    "transactions.bought_previous_week.fillna(0, inplace=True)"
   ]
  },
  {
   "cell_type": "code",
   "execution_count": 7,
   "id": "1b72c351",
   "metadata": {},
   "outputs": [],
   "source": [
    "# adding our negative examples\n",
    "\n",
    "transactions = pd.concat([transactions, bought_previous_week])"
   ]
  },
  {
   "cell_type": "markdown",
   "id": "3af9adfc",
   "metadata": {},
   "source": [
    "`transactions` now contains some fake transactions. But if you observe, I am always adding these possibly fake transactions (for instance, negative examples where in fact a purchase was made of that article by a given customer in a given week) at the bottom of the dataframe.\n",
    "\n",
    "This insight is key. I will be able to remove them by using `drop_duplicates` once I am done with generating negative examples (or data to predict on for the week in the test set).\n",
    "\n",
    "Once you trace what is going on here and spot the techniques I am using to generate candidate purchases / negative examples, you will have everything to completely rock this competition! This is one framing of the problem, but a very good one."
   ]
  },
  {
   "cell_type": "code",
   "execution_count": 8,
   "id": "ae76d8b3",
   "metadata": {},
   "outputs": [
    {
     "data": {
      "text/html": [
       "<div>\n",
       "<style scoped>\n",
       "    .dataframe tbody tr th:only-of-type {\n",
       "        vertical-align: middle;\n",
       "    }\n",
       "\n",
       "    .dataframe tbody tr th {\n",
       "        vertical-align: top;\n",
       "    }\n",
       "\n",
       "    .dataframe thead th {\n",
       "        text-align: right;\n",
       "    }\n",
       "</style>\n",
       "<table border=\"1\" class=\"dataframe\">\n",
       "  <thead>\n",
       "    <tr style=\"text-align: right;\">\n",
       "      <th></th>\n",
       "      <th>customer_id</th>\n",
       "      <th>article_id</th>\n",
       "      <th>price</th>\n",
       "      <th>sales_channel_id</th>\n",
       "      <th>week</th>\n",
       "      <th>purchased</th>\n",
       "      <th>bought_previous_week</th>\n",
       "    </tr>\n",
       "  </thead>\n",
       "  <tbody>\n",
       "    <tr>\n",
       "      <th>0</th>\n",
       "      <td>05d0c63e8a3ff46f9519e38f1af70007d474650975ef40...</td>\n",
       "      <td>0613497006</td>\n",
       "      <td>0.033881</td>\n",
       "      <td>2</td>\n",
       "      <td>2</td>\n",
       "      <td>1</td>\n",
       "      <td>0.0</td>\n",
       "    </tr>\n",
       "    <tr>\n",
       "      <th>1</th>\n",
       "      <td>05d0c63e8a3ff46f9519e38f1af70007d474650975ef40...</td>\n",
       "      <td>0474138001</td>\n",
       "      <td>0.033881</td>\n",
       "      <td>2</td>\n",
       "      <td>2</td>\n",
       "      <td>1</td>\n",
       "      <td>0.0</td>\n",
       "    </tr>\n",
       "    <tr>\n",
       "      <th>2</th>\n",
       "      <td>2e50a35485613ab376d1d1acd3a1efef779fcfe80bca46...</td>\n",
       "      <td>0686631001</td>\n",
       "      <td>0.042356</td>\n",
       "      <td>1</td>\n",
       "      <td>2</td>\n",
       "      <td>1</td>\n",
       "      <td>0.0</td>\n",
       "    </tr>\n",
       "    <tr>\n",
       "      <th>3</th>\n",
       "      <td>4670f2d4f48201418c5f79af70ae2dd5e53affacb21b4a...</td>\n",
       "      <td>0514134001</td>\n",
       "      <td>0.067780</td>\n",
       "      <td>1</td>\n",
       "      <td>2</td>\n",
       "      <td>1</td>\n",
       "      <td>0.0</td>\n",
       "    </tr>\n",
       "    <tr>\n",
       "      <th>4</th>\n",
       "      <td>4670f2d4f48201418c5f79af70ae2dd5e53affacb21b4a...</td>\n",
       "      <td>0639685006</td>\n",
       "      <td>0.042356</td>\n",
       "      <td>1</td>\n",
       "      <td>2</td>\n",
       "      <td>1</td>\n",
       "      <td>0.0</td>\n",
       "    </tr>\n",
       "    <tr>\n",
       "      <th>...</th>\n",
       "      <td>...</td>\n",
       "      <td>...</td>\n",
       "      <td>...</td>\n",
       "      <td>...</td>\n",
       "      <td>...</td>\n",
       "      <td>...</td>\n",
       "      <td>...</td>\n",
       "    </tr>\n",
       "    <tr>\n",
       "      <th>32187</th>\n",
       "      <td>db1f0328dcdc4e12318b7091159ea412af2934047fc191...</td>\n",
       "      <td>0905811003</td>\n",
       "      <td>0.033881</td>\n",
       "      <td>2</td>\n",
       "      <td>108</td>\n",
       "      <td>0</td>\n",
       "      <td>1.0</td>\n",
       "    </tr>\n",
       "    <tr>\n",
       "      <th>32188</th>\n",
       "      <td>db1f0328dcdc4e12318b7091159ea412af2934047fc191...</td>\n",
       "      <td>0801673001</td>\n",
       "      <td>0.016932</td>\n",
       "      <td>2</td>\n",
       "      <td>108</td>\n",
       "      <td>0</td>\n",
       "      <td>1.0</td>\n",
       "    </tr>\n",
       "    <tr>\n",
       "      <th>32189</th>\n",
       "      <td>db1f0328dcdc4e12318b7091159ea412af2934047fc191...</td>\n",
       "      <td>0886566001</td>\n",
       "      <td>0.033881</td>\n",
       "      <td>2</td>\n",
       "      <td>108</td>\n",
       "      <td>0</td>\n",
       "      <td>1.0</td>\n",
       "    </tr>\n",
       "    <tr>\n",
       "      <th>32190</th>\n",
       "      <td>db1f0328dcdc4e12318b7091159ea412af2934047fc191...</td>\n",
       "      <td>0905811002</td>\n",
       "      <td>0.033881</td>\n",
       "      <td>2</td>\n",
       "      <td>108</td>\n",
       "      <td>0</td>\n",
       "      <td>1.0</td>\n",
       "    </tr>\n",
       "    <tr>\n",
       "      <th>32191</th>\n",
       "      <td>db1f0328dcdc4e12318b7091159ea412af2934047fc191...</td>\n",
       "      <td>0905811001</td>\n",
       "      <td>0.033881</td>\n",
       "      <td>2</td>\n",
       "      <td>108</td>\n",
       "      <td>0</td>\n",
       "      <td>1.0</td>\n",
       "    </tr>\n",
       "  </tbody>\n",
       "</table>\n",
       "<p>57068 rows × 7 columns</p>\n",
       "</div>"
      ],
      "text/plain": [
       "                                             customer_id  article_id  \\\n",
       "0      05d0c63e8a3ff46f9519e38f1af70007d474650975ef40...  0613497006   \n",
       "1      05d0c63e8a3ff46f9519e38f1af70007d474650975ef40...  0474138001   \n",
       "2      2e50a35485613ab376d1d1acd3a1efef779fcfe80bca46...  0686631001   \n",
       "3      4670f2d4f48201418c5f79af70ae2dd5e53affacb21b4a...  0514134001   \n",
       "4      4670f2d4f48201418c5f79af70ae2dd5e53affacb21b4a...  0639685006   \n",
       "...                                                  ...         ...   \n",
       "32187  db1f0328dcdc4e12318b7091159ea412af2934047fc191...  0905811003   \n",
       "32188  db1f0328dcdc4e12318b7091159ea412af2934047fc191...  0801673001   \n",
       "32189  db1f0328dcdc4e12318b7091159ea412af2934047fc191...  0886566001   \n",
       "32190  db1f0328dcdc4e12318b7091159ea412af2934047fc191...  0905811002   \n",
       "32191  db1f0328dcdc4e12318b7091159ea412af2934047fc191...  0905811001   \n",
       "\n",
       "          price  sales_channel_id  week  purchased  bought_previous_week  \n",
       "0      0.033881                 2     2          1                   0.0  \n",
       "1      0.033881                 2     2          1                   0.0  \n",
       "2      0.042356                 1     2          1                   0.0  \n",
       "3      0.067780                 1     2          1                   0.0  \n",
       "4      0.042356                 1     2          1                   0.0  \n",
       "...         ...               ...   ...        ...                   ...  \n",
       "32187  0.033881                 2   108          0                   1.0  \n",
       "32188  0.016932                 2   108          0                   1.0  \n",
       "32189  0.033881                 2   108          0                   1.0  \n",
       "32190  0.033881                 2   108          0                   1.0  \n",
       "32191  0.033881                 2   108          0                   1.0  \n",
       "\n",
       "[57068 rows x 7 columns]"
      ]
     },
     "execution_count": 8,
     "metadata": {},
     "output_type": "execute_result"
    }
   ],
   "source": [
    "transactions"
   ]
  },
  {
   "cell_type": "code",
   "execution_count": 9,
   "id": "a76048c8",
   "metadata": {},
   "outputs": [],
   "source": [
    "bestsellers_previous_week = transactions \\\n",
    "    .groupby('week')['article_id'].value_counts() \\\n",
    "    .groupby('week').head(20) \\\n",
    "    .groupby('week').rank(method='dense', ascending=False) \\\n",
    "    .to_frame('bestseller_previous_week_rank').reset_index()\n",
    "\n",
    "bestsellers_previous_week.week += 1\n",
    "\n",
    "bestsellers_previous_week = bestsellers_previous_week[bestsellers_previous_week.week != bestsellers_previous_week.max().week.item()]"
   ]
  },
  {
   "cell_type": "code",
   "execution_count": 10,
   "id": "c684ccfb",
   "metadata": {},
   "outputs": [
    {
     "data": {
      "text/html": [
       "<div>\n",
       "<style scoped>\n",
       "    .dataframe tbody tr th:only-of-type {\n",
       "        vertical-align: middle;\n",
       "    }\n",
       "\n",
       "    .dataframe tbody tr th {\n",
       "        vertical-align: top;\n",
       "    }\n",
       "\n",
       "    .dataframe thead th {\n",
       "        text-align: right;\n",
       "    }\n",
       "</style>\n",
       "<table border=\"1\" class=\"dataframe\">\n",
       "  <thead>\n",
       "    <tr style=\"text-align: right;\">\n",
       "      <th></th>\n",
       "      <th>week</th>\n",
       "      <th>article_id</th>\n",
       "      <th>bestseller_previous_week_rank</th>\n",
       "    </tr>\n",
       "  </thead>\n",
       "  <tbody>\n",
       "    <tr>\n",
       "      <th>0</th>\n",
       "      <td>2</td>\n",
       "      <td>0451229014</td>\n",
       "      <td>1.0</td>\n",
       "    </tr>\n",
       "    <tr>\n",
       "      <th>1</th>\n",
       "      <td>2</td>\n",
       "      <td>0651335004</td>\n",
       "      <td>1.0</td>\n",
       "    </tr>\n",
       "    <tr>\n",
       "      <th>2</th>\n",
       "      <td>2</td>\n",
       "      <td>0658848001</td>\n",
       "      <td>1.0</td>\n",
       "    </tr>\n",
       "    <tr>\n",
       "      <th>3</th>\n",
       "      <td>2</td>\n",
       "      <td>0666143001</td>\n",
       "      <td>1.0</td>\n",
       "    </tr>\n",
       "    <tr>\n",
       "      <th>4</th>\n",
       "      <td>2</td>\n",
       "      <td>0671515003</td>\n",
       "      <td>1.0</td>\n",
       "    </tr>\n",
       "    <tr>\n",
       "      <th>...</th>\n",
       "      <td>...</td>\n",
       "      <td>...</td>\n",
       "      <td>...</td>\n",
       "    </tr>\n",
       "    <tr>\n",
       "      <th>2122</th>\n",
       "      <td>108</td>\n",
       "      <td>0372860068</td>\n",
       "      <td>2.0</td>\n",
       "    </tr>\n",
       "    <tr>\n",
       "      <th>2123</th>\n",
       "      <td>108</td>\n",
       "      <td>0377277002</td>\n",
       "      <td>2.0</td>\n",
       "    </tr>\n",
       "    <tr>\n",
       "      <th>2124</th>\n",
       "      <td>108</td>\n",
       "      <td>0436083001</td>\n",
       "      <td>2.0</td>\n",
       "    </tr>\n",
       "    <tr>\n",
       "      <th>2125</th>\n",
       "      <td>108</td>\n",
       "      <td>0448509014</td>\n",
       "      <td>2.0</td>\n",
       "    </tr>\n",
       "    <tr>\n",
       "      <th>2126</th>\n",
       "      <td>108</td>\n",
       "      <td>0456163060</td>\n",
       "      <td>2.0</td>\n",
       "    </tr>\n",
       "  </tbody>\n",
       "</table>\n",
       "<p>2127 rows × 3 columns</p>\n",
       "</div>"
      ],
      "text/plain": [
       "      week  article_id  bestseller_previous_week_rank\n",
       "0        2  0451229014                            1.0\n",
       "1        2  0651335004                            1.0\n",
       "2        2  0658848001                            1.0\n",
       "3        2  0666143001                            1.0\n",
       "4        2  0671515003                            1.0\n",
       "...    ...         ...                            ...\n",
       "2122   108  0372860068                            2.0\n",
       "2123   108  0377277002                            2.0\n",
       "2124   108  0436083001                            2.0\n",
       "2125   108  0448509014                            2.0\n",
       "2126   108  0456163060                            2.0\n",
       "\n",
       "[2127 rows x 3 columns]"
      ]
     },
     "execution_count": 10,
     "metadata": {},
     "output_type": "execute_result"
    }
   ],
   "source": [
    "bestsellers_previous_week"
   ]
  },
  {
   "cell_type": "code",
   "execution_count": 11,
   "id": "483ba523",
   "metadata": {},
   "outputs": [],
   "source": [
    "transactions = pd.merge(transactions, bestsellers_previous_week, on=['week', 'article_id'], how='left')\n",
    "\n",
    "transactions.bestseller_previous_week_rank.fillna(-1, inplace=True)"
   ]
  },
  {
   "cell_type": "code",
   "execution_count": 12,
   "id": "ac2046ec",
   "metadata": {},
   "outputs": [],
   "source": [
    "negative_examples_bestsellers_previous_week = pd.merge( # negative examples AND candidates for week 108!\n",
    "    transactions[['customer_id', 'week', 'sales_channel_id']].drop_duplicates(),\n",
    "    bestsellers_previous_week, how='outer', on='week')"
   ]
  },
  {
   "cell_type": "code",
   "execution_count": 13,
   "id": "25f42ca8",
   "metadata": {},
   "outputs": [
    {
     "data": {
      "text/plain": [
       "(301767, 5)"
      ]
     },
     "execution_count": 13,
     "metadata": {},
     "output_type": "execute_result"
    }
   ],
   "source": [
    "negative_examples_bestsellers_previous_week.shape"
   ]
  },
  {
   "cell_type": "code",
   "execution_count": 14,
   "id": "42d33bf8",
   "metadata": {},
   "outputs": [],
   "source": [
    "# need to recover price\n",
    "\n",
    "negative_examples_bestsellers_previous_week.week -= 1\n",
    "negative_examples_bestsellers_previous_week = pd.merge(\n",
    "    negative_examples_bestsellers_previous_week,\n",
    "    transactions[['week', 'article_id', 'price']].groupby(['week', 'article_id']).mean().reset_index(), # mean of prices\n",
    "                                                                                                        # across days / channels\n",
    "    on=['week', 'article_id'],\n",
    "    how='left'\n",
    ") # not perfect without the 'sales_channel_id' but probably good enough\n",
    "negative_examples_bestsellers_previous_week.week += 1"
   ]
  },
  {
   "cell_type": "code",
   "execution_count": 15,
   "id": "a2a29e7b",
   "metadata": {},
   "outputs": [
    {
     "data": {
      "text/html": [
       "<div>\n",
       "<style scoped>\n",
       "    .dataframe tbody tr th:only-of-type {\n",
       "        vertical-align: middle;\n",
       "    }\n",
       "\n",
       "    .dataframe tbody tr th {\n",
       "        vertical-align: top;\n",
       "    }\n",
       "\n",
       "    .dataframe thead th {\n",
       "        text-align: right;\n",
       "    }\n",
       "</style>\n",
       "<table border=\"1\" class=\"dataframe\">\n",
       "  <thead>\n",
       "    <tr style=\"text-align: right;\">\n",
       "      <th></th>\n",
       "      <th>customer_id</th>\n",
       "      <th>week</th>\n",
       "      <th>sales_channel_id</th>\n",
       "      <th>article_id</th>\n",
       "      <th>bestseller_previous_week_rank</th>\n",
       "      <th>price</th>\n",
       "    </tr>\n",
       "  </thead>\n",
       "  <tbody>\n",
       "    <tr>\n",
       "      <th>0</th>\n",
       "      <td>05d0c63e8a3ff46f9519e38f1af70007d474650975ef40...</td>\n",
       "      <td>2</td>\n",
       "      <td>2</td>\n",
       "      <td>0451229014</td>\n",
       "      <td>1.0</td>\n",
       "      <td>0.050831</td>\n",
       "    </tr>\n",
       "    <tr>\n",
       "      <th>1</th>\n",
       "      <td>05d0c63e8a3ff46f9519e38f1af70007d474650975ef40...</td>\n",
       "      <td>2</td>\n",
       "      <td>2</td>\n",
       "      <td>0651335004</td>\n",
       "      <td>1.0</td>\n",
       "      <td>0.014492</td>\n",
       "    </tr>\n",
       "    <tr>\n",
       "      <th>2</th>\n",
       "      <td>05d0c63e8a3ff46f9519e38f1af70007d474650975ef40...</td>\n",
       "      <td>2</td>\n",
       "      <td>2</td>\n",
       "      <td>0658848001</td>\n",
       "      <td>1.0</td>\n",
       "      <td>0.011847</td>\n",
       "    </tr>\n",
       "    <tr>\n",
       "      <th>3</th>\n",
       "      <td>05d0c63e8a3ff46f9519e38f1af70007d474650975ef40...</td>\n",
       "      <td>2</td>\n",
       "      <td>2</td>\n",
       "      <td>0666143001</td>\n",
       "      <td>1.0</td>\n",
       "      <td>0.011847</td>\n",
       "    </tr>\n",
       "    <tr>\n",
       "      <th>4</th>\n",
       "      <td>05d0c63e8a3ff46f9519e38f1af70007d474650975ef40...</td>\n",
       "      <td>2</td>\n",
       "      <td>2</td>\n",
       "      <td>0671515003</td>\n",
       "      <td>1.0</td>\n",
       "      <td>0.015237</td>\n",
       "    </tr>\n",
       "    <tr>\n",
       "      <th>...</th>\n",
       "      <td>...</td>\n",
       "      <td>...</td>\n",
       "      <td>...</td>\n",
       "      <td>...</td>\n",
       "      <td>...</td>\n",
       "      <td>...</td>\n",
       "    </tr>\n",
       "    <tr>\n",
       "      <th>301762</th>\n",
       "      <td>db1f0328dcdc4e12318b7091159ea412af2934047fc191...</td>\n",
       "      <td>108</td>\n",
       "      <td>2</td>\n",
       "      <td>0372860068</td>\n",
       "      <td>2.0</td>\n",
       "      <td>0.013542</td>\n",
       "    </tr>\n",
       "    <tr>\n",
       "      <th>301763</th>\n",
       "      <td>db1f0328dcdc4e12318b7091159ea412af2934047fc191...</td>\n",
       "      <td>108</td>\n",
       "      <td>2</td>\n",
       "      <td>0377277002</td>\n",
       "      <td>2.0</td>\n",
       "      <td>0.008085</td>\n",
       "    </tr>\n",
       "    <tr>\n",
       "      <th>301764</th>\n",
       "      <td>db1f0328dcdc4e12318b7091159ea412af2934047fc191...</td>\n",
       "      <td>108</td>\n",
       "      <td>2</td>\n",
       "      <td>0436083001</td>\n",
       "      <td>2.0</td>\n",
       "      <td>0.024322</td>\n",
       "    </tr>\n",
       "    <tr>\n",
       "      <th>301765</th>\n",
       "      <td>db1f0328dcdc4e12318b7091159ea412af2934047fc191...</td>\n",
       "      <td>108</td>\n",
       "      <td>2</td>\n",
       "      <td>0448509014</td>\n",
       "      <td>2.0</td>\n",
       "      <td>0.040237</td>\n",
       "    </tr>\n",
       "    <tr>\n",
       "      <th>301766</th>\n",
       "      <td>db1f0328dcdc4e12318b7091159ea412af2934047fc191...</td>\n",
       "      <td>108</td>\n",
       "      <td>2</td>\n",
       "      <td>0456163060</td>\n",
       "      <td>2.0</td>\n",
       "      <td>0.033881</td>\n",
       "    </tr>\n",
       "  </tbody>\n",
       "</table>\n",
       "<p>301767 rows × 6 columns</p>\n",
       "</div>"
      ],
      "text/plain": [
       "                                              customer_id  week  \\\n",
       "0       05d0c63e8a3ff46f9519e38f1af70007d474650975ef40...     2   \n",
       "1       05d0c63e8a3ff46f9519e38f1af70007d474650975ef40...     2   \n",
       "2       05d0c63e8a3ff46f9519e38f1af70007d474650975ef40...     2   \n",
       "3       05d0c63e8a3ff46f9519e38f1af70007d474650975ef40...     2   \n",
       "4       05d0c63e8a3ff46f9519e38f1af70007d474650975ef40...     2   \n",
       "...                                                   ...   ...   \n",
       "301762  db1f0328dcdc4e12318b7091159ea412af2934047fc191...   108   \n",
       "301763  db1f0328dcdc4e12318b7091159ea412af2934047fc191...   108   \n",
       "301764  db1f0328dcdc4e12318b7091159ea412af2934047fc191...   108   \n",
       "301765  db1f0328dcdc4e12318b7091159ea412af2934047fc191...   108   \n",
       "301766  db1f0328dcdc4e12318b7091159ea412af2934047fc191...   108   \n",
       "\n",
       "        sales_channel_id  article_id  bestseller_previous_week_rank     price  \n",
       "0                      2  0451229014                            1.0  0.050831  \n",
       "1                      2  0651335004                            1.0  0.014492  \n",
       "2                      2  0658848001                            1.0  0.011847  \n",
       "3                      2  0666143001                            1.0  0.011847  \n",
       "4                      2  0671515003                            1.0  0.015237  \n",
       "...                  ...         ...                            ...       ...  \n",
       "301762                 2  0372860068                            2.0  0.013542  \n",
       "301763                 2  0377277002                            2.0  0.008085  \n",
       "301764                 2  0436083001                            2.0  0.024322  \n",
       "301765                 2  0448509014                            2.0  0.040237  \n",
       "301766                 2  0456163060                            2.0  0.033881  \n",
       "\n",
       "[301767 rows x 6 columns]"
      ]
     },
     "execution_count": 15,
     "metadata": {},
     "output_type": "execute_result"
    }
   ],
   "source": [
    "negative_examples_bestsellers_previous_week"
   ]
  },
  {
   "cell_type": "code",
   "execution_count": 16,
   "id": "bd771b27",
   "metadata": {},
   "outputs": [],
   "source": [
    "transactions = pd.concat([transactions, negative_examples_bestsellers_previous_week])\n",
    "transactions.reset_index(inplace=True, drop=True)"
   ]
  },
  {
   "cell_type": "markdown",
   "id": "a6d47722",
   "metadata": {},
   "source": [
    "Let's generate candidate examples for all the customers in the test set as well."
   ]
  },
  {
   "cell_type": "code",
   "execution_count": 17,
   "id": "33ff5334",
   "metadata": {},
   "outputs": [],
   "source": [
    "test_data = pd.read_csv('data/sample_submission.csv')[['customer_id']]"
   ]
  },
  {
   "cell_type": "code",
   "execution_count": 18,
   "id": "342c94ae",
   "metadata": {},
   "outputs": [],
   "source": [
    "test_data['sales_channel_id'] = 1"
   ]
  },
  {
   "cell_type": "code",
   "execution_count": 19,
   "id": "4f755218",
   "metadata": {},
   "outputs": [],
   "source": [
    "test_data_2 = test_data.copy()\n",
    "test_data_2['sales_channel_id'] = 2"
   ]
  },
  {
   "cell_type": "code",
   "execution_count": 20,
   "id": "ef94bc0b",
   "metadata": {},
   "outputs": [],
   "source": [
    "test_data = pd.concat([test_data, test_data_2])"
   ]
  },
  {
   "cell_type": "code",
   "execution_count": 21,
   "id": "693ddc03",
   "metadata": {},
   "outputs": [],
   "source": [
    "negative_examples_bestsellers_previous_week = \\\n",
    "    negative_examples_bestsellers_previous_week[\n",
    "        negative_examples_bestsellers_previous_week.week == negative_examples_bestsellers_previous_week.week.max()\n",
    "]"
   ]
  },
  {
   "cell_type": "code",
   "execution_count": 22,
   "id": "0f925463",
   "metadata": {},
   "outputs": [],
   "source": [
    "bestseller_article_info = negative_examples_bestsellers_previous_week.drop_duplicates(['article_id', 'sales_channel_id'])[['article_id', 'sales_channel_id', 'bestseller_previous_week_rank', 'price']]"
   ]
  },
  {
   "cell_type": "code",
   "execution_count": 23,
   "id": "7c893ad5",
   "metadata": {},
   "outputs": [
    {
     "data": {
      "text/plain": [
       "(2743960, 2)"
      ]
     },
     "execution_count": 23,
     "metadata": {},
     "output_type": "execute_result"
    }
   ],
   "source": [
    "test_data.shape"
   ]
  },
  {
   "cell_type": "code",
   "execution_count": 24,
   "id": "7c1276bf",
   "metadata": {},
   "outputs": [
    {
     "data": {
      "text/plain": [
       "(40, 4)"
      ]
     },
     "execution_count": 24,
     "metadata": {},
     "output_type": "execute_result"
    }
   ],
   "source": [
    "bestseller_article_info.shape"
   ]
  },
  {
   "cell_type": "code",
   "execution_count": 25,
   "id": "41008526",
   "metadata": {},
   "outputs": [],
   "source": [
    "test_candidates = pd.merge( # negative examples AND candidates for week 108!\n",
    "    test_data,\n",
    "    bestseller_article_info,\n",
    "    how='outer',\n",
    "    on='sales_channel_id'\n",
    ")"
   ]
  },
  {
   "cell_type": "code",
   "execution_count": 26,
   "id": "5e6c464a",
   "metadata": {},
   "outputs": [],
   "source": [
    "test_candidates['week'] = transactions.week.max()"
   ]
  },
  {
   "cell_type": "code",
   "execution_count": 27,
   "id": "86002e68",
   "metadata": {},
   "outputs": [],
   "source": [
    "transactions = pd.concat([transactions, test_candidates])"
   ]
  },
  {
   "cell_type": "code",
   "execution_count": 28,
   "id": "3125202c",
   "metadata": {},
   "outputs": [],
   "source": [
    "transactions.bought_previous_week.fillna(0, inplace=True)\n",
    "transactions.purchased.fillna(0, inplace=True)"
   ]
  },
  {
   "cell_type": "code",
   "execution_count": 29,
   "id": "e7f4033e",
   "metadata": {},
   "outputs": [],
   "source": [
    "# removing \"fake\", incorrect transactions\n",
    "transactions.drop_duplicates(['customer_id', 'week', 'article_id', 'sales_channel_id'], inplace=True)"
   ]
  },
  {
   "cell_type": "code",
   "execution_count": 30,
   "id": "44ff28e9",
   "metadata": {},
   "outputs": [
    {
     "data": {
      "text/plain": [
       "(55234762, 8)"
      ]
     },
     "execution_count": 30,
     "metadata": {},
     "output_type": "execute_result"
    }
   ],
   "source": [
    "transactions.shape"
   ]
  },
  {
   "cell_type": "code",
   "execution_count": 31,
   "id": "ead15176",
   "metadata": {},
   "outputs": [],
   "source": [
    "# Yet another way to create negative examples, to further differentiate between user preferences.\n",
    "\n",
    "negative_transactions = transactions[transactions.purchased == 1].copy()\n",
    "negative_transactions.purchased = 0\n",
    "negative_transactions.bought_previous_week = 0"
   ]
  },
  {
   "cell_type": "code",
   "execution_count": 32,
   "id": "0ee2ea82",
   "metadata": {},
   "outputs": [],
   "source": [
    "negative_transactions.customer_id = negative_transactions.groupby('week')['customer_id'].transform(np.random.permutation)"
   ]
  },
  {
   "cell_type": "code",
   "execution_count": 33,
   "id": "9bd4788f",
   "metadata": {},
   "outputs": [],
   "source": [
    "transactions = pd.concat([transactions, negative_transactions])\n",
    "transactions.drop_duplicates(['customer_id', 'week', 'article_id', 'sales_channel_id'], inplace=True)"
   ]
  },
  {
   "cell_type": "code",
   "execution_count": 34,
   "id": "7399d3cc",
   "metadata": {},
   "outputs": [
    {
     "data": {
      "text/plain": [
       "(55262342, 8)"
      ]
     },
     "execution_count": 34,
     "metadata": {},
     "output_type": "execute_result"
    }
   ],
   "source": [
    "transactions.shape"
   ]
  },
  {
   "cell_type": "markdown",
   "id": "2e2bdb01",
   "metadata": {},
   "source": [
    "Let's merge `customers` and `articles` with `transactions`."
   ]
  },
  {
   "cell_type": "code",
   "execution_count": 35,
   "id": "08441c0b",
   "metadata": {},
   "outputs": [],
   "source": [
    "articles.drop(columns=['detail_desc', 'prod_name'], inplace=True)"
   ]
  },
  {
   "cell_type": "code",
   "execution_count": 36,
   "id": "97afd7e0",
   "metadata": {},
   "outputs": [],
   "source": [
    "transactions = pd.merge(transactions, articles, on='article_id', how='left')\n",
    "transactions = pd.merge(transactions, customers, on='customer_id', how='left')"
   ]
  },
  {
   "cell_type": "code",
   "execution_count": 37,
   "id": "39440741",
   "metadata": {},
   "outputs": [
    {
     "data": {
      "text/plain": [
       "(55262342, 36)"
      ]
     },
     "execution_count": 37,
     "metadata": {},
     "output_type": "execute_result"
    }
   ],
   "source": [
    "transactions.shape"
   ]
  },
  {
   "cell_type": "code",
   "execution_count": null,
   "id": "40f80008",
   "metadata": {},
   "outputs": [],
   "source": [
    "import gc\n",
    "gc.collect()"
   ]
  },
  {
   "cell_type": "markdown",
   "id": "10e3f352",
   "metadata": {},
   "source": [
    "# Dataset preparation"
   ]
  },
  {
   "cell_type": "code",
   "execution_count": 38,
   "id": "c330d2a6",
   "metadata": {},
   "outputs": [],
   "source": [
    "first_two_weeks = transactions.week.sort_values().unique()[:2]\n",
    "test_set_week = transactions.week.max()"
   ]
  },
  {
   "cell_type": "code",
   "execution_count": 39,
   "id": "2a62b0a5",
   "metadata": {},
   "outputs": [],
   "source": [
    "transactions = transactions[~transactions.week.isin(set(first_two_weeks))]"
   ]
  },
  {
   "cell_type": "code",
   "execution_count": 40,
   "id": "94f93364",
   "metadata": {},
   "outputs": [],
   "source": [
    "test_candidates = transactions[transactions.week == test_set_week]\n",
    "train_set = transactions[transactions.week != test_set_week]"
   ]
  },
  {
   "cell_type": "code",
   "execution_count": 80,
   "id": "9dfa8123",
   "metadata": {},
   "outputs": [],
   "source": [
    "test_candidates = test_candidates.drop(columns='purchased')"
   ]
  },
  {
   "cell_type": "code",
   "execution_count": 41,
   "id": "23719655",
   "metadata": {},
   "outputs": [
    {
     "data": {
      "text/plain": [
       "((382509, 36), (54879240, 36))"
      ]
     },
     "execution_count": 41,
     "metadata": {},
     "output_type": "execute_result"
    }
   ],
   "source": [
    "train_set.shape, test_candidates.shape"
   ]
  },
  {
   "cell_type": "code",
   "execution_count": 81,
   "id": "ee9c4b82",
   "metadata": {},
   "outputs": [
    {
     "data": {
      "text/plain": [
       "5154"
      ]
     },
     "execution_count": 81,
     "metadata": {},
     "output_type": "execute_result"
    }
   ],
   "source": [
    "gc.collect()"
   ]
  },
  {
   "cell_type": "code",
   "execution_count": 72,
   "id": "0e179a49",
   "metadata": {},
   "outputs": [
    {
     "name": "stdout",
     "output_type": "stream",
     "text": [
      "1362\n"
     ]
    },
    {
     "data": {
      "text/plain": [
       "(1089, 273)"
      ]
     },
     "execution_count": 72,
     "metadata": {},
     "output_type": "execute_result"
    }
   ],
   "source": [
    "cust_ids = train_set.customer_id.unique()\n",
    "print(len(cust_ids))\n",
    "\n",
    "train_cust_ids = cust_ids[:int(0.8*cust_ids.shape[0])]\n",
    "valid_cust_ids = cust_ids[int(0.8*cust_ids.shape[0]):]\n",
    "\n",
    "train_cust_ids.shape[0], valid_cust_ids.shape[0]"
   ]
  },
  {
   "cell_type": "code",
   "execution_count": 79,
   "id": "fd35768e",
   "metadata": {},
   "outputs": [],
   "source": [
    "train_X = train_set[train_set.customer_id.isin(set(train_cust_ids))]\n",
    "valid_X = train_set[~train_set.customer_id.isin(set(train_cust_ids))]\n",
    "\n",
    "train_y = train_X['purchased']\n",
    "valid_y = valid_X['purchased']\n",
    "\n",
    "train_X = train_X.drop(columns='purchased')\n",
    "valid_X = valid_X.drop(columns='purchased')"
   ]
  },
  {
   "cell_type": "markdown",
   "id": "0af4417c",
   "metadata": {},
   "source": [
    "# Vectorize datasets"
   ]
  }
 ],
 "metadata": {
  "kernelspec": {
   "display_name": "Python 3",
   "language": "python",
   "name": "python3"
  },
  "language_info": {
   "codemirror_mode": {
    "name": "ipython",
    "version": 3
   },
   "file_extension": ".py",
   "mimetype": "text/x-python",
   "name": "python",
   "nbconvert_exporter": "python",
   "pygments_lexer": "ipython3",
   "version": "3.8.8"
  }
 },
 "nbformat": 4,
 "nbformat_minor": 5
}
