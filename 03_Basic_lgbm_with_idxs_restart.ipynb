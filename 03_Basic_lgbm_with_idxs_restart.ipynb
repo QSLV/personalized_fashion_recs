{
 "cells": [
  {
   "cell_type": "markdown",
   "id": "fbc794e1",
   "metadata": {},
   "source": [
    "The other two notebooks have been finein the sense that I learned a lot about the problem.\n",
    "\n",
    "I got a sense for how candidate genertion feels, what trends might exist in the data, etc.\n",
    "\n",
    "Let's not try generating a submission implementing a full (albeit small) data processing pipeline where at the end we will train an lgbm model and make a submission.\n",
    "\n",
    "Let's get started."
   ]
  },
  {
   "cell_type": "markdown",
   "id": "44f3bfdb",
   "metadata": {},
   "source": [
    "# Feature (and candidate) Engineering"
   ]
  },
  {
   "cell_type": "code",
   "execution_count": 1,
   "id": "3e0b92b9",
   "metadata": {},
   "outputs": [],
   "source": [
    "# import pandas as pd\n",
    "import modin.pandas as pd\n",
    "# import swifter\n",
    "import numpy as np\n",
    "\n",
    "from distributed import Client\n",
    "\n",
    "client = Client(n_workers=16)"
   ]
  },
  {
   "cell_type": "code",
   "execution_count": 2,
   "id": "8128ceaf",
   "metadata": {},
   "outputs": [],
   "source": [
    "VALID_RUN = True"
   ]
  },
  {
   "cell_type": "code",
   "execution_count": 3,
   "id": "0688bbf1",
   "metadata": {},
   "outputs": [
    {
     "name": "stdout",
     "output_type": "stream",
     "text": [
      "CPU times: user 6.08 s, sys: 2.31 s, total: 8.39 s\n",
      "Wall time: 13 s\n"
     ]
    }
   ],
   "source": [
    "%%time\n",
    "# https://www.kaggle.com/paweljankiewicz/hm-create-dataset-samples\n",
    "\n",
    "transactions = pd.read_csv('data/transactions_train.csv', dtype={\"article_id\": \"str\"})\n",
    "customers = pd.read_csv('data/customers.csv')\n",
    "articles = pd.read_csv('data/articles.csv', dtype={\"article_id\": \"str\"})"
   ]
  },
  {
   "cell_type": "markdown",
   "id": "419c0e32",
   "metadata": {},
   "source": [
    "We can skip customers and articles for now, the most heart of the problem are the transactions.\n",
    "\n",
    "We want to use features we generate for up to an including week $t$ to generate predictions for week $t_{t+1}$.\n",
    "\n",
    "Of course, that is just one way to structure the problem. We could treat it as a time series problem where we look at the sequence of weeks $t_1...t_n$ and predict the purchases for week $t_{n+1}$. There are many ways to frame the problem.\n",
    "\n",
    "But we want to do something that would be\n",
    "* simple\n",
    "* has a chance to lending itself well for using gradient boosted trees\n",
    "\n",
    "In line with [the suggestion from Pawel Jankiewicz](https://www.kaggle.com/c/h-and-m-personalized-fashion-recommendations/discussion/307288), we will predict baskets. And to make things even simpler, we will aggregate purchases by weeks."
   ]
  },
  {
   "cell_type": "code",
   "execution_count": 4,
   "id": "8e7a52ad",
   "metadata": {},
   "outputs": [],
   "source": [
    "# %%time\n",
    "\n",
    "# for sample_repr, sample in [(\"01\", 0.001), (\"1\", 0.01), (\"5\", 0.05)]:\n",
    "#     print(sample)\n",
    "#     customers_sample = customers.sample(int(customers.shape[0]*sample), replace=False)\n",
    "#     customers_sample_ids = set(customers_sample[\"customer_id\"])\n",
    "#     transactions_sample = transactions[transactions[\"customer_id\"].isin(customers_sample_ids)]\n",
    "#     articles_sample_ids = set(transactions_sample[\"article_id\"])\n",
    "#     articles_sample = articles[articles[\"article_id\"].isin(articles_sample_ids)]\n",
    "#     customers_sample.to_csv(f\"data/customers_sample_{sample_repr}.csv.gz\", index=False)\n",
    "#     transactions_sample.to_csv(f\"data/transactions_train_sample_{sample_repr}.csv.gz\", index=False)\n",
    "#     articles_sample.to_csv(f\"data/articles_train_sample_{sample_repr}.csv.gz\", index=False)"
   ]
  },
  {
   "cell_type": "code",
   "execution_count": 5,
   "id": "b932914e",
   "metadata": {},
   "outputs": [],
   "source": [
    "# transactions = pd.read_csv('data/transactions_train_sample_01.csv.gz', dtype={\"article_id\": \"str\"})\n",
    "# customers = pd.read_csv('data/customers_sample_01.csv.gz')\n",
    "# articles = pd.read_csv('data/articles_train_sample_01.csv.gz', dtype={\"article_id\": \"str\"})"
   ]
  },
  {
   "cell_type": "code",
   "execution_count": 6,
   "id": "783cb4e0",
   "metadata": {},
   "outputs": [
    {
     "name": "stdout",
     "output_type": "stream",
     "text": [
      "CPU times: user 10.1 s, sys: 1.42 s, total: 11.5 s\n",
      "Wall time: 35.3 s\n"
     ]
    }
   ],
   "source": [
    "%%time\n",
    "\n",
    "transactions['week'] = pd.to_datetime(transactions.t_dat, format='%Y-%m-%d') \\\n",
    "    .apply(lambda t: t.year * 100 + t.week) \\\n",
    "    .rank(method='dense') \\\n",
    "    .astype('int')\n",
    "\n",
    "transactions.drop(columns='t_dat', inplace=True)"
   ]
  },
  {
   "cell_type": "code",
   "execution_count": 7,
   "id": "53545b15",
   "metadata": {},
   "outputs": [],
   "source": [
    "transactions = transactions[transactions.week > 97]"
   ]
  },
  {
   "cell_type": "code",
   "execution_count": 8,
   "id": "f5b122e5",
   "metadata": {},
   "outputs": [],
   "source": [
    "# I'm using the last week for local validation\n",
    "\n",
    "if VALID_RUN: transactions = transactions[transactions.week != transactions.week.max()]\n",
    "transactions.reset_index(inplace=True, drop=True)"
   ]
  },
  {
   "cell_type": "code",
   "execution_count": 9,
   "id": "0ced0b19",
   "metadata": {},
   "outputs": [
    {
     "name": "stderr",
     "output_type": "stream",
     "text": [
      "UserWarning: User-defined function verification is still under development in Modin. The function provided is not verified.\n"
     ]
    }
   ],
   "source": [
    "%%time\n",
    "\n",
    "transactions['purchased'] = 1 # our positive examples\n",
    "\n",
    "transactions.drop_duplicates(['customer_id', 'article_id', 'week'], inplace=True)"
   ]
  },
  {
   "cell_type": "code",
   "execution_count": 10,
   "id": "08c3fb8d",
   "metadata": {},
   "outputs": [],
   "source": [
    "%%time\n",
    "\n",
    "bought_previous_week = transactions.copy()\n",
    "bought_previous_week.week += 1\n",
    "\n",
    "bought_previous_week.purchased = 0 # negative examples, possibly\n",
    "bought_previous_week['bought_previous_week'] = 1"
   ]
  },
  {
   "cell_type": "code",
   "execution_count": 11,
   "id": "4026538e",
   "metadata": {},
   "outputs": [],
   "source": [
    "%%time\n",
    "\n",
    "# updating true sales already in transactions with information on whether an article was bought by a customer\n",
    "# in the previous week\n",
    "\n",
    "transactions = pd.merge(\n",
    "    transactions,\n",
    "    bought_previous_week[['customer_id', 'article_id', 'week', 'bought_previous_week']],\n",
    "    on=['customer_id', 'article_id', 'week'], how='left'\n",
    ")\n",
    "\n",
    "transactions.bought_previous_week.fillna(0, inplace=True)"
   ]
  },
  {
   "cell_type": "code",
   "execution_count": 12,
   "id": "58d6b0dd",
   "metadata": {},
   "outputs": [],
   "source": [
    "%%time\n",
    "\n",
    "# adding our negative examples\n",
    "\n",
    "transactions = pd.concat([transactions, bought_previous_week])"
   ]
  },
  {
   "cell_type": "markdown",
   "id": "efe488f9",
   "metadata": {},
   "source": [
    "`transactions` now contains some fake transactions. But if you observe, I am always adding these possibly fake transactions (for instance, negative examples where in fact a purchase was made of that article by a given customer in a given week) at the bottom of the dataframe.\n",
    "\n",
    "This insight is key. I will be able to remove them by using `drop_duplicates` once I am done with generating negative examples (or data to predict on for the week in the test set).\n",
    "\n",
    "Once you trace what is going on here and spot the techniques I am using to generate candidate purchases / negative examples, you will have everything to completely rock this competition! This is one framing of the problem, but a very good one."
   ]
  },
  {
   "cell_type": "code",
   "execution_count": 13,
   "id": "a18bef18",
   "metadata": {},
   "outputs": [
    {
     "data": {
      "text/html": [
       "<div>\n",
       "<style scoped>\n",
       "    .dataframe tbody tr th:only-of-type {\n",
       "        vertical-align: middle;\n",
       "    }\n",
       "\n",
       "    .dataframe tbody tr th {\n",
       "        vertical-align: top;\n",
       "    }\n",
       "\n",
       "    .dataframe thead th {\n",
       "        text-align: right;\n",
       "    }\n",
       "</style>\n",
       "<table border=\"1\" class=\"dataframe\">\n",
       "  <thead>\n",
       "    <tr style=\"text-align: right;\">\n",
       "      <th></th>\n",
       "      <th>customer_id</th>\n",
       "      <th>article_id</th>\n",
       "      <th>price</th>\n",
       "      <th>sales_channel_id</th>\n",
       "      <th>week</th>\n",
       "      <th>purchased</th>\n",
       "      <th>bought_previous_week</th>\n",
       "    </tr>\n",
       "  </thead>\n",
       "  <tbody>\n",
       "    <tr>\n",
       "      <th>0</th>\n",
       "      <td>000c41868d0170bf1e022a985a37f52344ba14ca5c331b...</td>\n",
       "      <td>0854338008</td>\n",
       "      <td>0.016932</td>\n",
       "      <td>1</td>\n",
       "      <td>98</td>\n",
       "      <td>1</td>\n",
       "      <td>0.0</td>\n",
       "    </tr>\n",
       "    <tr>\n",
       "      <th>1</th>\n",
       "      <td>000c41868d0170bf1e022a985a37f52344ba14ca5c331b...</td>\n",
       "      <td>0684209026</td>\n",
       "      <td>0.015237</td>\n",
       "      <td>1</td>\n",
       "      <td>98</td>\n",
       "      <td>1</td>\n",
       "      <td>0.0</td>\n",
       "    </tr>\n",
       "    <tr>\n",
       "      <th>2</th>\n",
       "      <td>000c41868d0170bf1e022a985a37f52344ba14ca5c331b...</td>\n",
       "      <td>0844294002</td>\n",
       "      <td>0.015237</td>\n",
       "      <td>1</td>\n",
       "      <td>98</td>\n",
       "      <td>1</td>\n",
       "      <td>0.0</td>\n",
       "    </tr>\n",
       "    <tr>\n",
       "      <th>3</th>\n",
       "      <td>000c41868d0170bf1e022a985a37f52344ba14ca5c331b...</td>\n",
       "      <td>0599580061</td>\n",
       "      <td>0.008458</td>\n",
       "      <td>1</td>\n",
       "      <td>98</td>\n",
       "      <td>1</td>\n",
       "      <td>0.0</td>\n",
       "    </tr>\n",
       "    <tr>\n",
       "      <th>4</th>\n",
       "      <td>0011c0c71f6e3a871a9520a4055ed5a9b0d2f428e35b77...</td>\n",
       "      <td>0787946003</td>\n",
       "      <td>0.016932</td>\n",
       "      <td>1</td>\n",
       "      <td>98</td>\n",
       "      <td>1</td>\n",
       "      <td>0.0</td>\n",
       "    </tr>\n",
       "    <tr>\n",
       "      <th>...</th>\n",
       "      <td>...</td>\n",
       "      <td>...</td>\n",
       "      <td>...</td>\n",
       "      <td>...</td>\n",
       "      <td>...</td>\n",
       "      <td>...</td>\n",
       "      <td>...</td>\n",
       "    </tr>\n",
       "    <tr>\n",
       "      <th>2491886</th>\n",
       "      <td>fff7e7674509592818bf453391af43a85eaaac9a52d858...</td>\n",
       "      <td>0624486049</td>\n",
       "      <td>0.013542</td>\n",
       "      <td>1</td>\n",
       "      <td>107</td>\n",
       "      <td>0</td>\n",
       "      <td>1.0</td>\n",
       "    </tr>\n",
       "    <tr>\n",
       "      <th>2491887</th>\n",
       "      <td>fff871bf24b40fd1290215414d760afaa69bb164d2b970...</td>\n",
       "      <td>0717490010</td>\n",
       "      <td>0.008458</td>\n",
       "      <td>2</td>\n",
       "      <td>107</td>\n",
       "      <td>0</td>\n",
       "      <td>1.0</td>\n",
       "    </tr>\n",
       "    <tr>\n",
       "      <th>2491888</th>\n",
       "      <td>fff871bf24b40fd1290215414d760afaa69bb164d2b970...</td>\n",
       "      <td>0717490058</td>\n",
       "      <td>0.008458</td>\n",
       "      <td>2</td>\n",
       "      <td>107</td>\n",
       "      <td>0</td>\n",
       "      <td>1.0</td>\n",
       "    </tr>\n",
       "    <tr>\n",
       "      <th>2491889</th>\n",
       "      <td>fff871bf24b40fd1290215414d760afaa69bb164d2b970...</td>\n",
       "      <td>0717490057</td>\n",
       "      <td>0.008458</td>\n",
       "      <td>2</td>\n",
       "      <td>107</td>\n",
       "      <td>0</td>\n",
       "      <td>1.0</td>\n",
       "    </tr>\n",
       "    <tr>\n",
       "      <th>2491890</th>\n",
       "      <td>fff871bf24b40fd1290215414d760afaa69bb164d2b970...</td>\n",
       "      <td>0824995006</td>\n",
       "      <td>0.025407</td>\n",
       "      <td>2</td>\n",
       "      <td>107</td>\n",
       "      <td>0</td>\n",
       "      <td>1.0</td>\n",
       "    </tr>\n",
       "  </tbody>\n",
       "</table>\n",
       "<p>4480840 rows x 7 columns</p>\n",
       "</div>"
      ],
      "text/plain": [
       "                                               customer_id  article_id  \\\n",
       "0        000c41868d0170bf1e022a985a37f52344ba14ca5c331b...  0854338008   \n",
       "1        000c41868d0170bf1e022a985a37f52344ba14ca5c331b...  0684209026   \n",
       "2        000c41868d0170bf1e022a985a37f52344ba14ca5c331b...  0844294002   \n",
       "3        000c41868d0170bf1e022a985a37f52344ba14ca5c331b...  0599580061   \n",
       "4        0011c0c71f6e3a871a9520a4055ed5a9b0d2f428e35b77...  0787946003   \n",
       "...                                                    ...         ...   \n",
       "2491886  fff7e7674509592818bf453391af43a85eaaac9a52d858...  0624486049   \n",
       "2491887  fff871bf24b40fd1290215414d760afaa69bb164d2b970...  0717490010   \n",
       "2491888  fff871bf24b40fd1290215414d760afaa69bb164d2b970...  0717490058   \n",
       "2491889  fff871bf24b40fd1290215414d760afaa69bb164d2b970...  0717490057   \n",
       "2491890  fff871bf24b40fd1290215414d760afaa69bb164d2b970...  0824995006   \n",
       "\n",
       "            price  sales_channel_id  week  purchased  bought_previous_week  \n",
       "0        0.016932                 1    98          1                   0.0  \n",
       "1        0.015237                 1    98          1                   0.0  \n",
       "2        0.015237                 1    98          1                   0.0  \n",
       "3        0.008458                 1    98          1                   0.0  \n",
       "4        0.016932                 1    98          1                   0.0  \n",
       "...           ...               ...   ...        ...                   ...  \n",
       "2491886  0.013542                 1   107          0                   1.0  \n",
       "2491887  0.008458                 2   107          0                   1.0  \n",
       "2491888  0.008458                 2   107          0                   1.0  \n",
       "2491889  0.008458                 2   107          0                   1.0  \n",
       "2491890  0.025407                 2   107          0                   1.0  \n",
       "\n",
       "[4480840 rows x 7 columns]"
      ]
     },
     "execution_count": 13,
     "metadata": {},
     "output_type": "execute_result"
    }
   ],
   "source": [
    "transactions"
   ]
  },
  {
   "cell_type": "code",
   "execution_count": 14,
   "id": "a76048c8",
   "metadata": {},
   "outputs": [
    {
     "name": "stderr",
     "output_type": "stream",
     "text": [
      "UserWarning: Distributing <class 'pandas.core.frame.DataFrame'> object. This may take some time.\n"
     ]
    },
    {
     "name": "stdout",
     "output_type": "stream",
     "text": [
      "CPU times: user 4.64 s, sys: 1.03 s, total: 5.66 s\n",
      "Wall time: 6.82 s\n"
     ]
    }
   ],
   "source": [
    "%%time\n",
    "\n",
    "bestsellers_previous_week = pd.DataFrame._to_pandas(transactions) \\\n",
    "    .groupby('week')['article_id'].value_counts() \\\n",
    "    .groupby('week').head(20) \\\n",
    "    .groupby('week').rank(method='dense', ascending=False) \\\n",
    "    .to_frame('bestseller_previous_week_rank').reset_index()\n",
    "bestsellers_previous_week = pd.DataFrame(bestsellers_previous_week)\n",
    "\n",
    "bestsellers_previous_week.week += 1\n",
    "\n",
    "bestsellers_previous_week = bestsellers_previous_week[bestsellers_previous_week.week != bestsellers_previous_week.max().week.item()]"
   ]
  },
  {
   "cell_type": "code",
   "execution_count": 15,
   "id": "35b7b7db",
   "metadata": {},
   "outputs": [
    {
     "data": {
      "text/html": [
       "<div>\n",
       "<style scoped>\n",
       "    .dataframe tbody tr th:only-of-type {\n",
       "        vertical-align: middle;\n",
       "    }\n",
       "\n",
       "    .dataframe tbody tr th {\n",
       "        vertical-align: top;\n",
       "    }\n",
       "\n",
       "    .dataframe thead th {\n",
       "        text-align: right;\n",
       "    }\n",
       "</style>\n",
       "<table border=\"1\" class=\"dataframe\">\n",
       "  <thead>\n",
       "    <tr style=\"text-align: right;\">\n",
       "      <th></th>\n",
       "      <th>week</th>\n",
       "      <th>article_id</th>\n",
       "      <th>bestseller_previous_week_rank</th>\n",
       "    </tr>\n",
       "  </thead>\n",
       "  <tbody>\n",
       "    <tr>\n",
       "      <th>0</th>\n",
       "      <td>99</td>\n",
       "      <td>0372860002</td>\n",
       "      <td>1.0</td>\n",
       "    </tr>\n",
       "    <tr>\n",
       "      <th>1</th>\n",
       "      <td>99</td>\n",
       "      <td>0827968001</td>\n",
       "      <td>2.0</td>\n",
       "    </tr>\n",
       "    <tr>\n",
       "      <th>2</th>\n",
       "      <td>99</td>\n",
       "      <td>0717490064</td>\n",
       "      <td>3.0</td>\n",
       "    </tr>\n",
       "    <tr>\n",
       "      <th>3</th>\n",
       "      <td>99</td>\n",
       "      <td>0706016003</td>\n",
       "      <td>4.0</td>\n",
       "    </tr>\n",
       "    <tr>\n",
       "      <th>4</th>\n",
       "      <td>99</td>\n",
       "      <td>0760084003</td>\n",
       "      <td>5.0</td>\n",
       "    </tr>\n",
       "    <tr>\n",
       "      <th>...</th>\n",
       "      <td>...</td>\n",
       "      <td>...</td>\n",
       "      <td>...</td>\n",
       "    </tr>\n",
       "    <tr>\n",
       "      <th>175</th>\n",
       "      <td>107</td>\n",
       "      <td>0863646001</td>\n",
       "      <td>16.0</td>\n",
       "    </tr>\n",
       "    <tr>\n",
       "      <th>176</th>\n",
       "      <td>107</td>\n",
       "      <td>0896169005</td>\n",
       "      <td>17.0</td>\n",
       "    </tr>\n",
       "    <tr>\n",
       "      <th>177</th>\n",
       "      <td>107</td>\n",
       "      <td>0715624001</td>\n",
       "      <td>18.0</td>\n",
       "    </tr>\n",
       "    <tr>\n",
       "      <th>178</th>\n",
       "      <td>107</td>\n",
       "      <td>0762846031</td>\n",
       "      <td>19.0</td>\n",
       "    </tr>\n",
       "    <tr>\n",
       "      <th>179</th>\n",
       "      <td>107</td>\n",
       "      <td>0898694001</td>\n",
       "      <td>20.0</td>\n",
       "    </tr>\n",
       "  </tbody>\n",
       "</table>\n",
       "<p>180 rows x 3 columns</p>\n",
       "</div>"
      ],
      "text/plain": [
       "     week  article_id  bestseller_previous_week_rank\n",
       "0      99  0372860002                            1.0\n",
       "1      99  0827968001                            2.0\n",
       "2      99  0717490064                            3.0\n",
       "3      99  0706016003                            4.0\n",
       "4      99  0760084003                            5.0\n",
       "..    ...         ...                            ...\n",
       "175   107  0863646001                           16.0\n",
       "176   107  0896169005                           17.0\n",
       "177   107  0715624001                           18.0\n",
       "178   107  0762846031                           19.0\n",
       "179   107  0898694001                           20.0\n",
       "\n",
       "[180 rows x 3 columns]"
      ]
     },
     "execution_count": 15,
     "metadata": {},
     "output_type": "execute_result"
    }
   ],
   "source": [
    "bestsellers_previous_week"
   ]
  },
  {
   "cell_type": "code",
   "execution_count": 16,
   "id": "142d9623",
   "metadata": {},
   "outputs": [],
   "source": [
    "transactions = pd.merge(transactions, bestsellers_previous_week, on=['week', 'article_id'], how='left')\n",
    "\n",
    "transactions.bestseller_previous_week_rank.fillna(-1, inplace=True)"
   ]
  },
  {
   "cell_type": "code",
   "execution_count": 17,
   "id": "ac2046ec",
   "metadata": {},
   "outputs": [
    {
     "name": "stderr",
     "output_type": "stream",
     "text": [
      "UserWarning: User-defined function verification is still under development in Modin. The function provided is not verified.\n",
      "UserWarning: merge defaulting to pandas implementation.\n",
      "To request implementation, send an email to feature_requests@modin.org.\n"
     ]
    }
   ],
   "source": [
    "%%time\n",
    "\n",
    "negative_examples_bestsellers_previous_week = pd.merge( # negative examples AND candidates for week 108!\n",
    "    transactions[['customer_id', 'week', 'sales_channel_id']].drop_duplicates(),\n",
    "    bestsellers_previous_week, how='outer', on='week')"
   ]
  },
  {
   "cell_type": "code",
   "execution_count": 18,
   "id": "9ee8fda8",
   "metadata": {},
   "outputs": [
    {
     "data": {
      "text/plain": [
       "(24879519, 5)"
      ]
     },
     "execution_count": 18,
     "metadata": {},
     "output_type": "execute_result"
    }
   ],
   "source": [
    "negative_examples_bestsellers_previous_week.shape"
   ]
  },
  {
   "cell_type": "code",
   "execution_count": 19,
   "id": "a0ec6ac6",
   "metadata": {},
   "outputs": [],
   "source": [
    "%%time\n",
    "\n",
    "# need to recover price\n",
    "\n",
    "negative_examples_bestsellers_previous_week.week -= 1\n",
    "negative_examples_bestsellers_previous_week = pd.merge(\n",
    "    negative_examples_bestsellers_previous_week,\n",
    "    transactions[['week', 'article_id', 'price']].groupby(['week', 'article_id']).mean().reset_index(), # mean of prices\n",
    "                                                                                                        # across days / channels\n",
    "    on=['week', 'article_id'],\n",
    "    how='left'\n",
    ") # not perfect without the 'sales_channel_id' but probably good enough\n",
    "negative_examples_bestsellers_previous_week.week += 1"
   ]
  },
  {
   "cell_type": "code",
   "execution_count": 20,
   "id": "3f0c1f35",
   "metadata": {},
   "outputs": [
    {
     "data": {
      "text/html": [
       "<div>\n",
       "<style scoped>\n",
       "    .dataframe tbody tr th:only-of-type {\n",
       "        vertical-align: middle;\n",
       "    }\n",
       "\n",
       "    .dataframe tbody tr th {\n",
       "        vertical-align: top;\n",
       "    }\n",
       "\n",
       "    .dataframe thead th {\n",
       "        text-align: right;\n",
       "    }\n",
       "</style>\n",
       "<table border=\"1\" class=\"dataframe\">\n",
       "  <thead>\n",
       "    <tr style=\"text-align: right;\">\n",
       "      <th></th>\n",
       "      <th>customer_id</th>\n",
       "      <th>week</th>\n",
       "      <th>sales_channel_id</th>\n",
       "      <th>article_id</th>\n",
       "      <th>bestseller_previous_week_rank</th>\n",
       "      <th>price</th>\n",
       "    </tr>\n",
       "  </thead>\n",
       "  <tbody>\n",
       "    <tr>\n",
       "      <th>0</th>\n",
       "      <td>000c41868d0170bf1e022a985a37f52344ba14ca5c331b...</td>\n",
       "      <td>98</td>\n",
       "      <td>1</td>\n",
       "      <td>NaN</td>\n",
       "      <td>NaN</td>\n",
       "      <td>NaN</td>\n",
       "    </tr>\n",
       "    <tr>\n",
       "      <th>1</th>\n",
       "      <td>0011c0c71f6e3a871a9520a4055ed5a9b0d2f428e35b77...</td>\n",
       "      <td>98</td>\n",
       "      <td>1</td>\n",
       "      <td>NaN</td>\n",
       "      <td>NaN</td>\n",
       "      <td>NaN</td>\n",
       "    </tr>\n",
       "    <tr>\n",
       "      <th>2</th>\n",
       "      <td>00130faf36f2571cf7e08451b317545004a8a85327661f...</td>\n",
       "      <td>98</td>\n",
       "      <td>2</td>\n",
       "      <td>NaN</td>\n",
       "      <td>NaN</td>\n",
       "      <td>NaN</td>\n",
       "    </tr>\n",
       "    <tr>\n",
       "      <th>3</th>\n",
       "      <td>001824e6c2a853c60b4998d3f402f01b6864d0a1f5ed01...</td>\n",
       "      <td>98</td>\n",
       "      <td>2</td>\n",
       "      <td>NaN</td>\n",
       "      <td>NaN</td>\n",
       "      <td>NaN</td>\n",
       "    </tr>\n",
       "    <tr>\n",
       "      <th>4</th>\n",
       "      <td>00201f34c8c92683263346d78c2b45ffd0c6927229542d...</td>\n",
       "      <td>98</td>\n",
       "      <td>2</td>\n",
       "      <td>NaN</td>\n",
       "      <td>NaN</td>\n",
       "      <td>NaN</td>\n",
       "    </tr>\n",
       "    <tr>\n",
       "      <th>...</th>\n",
       "      <td>...</td>\n",
       "      <td>...</td>\n",
       "      <td>...</td>\n",
       "      <td>...</td>\n",
       "      <td>...</td>\n",
       "      <td>...</td>\n",
       "    </tr>\n",
       "    <tr>\n",
       "      <th>24879514</th>\n",
       "      <td>fff871bf24b40fd1290215414d760afaa69bb164d2b970...</td>\n",
       "      <td>107</td>\n",
       "      <td>2</td>\n",
       "      <td>0863646001</td>\n",
       "      <td>16.0</td>\n",
       "      <td>0.033373</td>\n",
       "    </tr>\n",
       "    <tr>\n",
       "      <th>24879515</th>\n",
       "      <td>fff871bf24b40fd1290215414d760afaa69bb164d2b970...</td>\n",
       "      <td>107</td>\n",
       "      <td>2</td>\n",
       "      <td>0896169005</td>\n",
       "      <td>17.0</td>\n",
       "      <td>0.049964</td>\n",
       "    </tr>\n",
       "    <tr>\n",
       "      <th>24879516</th>\n",
       "      <td>fff871bf24b40fd1290215414d760afaa69bb164d2b970...</td>\n",
       "      <td>107</td>\n",
       "      <td>2</td>\n",
       "      <td>0715624001</td>\n",
       "      <td>18.0</td>\n",
       "      <td>0.024931</td>\n",
       "    </tr>\n",
       "    <tr>\n",
       "      <th>24879517</th>\n",
       "      <td>fff871bf24b40fd1290215414d760afaa69bb164d2b970...</td>\n",
       "      <td>107</td>\n",
       "      <td>2</td>\n",
       "      <td>0762846031</td>\n",
       "      <td>19.0</td>\n",
       "      <td>0.025006</td>\n",
       "    </tr>\n",
       "    <tr>\n",
       "      <th>24879518</th>\n",
       "      <td>fff871bf24b40fd1290215414d760afaa69bb164d2b970...</td>\n",
       "      <td>107</td>\n",
       "      <td>2</td>\n",
       "      <td>0898694001</td>\n",
       "      <td>20.0</td>\n",
       "      <td>0.049281</td>\n",
       "    </tr>\n",
       "  </tbody>\n",
       "</table>\n",
       "<p>24879519 rows x 6 columns</p>\n",
       "</div>"
      ],
      "text/plain": [
       "                                                customer_id  week  \\\n",
       "0         000c41868d0170bf1e022a985a37f52344ba14ca5c331b...    98   \n",
       "1         0011c0c71f6e3a871a9520a4055ed5a9b0d2f428e35b77...    98   \n",
       "2         00130faf36f2571cf7e08451b317545004a8a85327661f...    98   \n",
       "3         001824e6c2a853c60b4998d3f402f01b6864d0a1f5ed01...    98   \n",
       "4         00201f34c8c92683263346d78c2b45ffd0c6927229542d...    98   \n",
       "...                                                     ...   ...   \n",
       "24879514  fff871bf24b40fd1290215414d760afaa69bb164d2b970...   107   \n",
       "24879515  fff871bf24b40fd1290215414d760afaa69bb164d2b970...   107   \n",
       "24879516  fff871bf24b40fd1290215414d760afaa69bb164d2b970...   107   \n",
       "24879517  fff871bf24b40fd1290215414d760afaa69bb164d2b970...   107   \n",
       "24879518  fff871bf24b40fd1290215414d760afaa69bb164d2b970...   107   \n",
       "\n",
       "          sales_channel_id  article_id  bestseller_previous_week_rank  \\\n",
       "0                        1         NaN                            NaN   \n",
       "1                        1         NaN                            NaN   \n",
       "2                        2         NaN                            NaN   \n",
       "3                        2         NaN                            NaN   \n",
       "4                        2         NaN                            NaN   \n",
       "...                    ...         ...                            ...   \n",
       "24879514                 2  0863646001                           16.0   \n",
       "24879515                 2  0896169005                           17.0   \n",
       "24879516                 2  0715624001                           18.0   \n",
       "24879517                 2  0762846031                           19.0   \n",
       "24879518                 2  0898694001                           20.0   \n",
       "\n",
       "             price  \n",
       "0              NaN  \n",
       "1              NaN  \n",
       "2              NaN  \n",
       "3              NaN  \n",
       "4              NaN  \n",
       "...            ...  \n",
       "24879514  0.033373  \n",
       "24879515  0.049964  \n",
       "24879516  0.024931  \n",
       "24879517  0.025006  \n",
       "24879518  0.049281  \n",
       "\n",
       "[24879519 rows x 6 columns]"
      ]
     },
     "execution_count": 20,
     "metadata": {},
     "output_type": "execute_result"
    }
   ],
   "source": [
    "negative_examples_bestsellers_previous_week"
   ]
  },
  {
   "cell_type": "code",
   "execution_count": 21,
   "id": "bd771b27",
   "metadata": {},
   "outputs": [],
   "source": [
    "transactions = pd.concat([transactions, negative_examples_bestsellers_previous_week])\n",
    "transactions.reset_index(inplace=True, drop=True)"
   ]
  },
  {
   "cell_type": "markdown",
   "id": "76f8cd7a",
   "metadata": {},
   "source": [
    "Let's generate candidate examples for all the customers in the test set as well."
   ]
  },
  {
   "cell_type": "code",
   "execution_count": 22,
   "id": "caeea19b",
   "metadata": {},
   "outputs": [],
   "source": [
    "test_data = pd.read_csv('data/sample_submission.csv')[['customer_id']]\n",
    "\n",
    "test_data['sales_channel_id'] = 1\n",
    "\n",
    "test_data_2 = test_data.copy()\n",
    "test_data_2['sales_channel_id'] = 2\n",
    "\n",
    "test_data = pd.concat([test_data, test_data_2])"
   ]
  },
  {
   "cell_type": "code",
   "execution_count": 23,
   "id": "5ee82707",
   "metadata": {},
   "outputs": [],
   "source": [
    "negative_examples_bestsellers_previous_week = \\\n",
    "    negative_examples_bestsellers_previous_week[\n",
    "        negative_examples_bestsellers_previous_week.week == negative_examples_bestsellers_previous_week.week.max()\n",
    "]"
   ]
  },
  {
   "cell_type": "code",
   "execution_count": 29,
   "id": "afaf766c",
   "metadata": {},
   "outputs": [
    {
     "ename": "CancelledError",
     "evalue": "",
     "output_type": "error",
     "traceback": [
      "\u001b[0;31m---------------------------------------------------------------------------\u001b[0m",
      "\u001b[0;31mCancelledError\u001b[0m                            Traceback (most recent call last)",
      "\u001b[0;32m<timed exec>\u001b[0m in \u001b[0;36m<module>\u001b[0;34m\u001b[0m\n",
      "\u001b[0;32m/opt/conda/lib/python3.7/site-packages/modin/pandas/dataframe.py\u001b[0m in \u001b[0;36mdrop_duplicates\u001b[0;34m(self, subset, keep, inplace, ignore_index)\u001b[0m\n\u001b[1;32m    279\u001b[0m         \"\"\"\n\u001b[1;32m    280\u001b[0m         return super(DataFrame, self).drop_duplicates(\n\u001b[0;32m--> 281\u001b[0;31m             \u001b[0msubset\u001b[0m\u001b[0;34m=\u001b[0m\u001b[0msubset\u001b[0m\u001b[0;34m,\u001b[0m \u001b[0mkeep\u001b[0m\u001b[0;34m=\u001b[0m\u001b[0mkeep\u001b[0m\u001b[0;34m,\u001b[0m \u001b[0minplace\u001b[0m\u001b[0;34m=\u001b[0m\u001b[0minplace\u001b[0m\u001b[0;34m\u001b[0m\u001b[0;34m\u001b[0m\u001b[0m\n\u001b[0m\u001b[1;32m    282\u001b[0m         )\n\u001b[1;32m    283\u001b[0m \u001b[0;34m\u001b[0m\u001b[0m\n",
      "\u001b[0;32m/opt/conda/lib/python3.7/site-packages/modin/pandas/base.py\u001b[0m in \u001b[0;36mdrop_duplicates\u001b[0;34m(self, keep, inplace, **kwargs)\u001b[0m\n\u001b[1;32m   1262\u001b[0m             \u001b[0;32melse\u001b[0m\u001b[0;34m:\u001b[0m\u001b[0;34m\u001b[0m\u001b[0;34m\u001b[0m\u001b[0m\n\u001b[1;32m   1263\u001b[0m                 \u001b[0msubset\u001b[0m \u001b[0;34m=\u001b[0m \u001b[0;34m[\u001b[0m\u001b[0msubset\u001b[0m\u001b[0;34m]\u001b[0m\u001b[0;34m\u001b[0m\u001b[0;34m\u001b[0m\u001b[0m\n\u001b[0;32m-> 1264\u001b[0;31m             \u001b[0mduplicates\u001b[0m \u001b[0;34m=\u001b[0m \u001b[0mself\u001b[0m\u001b[0;34m.\u001b[0m\u001b[0mduplicated\u001b[0m\u001b[0;34m(\u001b[0m\u001b[0mkeep\u001b[0m\u001b[0;34m=\u001b[0m\u001b[0mkeep\u001b[0m\u001b[0;34m,\u001b[0m \u001b[0msubset\u001b[0m\u001b[0;34m=\u001b[0m\u001b[0msubset\u001b[0m\u001b[0;34m)\u001b[0m\u001b[0;34m\u001b[0m\u001b[0;34m\u001b[0m\u001b[0m\n\u001b[0m\u001b[1;32m   1265\u001b[0m         \u001b[0;32melse\u001b[0m\u001b[0;34m:\u001b[0m\u001b[0;34m\u001b[0m\u001b[0;34m\u001b[0m\u001b[0m\n\u001b[1;32m   1266\u001b[0m             \u001b[0mduplicates\u001b[0m \u001b[0;34m=\u001b[0m \u001b[0mself\u001b[0m\u001b[0;34m.\u001b[0m\u001b[0mduplicated\u001b[0m\u001b[0;34m(\u001b[0m\u001b[0mkeep\u001b[0m\u001b[0;34m=\u001b[0m\u001b[0mkeep\u001b[0m\u001b[0;34m)\u001b[0m\u001b[0;34m\u001b[0m\u001b[0;34m\u001b[0m\u001b[0m\n",
      "\u001b[0;32m/opt/conda/lib/python3.7/site-packages/modin/pandas/dataframe.py\u001b[0m in \u001b[0;36mduplicated\u001b[0;34m(self, subset, keep)\u001b[0m\n\u001b[1;32m    295\u001b[0m         \u001b[0;32mimport\u001b[0m \u001b[0mhashlib\u001b[0m\u001b[0;34m\u001b[0m\u001b[0;34m\u001b[0m\u001b[0m\n\u001b[1;32m    296\u001b[0m \u001b[0;34m\u001b[0m\u001b[0m\n\u001b[0;32m--> 297\u001b[0;31m         \u001b[0mdf\u001b[0m \u001b[0;34m=\u001b[0m \u001b[0mself\u001b[0m\u001b[0;34m[\u001b[0m\u001b[0msubset\u001b[0m\u001b[0;34m]\u001b[0m \u001b[0;32mif\u001b[0m \u001b[0msubset\u001b[0m \u001b[0;32mis\u001b[0m \u001b[0;32mnot\u001b[0m \u001b[0;32mNone\u001b[0m \u001b[0;32melse\u001b[0m \u001b[0mself\u001b[0m\u001b[0;34m\u001b[0m\u001b[0;34m\u001b[0m\u001b[0m\n\u001b[0m\u001b[1;32m    298\u001b[0m         \u001b[0;31m# if the number of columns we are checking for duplicates is larger than 1, we must\u001b[0m\u001b[0;34m\u001b[0m\u001b[0;34m\u001b[0m\u001b[0;34m\u001b[0m\u001b[0m\n\u001b[1;32m    299\u001b[0m         \u001b[0;31m# hash them to generate a single value that can be compared across rows.\u001b[0m\u001b[0;34m\u001b[0m\u001b[0;34m\u001b[0m\u001b[0;34m\u001b[0m\u001b[0m\n",
      "\u001b[0;32m/opt/conda/lib/python3.7/site-packages/modin/pandas/base.py\u001b[0m in \u001b[0;36m__getitem__\u001b[0;34m(self, key)\u001b[0m\n\u001b[1;32m   2966\u001b[0m             \u001b[0;32mreturn\u001b[0m \u001b[0mself\u001b[0m\u001b[0;34m.\u001b[0m\u001b[0m_getitem_slice\u001b[0m\u001b[0;34m(\u001b[0m\u001b[0mindexer\u001b[0m\u001b[0;34m)\u001b[0m\u001b[0;34m\u001b[0m\u001b[0;34m\u001b[0m\u001b[0m\n\u001b[1;32m   2967\u001b[0m         \u001b[0;32melse\u001b[0m\u001b[0;34m:\u001b[0m\u001b[0;34m\u001b[0m\u001b[0;34m\u001b[0m\u001b[0m\n\u001b[0;32m-> 2968\u001b[0;31m             \u001b[0;32mreturn\u001b[0m \u001b[0mself\u001b[0m\u001b[0;34m.\u001b[0m\u001b[0m_getitem\u001b[0m\u001b[0;34m(\u001b[0m\u001b[0mkey\u001b[0m\u001b[0;34m)\u001b[0m\u001b[0;34m\u001b[0m\u001b[0;34m\u001b[0m\u001b[0m\n\u001b[0m\u001b[1;32m   2969\u001b[0m \u001b[0;34m\u001b[0m\u001b[0m\n\u001b[1;32m   2970\u001b[0m     \u001b[0m__hash__\u001b[0m \u001b[0;34m=\u001b[0m \u001b[0;32mNone\u001b[0m\u001b[0;34m\u001b[0m\u001b[0;34m\u001b[0m\u001b[0m\n",
      "\u001b[0;32m/opt/conda/lib/python3.7/site-packages/modin/pandas/dataframe.py\u001b[0m in \u001b[0;36m_getitem\u001b[0;34m(self, key)\u001b[0m\n\u001b[1;32m   2946\u001b[0m             )\n\u001b[1;32m   2947\u001b[0m         \u001b[0;32melif\u001b[0m \u001b[0misinstance\u001b[0m\u001b[0;34m(\u001b[0m\u001b[0mkey\u001b[0m\u001b[0;34m,\u001b[0m \u001b[0;34m(\u001b[0m\u001b[0mnp\u001b[0m\u001b[0;34m.\u001b[0m\u001b[0mndarray\u001b[0m\u001b[0;34m,\u001b[0m \u001b[0mpandas\u001b[0m\u001b[0;34m.\u001b[0m\u001b[0mIndex\u001b[0m\u001b[0;34m,\u001b[0m \u001b[0mlist\u001b[0m\u001b[0;34m)\u001b[0m\u001b[0;34m)\u001b[0m\u001b[0;34m:\u001b[0m\u001b[0;34m\u001b[0m\u001b[0;34m\u001b[0m\u001b[0m\n\u001b[0;32m-> 2948\u001b[0;31m             \u001b[0;32mreturn\u001b[0m \u001b[0mDataFrame\u001b[0m\u001b[0;34m(\u001b[0m\u001b[0mquery_compiler\u001b[0m\u001b[0;34m=\u001b[0m\u001b[0mself\u001b[0m\u001b[0;34m.\u001b[0m\u001b[0m_query_compiler\u001b[0m\u001b[0;34m.\u001b[0m\u001b[0mgetitem_array\u001b[0m\u001b[0;34m(\u001b[0m\u001b[0mkey\u001b[0m\u001b[0;34m)\u001b[0m\u001b[0;34m)\u001b[0m\u001b[0;34m\u001b[0m\u001b[0;34m\u001b[0m\u001b[0m\n\u001b[0m\u001b[1;32m   2949\u001b[0m         \u001b[0;32melif\u001b[0m \u001b[0misinstance\u001b[0m\u001b[0;34m(\u001b[0m\u001b[0mkey\u001b[0m\u001b[0;34m,\u001b[0m \u001b[0mDataFrame\u001b[0m\u001b[0;34m)\u001b[0m\u001b[0;34m:\u001b[0m\u001b[0;34m\u001b[0m\u001b[0;34m\u001b[0m\u001b[0m\n\u001b[1;32m   2950\u001b[0m             \u001b[0;32mreturn\u001b[0m \u001b[0mself\u001b[0m\u001b[0;34m.\u001b[0m\u001b[0mwhere\u001b[0m\u001b[0;34m(\u001b[0m\u001b[0mkey\u001b[0m\u001b[0;34m)\u001b[0m\u001b[0;34m\u001b[0m\u001b[0;34m\u001b[0m\u001b[0m\n",
      "\u001b[0;32m/opt/conda/lib/python3.7/site-packages/modin/core/storage_formats/pandas/query_compiler.py\u001b[0m in \u001b[0;36mgetitem_array\u001b[0;34m(self, key)\u001b[0m\n\u001b[1;32m   2141\u001b[0m                     )\n\u001b[1;32m   2142\u001b[0m                 )\n\u001b[0;32m-> 2143\u001b[0;31m             \u001b[0;32mreturn\u001b[0m \u001b[0mself\u001b[0m\u001b[0;34m.\u001b[0m\u001b[0mgetitem_column_array\u001b[0m\u001b[0;34m(\u001b[0m\u001b[0mkey\u001b[0m\u001b[0;34m)\u001b[0m\u001b[0;34m\u001b[0m\u001b[0;34m\u001b[0m\u001b[0m\n\u001b[0m\u001b[1;32m   2144\u001b[0m \u001b[0;34m\u001b[0m\u001b[0m\n\u001b[1;32m   2145\u001b[0m     \u001b[0;32mdef\u001b[0m \u001b[0mgetitem_column_array\u001b[0m\u001b[0;34m(\u001b[0m\u001b[0mself\u001b[0m\u001b[0;34m,\u001b[0m \u001b[0mkey\u001b[0m\u001b[0;34m,\u001b[0m \u001b[0mnumeric\u001b[0m\u001b[0;34m=\u001b[0m\u001b[0;32mFalse\u001b[0m\u001b[0;34m)\u001b[0m\u001b[0;34m:\u001b[0m\u001b[0;34m\u001b[0m\u001b[0;34m\u001b[0m\u001b[0m\n",
      "\u001b[0;32m/opt/conda/lib/python3.7/site-packages/modin/core/storage_formats/pandas/query_compiler.py\u001b[0m in \u001b[0;36mgetitem_column_array\u001b[0;34m(self, key, numeric)\u001b[0m\n\u001b[1;32m   2148\u001b[0m             \u001b[0mnew_modin_frame\u001b[0m \u001b[0;34m=\u001b[0m \u001b[0mself\u001b[0m\u001b[0;34m.\u001b[0m\u001b[0m_modin_frame\u001b[0m\u001b[0;34m.\u001b[0m\u001b[0mmask\u001b[0m\u001b[0;34m(\u001b[0m\u001b[0mcol_numeric_idx\u001b[0m\u001b[0;34m=\u001b[0m\u001b[0mkey\u001b[0m\u001b[0;34m)\u001b[0m\u001b[0;34m\u001b[0m\u001b[0;34m\u001b[0m\u001b[0m\n\u001b[1;32m   2149\u001b[0m         \u001b[0;32melse\u001b[0m\u001b[0;34m:\u001b[0m\u001b[0;34m\u001b[0m\u001b[0;34m\u001b[0m\u001b[0m\n\u001b[0;32m-> 2150\u001b[0;31m             \u001b[0mnew_modin_frame\u001b[0m \u001b[0;34m=\u001b[0m \u001b[0mself\u001b[0m\u001b[0;34m.\u001b[0m\u001b[0m_modin_frame\u001b[0m\u001b[0;34m.\u001b[0m\u001b[0mmask\u001b[0m\u001b[0;34m(\u001b[0m\u001b[0mcol_indices\u001b[0m\u001b[0;34m=\u001b[0m\u001b[0mkey\u001b[0m\u001b[0;34m)\u001b[0m\u001b[0;34m\u001b[0m\u001b[0;34m\u001b[0m\u001b[0m\n\u001b[0m\u001b[1;32m   2151\u001b[0m         \u001b[0;32mreturn\u001b[0m \u001b[0mself\u001b[0m\u001b[0;34m.\u001b[0m\u001b[0m__constructor__\u001b[0m\u001b[0;34m(\u001b[0m\u001b[0mnew_modin_frame\u001b[0m\u001b[0;34m)\u001b[0m\u001b[0;34m\u001b[0m\u001b[0;34m\u001b[0m\u001b[0m\n\u001b[1;32m   2152\u001b[0m \u001b[0;34m\u001b[0m\u001b[0m\n",
      "\u001b[0;32m/opt/conda/lib/python3.7/site-packages/modin/core/dataframe/pandas/dataframe/dataframe.py\u001b[0m in \u001b[0;36mmask\u001b[0;34m(self, row_indices, row_numeric_idx, col_indices, col_numeric_idx)\u001b[0m\n\u001b[1;32m    613\u001b[0m             \u001b[0mnew_col_order\u001b[0m \u001b[0;34m=\u001b[0m \u001b[0;32mNone\u001b[0m\u001b[0;34m\u001b[0m\u001b[0;34m\u001b[0m\u001b[0m\n\u001b[1;32m    614\u001b[0m         return intermediate._reorder_labels(\n\u001b[0;32m--> 615\u001b[0;31m             \u001b[0mrow_numeric_idx\u001b[0m\u001b[0;34m=\u001b[0m\u001b[0mnew_row_order\u001b[0m\u001b[0;34m,\u001b[0m \u001b[0mcol_numeric_idx\u001b[0m\u001b[0;34m=\u001b[0m\u001b[0mnew_col_order\u001b[0m\u001b[0;34m\u001b[0m\u001b[0;34m\u001b[0m\u001b[0m\n\u001b[0m\u001b[1;32m    616\u001b[0m         )\n\u001b[1;32m    617\u001b[0m \u001b[0;34m\u001b[0m\u001b[0m\n",
      "\u001b[0;32m/opt/conda/lib/python3.7/site-packages/modin/core/dataframe/pandas/dataframe/dataframe.py\u001b[0m in \u001b[0;36m_reorder_labels\u001b[0;34m(self, row_numeric_idx, col_numeric_idx)\u001b[0m\n\u001b[1;32m    752\u001b[0m             \u001b[0mordered_cols\u001b[0m \u001b[0;34m=\u001b[0m \u001b[0mordered_rows\u001b[0m\u001b[0;34m\u001b[0m\u001b[0;34m\u001b[0m\u001b[0m\n\u001b[1;32m    753\u001b[0m             \u001b[0mcol_idx\u001b[0m \u001b[0;34m=\u001b[0m \u001b[0mself\u001b[0m\u001b[0;34m.\u001b[0m\u001b[0mcolumns\u001b[0m\u001b[0;34m\u001b[0m\u001b[0;34m\u001b[0m\u001b[0m\n\u001b[0;32m--> 754\u001b[0;31m         \u001b[0;32mreturn\u001b[0m \u001b[0mself\u001b[0m\u001b[0;34m.\u001b[0m\u001b[0m__constructor__\u001b[0m\u001b[0;34m(\u001b[0m\u001b[0mordered_cols\u001b[0m\u001b[0;34m,\u001b[0m \u001b[0mrow_idx\u001b[0m\u001b[0;34m,\u001b[0m \u001b[0mcol_idx\u001b[0m\u001b[0;34m)\u001b[0m\u001b[0;34m\u001b[0m\u001b[0;34m\u001b[0m\u001b[0m\n\u001b[0m\u001b[1;32m    755\u001b[0m \u001b[0;34m\u001b[0m\u001b[0m\n\u001b[1;32m    756\u001b[0m     \u001b[0;32mdef\u001b[0m \u001b[0mcopy\u001b[0m\u001b[0;34m(\u001b[0m\u001b[0mself\u001b[0m\u001b[0;34m)\u001b[0m\u001b[0;34m:\u001b[0m\u001b[0;34m\u001b[0m\u001b[0;34m\u001b[0m\u001b[0m\n",
      "\u001b[0;32m/opt/conda/lib/python3.7/site-packages/modin/core/dataframe/pandas/dataframe/dataframe.py\u001b[0m in \u001b[0;36m__init__\u001b[0;34m(self, partitions, index, columns, row_lengths, column_widths, dtypes)\u001b[0m\n\u001b[1;32m    101\u001b[0m         \u001b[0mself\u001b[0m\u001b[0;34m.\u001b[0m\u001b[0m_column_widths_cache\u001b[0m \u001b[0;34m=\u001b[0m \u001b[0mcolumn_widths\u001b[0m\u001b[0;34m\u001b[0m\u001b[0;34m\u001b[0m\u001b[0m\n\u001b[1;32m    102\u001b[0m         \u001b[0mself\u001b[0m\u001b[0;34m.\u001b[0m\u001b[0m_dtypes\u001b[0m \u001b[0;34m=\u001b[0m \u001b[0mdtypes\u001b[0m\u001b[0;34m\u001b[0m\u001b[0;34m\u001b[0m\u001b[0m\n\u001b[0;32m--> 103\u001b[0;31m         \u001b[0mself\u001b[0m\u001b[0;34m.\u001b[0m\u001b[0m_filter_empties\u001b[0m\u001b[0;34m(\u001b[0m\u001b[0;34m)\u001b[0m\u001b[0;34m\u001b[0m\u001b[0;34m\u001b[0m\u001b[0m\n\u001b[0m\u001b[1;32m    104\u001b[0m \u001b[0;34m\u001b[0m\u001b[0m\n\u001b[1;32m    105\u001b[0m     \u001b[0;34m@\u001b[0m\u001b[0mproperty\u001b[0m\u001b[0;34m\u001b[0m\u001b[0;34m\u001b[0m\u001b[0m\n",
      "\u001b[0;32m/opt/conda/lib/python3.7/site-packages/modin/core/dataframe/pandas/dataframe/dataframe.py\u001b[0m in \u001b[0;36m_filter_empties\u001b[0;34m(self)\u001b[0m\n\u001b[1;32m    327\u001b[0m                     \u001b[0;32mif\u001b[0m \u001b[0mj\u001b[0m \u001b[0;34m<\u001b[0m \u001b[0mlen\u001b[0m\u001b[0;34m(\u001b[0m\u001b[0mself\u001b[0m\u001b[0;34m.\u001b[0m\u001b[0m_column_widths\u001b[0m\u001b[0;34m)\u001b[0m \u001b[0;32mand\u001b[0m \u001b[0mself\u001b[0m\u001b[0;34m.\u001b[0m\u001b[0m_column_widths\u001b[0m\u001b[0;34m[\u001b[0m\u001b[0mj\u001b[0m\u001b[0;34m]\u001b[0m \u001b[0;34m!=\u001b[0m \u001b[0;36m0\u001b[0m\u001b[0;34m\u001b[0m\u001b[0;34m\u001b[0m\u001b[0m\n\u001b[1;32m    328\u001b[0m                 ]\n\u001b[0;32m--> 329\u001b[0;31m                 \u001b[0;32mfor\u001b[0m \u001b[0mi\u001b[0m \u001b[0;32min\u001b[0m \u001b[0mrange\u001b[0m\u001b[0;34m(\u001b[0m\u001b[0mlen\u001b[0m\u001b[0;34m(\u001b[0m\u001b[0mself\u001b[0m\u001b[0;34m.\u001b[0m\u001b[0m_partitions\u001b[0m\u001b[0;34m)\u001b[0m\u001b[0;34m)\u001b[0m\u001b[0;34m\u001b[0m\u001b[0;34m\u001b[0m\u001b[0m\n\u001b[0m\u001b[1;32m    330\u001b[0m                 \u001b[0;32mif\u001b[0m \u001b[0mi\u001b[0m \u001b[0;34m<\u001b[0m \u001b[0mlen\u001b[0m\u001b[0;34m(\u001b[0m\u001b[0mself\u001b[0m\u001b[0;34m.\u001b[0m\u001b[0m_row_lengths\u001b[0m\u001b[0;34m)\u001b[0m \u001b[0;32mand\u001b[0m \u001b[0mself\u001b[0m\u001b[0;34m.\u001b[0m\u001b[0m_row_lengths\u001b[0m\u001b[0;34m[\u001b[0m\u001b[0mi\u001b[0m\u001b[0;34m]\u001b[0m \u001b[0;34m!=\u001b[0m \u001b[0;36m0\u001b[0m\u001b[0;34m\u001b[0m\u001b[0;34m\u001b[0m\u001b[0m\n\u001b[1;32m    331\u001b[0m             ]\n",
      "\u001b[0;32m/opt/conda/lib/python3.7/site-packages/modin/core/dataframe/pandas/dataframe/dataframe.py\u001b[0m in \u001b[0;36m<listcomp>\u001b[0;34m(.0)\u001b[0m\n\u001b[1;32m    328\u001b[0m                 ]\n\u001b[1;32m    329\u001b[0m                 \u001b[0;32mfor\u001b[0m \u001b[0mi\u001b[0m \u001b[0;32min\u001b[0m \u001b[0mrange\u001b[0m\u001b[0;34m(\u001b[0m\u001b[0mlen\u001b[0m\u001b[0;34m(\u001b[0m\u001b[0mself\u001b[0m\u001b[0;34m.\u001b[0m\u001b[0m_partitions\u001b[0m\u001b[0;34m)\u001b[0m\u001b[0;34m)\u001b[0m\u001b[0;34m\u001b[0m\u001b[0;34m\u001b[0m\u001b[0m\n\u001b[0;32m--> 330\u001b[0;31m                 \u001b[0;32mif\u001b[0m \u001b[0mi\u001b[0m \u001b[0;34m<\u001b[0m \u001b[0mlen\u001b[0m\u001b[0;34m(\u001b[0m\u001b[0mself\u001b[0m\u001b[0;34m.\u001b[0m\u001b[0m_row_lengths\u001b[0m\u001b[0;34m)\u001b[0m \u001b[0;32mand\u001b[0m \u001b[0mself\u001b[0m\u001b[0;34m.\u001b[0m\u001b[0m_row_lengths\u001b[0m\u001b[0;34m[\u001b[0m\u001b[0mi\u001b[0m\u001b[0;34m]\u001b[0m \u001b[0;34m!=\u001b[0m \u001b[0;36m0\u001b[0m\u001b[0;34m\u001b[0m\u001b[0;34m\u001b[0m\u001b[0m\n\u001b[0m\u001b[1;32m    331\u001b[0m             ]\n\u001b[1;32m    332\u001b[0m         )\n",
      "\u001b[0;32m/opt/conda/lib/python3.7/site-packages/modin/core/execution/dask/implementations/pandas_on_dask/dataframe/dataframe.py\u001b[0m in \u001b[0;36m_row_lengths\u001b[0;34m(self)\u001b[0m\n\u001b[1;32m     57\u001b[0m         \u001b[0;32mif\u001b[0m \u001b[0mself\u001b[0m\u001b[0;34m.\u001b[0m\u001b[0m_row_lengths_cache\u001b[0m \u001b[0;32mis\u001b[0m \u001b[0;32mNone\u001b[0m\u001b[0;34m:\u001b[0m\u001b[0;34m\u001b[0m\u001b[0;34m\u001b[0m\u001b[0m\n\u001b[1;32m     58\u001b[0m             self._row_lengths_cache = client.gather(\n\u001b[0;32m---> 59\u001b[0;31m                 \u001b[0;34m[\u001b[0m\u001b[0mobj\u001b[0m\u001b[0;34m.\u001b[0m\u001b[0mapply\u001b[0m\u001b[0;34m(\u001b[0m\u001b[0;32mlambda\u001b[0m \u001b[0mdf\u001b[0m\u001b[0;34m:\u001b[0m \u001b[0mlen\u001b[0m\u001b[0;34m(\u001b[0m\u001b[0mdf\u001b[0m\u001b[0;34m)\u001b[0m\u001b[0;34m)\u001b[0m\u001b[0;34m.\u001b[0m\u001b[0mfuture\u001b[0m \u001b[0;32mfor\u001b[0m \u001b[0mobj\u001b[0m \u001b[0;32min\u001b[0m \u001b[0mself\u001b[0m\u001b[0;34m.\u001b[0m\u001b[0m_partitions\u001b[0m\u001b[0;34m.\u001b[0m\u001b[0mT\u001b[0m\u001b[0;34m[\u001b[0m\u001b[0;36m0\u001b[0m\u001b[0;34m]\u001b[0m\u001b[0;34m]\u001b[0m\u001b[0;34m\u001b[0m\u001b[0;34m\u001b[0m\u001b[0m\n\u001b[0m\u001b[1;32m     60\u001b[0m             )\n\u001b[1;32m     61\u001b[0m         \u001b[0;32mreturn\u001b[0m \u001b[0mself\u001b[0m\u001b[0;34m.\u001b[0m\u001b[0m_row_lengths_cache\u001b[0m\u001b[0;34m\u001b[0m\u001b[0;34m\u001b[0m\u001b[0m\n",
      "\u001b[0;32m/opt/conda/lib/python3.7/site-packages/distributed/client.py\u001b[0m in \u001b[0;36mgather\u001b[0;34m(self, futures, errors, direct, asynchronous)\u001b[0m\n\u001b[1;32m   2150\u001b[0m                 \u001b[0mdirect\u001b[0m\u001b[0;34m=\u001b[0m\u001b[0mdirect\u001b[0m\u001b[0;34m,\u001b[0m\u001b[0;34m\u001b[0m\u001b[0;34m\u001b[0m\u001b[0m\n\u001b[1;32m   2151\u001b[0m                 \u001b[0mlocal_worker\u001b[0m\u001b[0;34m=\u001b[0m\u001b[0mlocal_worker\u001b[0m\u001b[0;34m,\u001b[0m\u001b[0;34m\u001b[0m\u001b[0;34m\u001b[0m\u001b[0m\n\u001b[0;32m-> 2152\u001b[0;31m                 \u001b[0masynchronous\u001b[0m\u001b[0;34m=\u001b[0m\u001b[0masynchronous\u001b[0m\u001b[0;34m,\u001b[0m\u001b[0;34m\u001b[0m\u001b[0;34m\u001b[0m\u001b[0m\n\u001b[0m\u001b[1;32m   2153\u001b[0m             )\n\u001b[1;32m   2154\u001b[0m \u001b[0;34m\u001b[0m\u001b[0m\n",
      "\u001b[0;32m/opt/conda/lib/python3.7/site-packages/distributed/utils.py\u001b[0m in \u001b[0;36msync\u001b[0;34m(self, func, asynchronous, callback_timeout, *args, **kwargs)\u001b[0m\n\u001b[1;32m    308\u001b[0m         \u001b[0;32melse\u001b[0m\u001b[0;34m:\u001b[0m\u001b[0;34m\u001b[0m\u001b[0;34m\u001b[0m\u001b[0m\n\u001b[1;32m    309\u001b[0m             return sync(\n\u001b[0;32m--> 310\u001b[0;31m                 \u001b[0mself\u001b[0m\u001b[0;34m.\u001b[0m\u001b[0mloop\u001b[0m\u001b[0;34m,\u001b[0m \u001b[0mfunc\u001b[0m\u001b[0;34m,\u001b[0m \u001b[0;34m*\u001b[0m\u001b[0margs\u001b[0m\u001b[0;34m,\u001b[0m \u001b[0mcallback_timeout\u001b[0m\u001b[0;34m=\u001b[0m\u001b[0mcallback_timeout\u001b[0m\u001b[0;34m,\u001b[0m \u001b[0;34m**\u001b[0m\u001b[0mkwargs\u001b[0m\u001b[0;34m\u001b[0m\u001b[0;34m\u001b[0m\u001b[0m\n\u001b[0m\u001b[1;32m    311\u001b[0m             )\n\u001b[1;32m    312\u001b[0m \u001b[0;34m\u001b[0m\u001b[0m\n",
      "\u001b[0;32m/opt/conda/lib/python3.7/site-packages/distributed/utils.py\u001b[0m in \u001b[0;36msync\u001b[0;34m(loop, func, callback_timeout, *args, **kwargs)\u001b[0m\n\u001b[1;32m    374\u001b[0m     \u001b[0;32mif\u001b[0m \u001b[0merror\u001b[0m\u001b[0;34m:\u001b[0m\u001b[0;34m\u001b[0m\u001b[0;34m\u001b[0m\u001b[0m\n\u001b[1;32m    375\u001b[0m         \u001b[0mtyp\u001b[0m\u001b[0;34m,\u001b[0m \u001b[0mexc\u001b[0m\u001b[0;34m,\u001b[0m \u001b[0mtb\u001b[0m \u001b[0;34m=\u001b[0m \u001b[0merror\u001b[0m\u001b[0;34m\u001b[0m\u001b[0;34m\u001b[0m\u001b[0m\n\u001b[0;32m--> 376\u001b[0;31m         \u001b[0;32mraise\u001b[0m \u001b[0mexc\u001b[0m\u001b[0;34m.\u001b[0m\u001b[0mwith_traceback\u001b[0m\u001b[0;34m(\u001b[0m\u001b[0mtb\u001b[0m\u001b[0;34m)\u001b[0m\u001b[0;34m\u001b[0m\u001b[0;34m\u001b[0m\u001b[0m\n\u001b[0m\u001b[1;32m    377\u001b[0m     \u001b[0;32melse\u001b[0m\u001b[0;34m:\u001b[0m\u001b[0;34m\u001b[0m\u001b[0;34m\u001b[0m\u001b[0m\n\u001b[1;32m    378\u001b[0m         \u001b[0;32mreturn\u001b[0m \u001b[0mresult\u001b[0m\u001b[0;34m\u001b[0m\u001b[0;34m\u001b[0m\u001b[0m\n",
      "\u001b[0;32m/opt/conda/lib/python3.7/site-packages/distributed/utils.py\u001b[0m in \u001b[0;36mf\u001b[0;34m()\u001b[0m\n\u001b[1;32m    347\u001b[0m                 \u001b[0mfuture\u001b[0m \u001b[0;34m=\u001b[0m \u001b[0masyncio\u001b[0m\u001b[0;34m.\u001b[0m\u001b[0mwait_for\u001b[0m\u001b[0;34m(\u001b[0m\u001b[0mfuture\u001b[0m\u001b[0;34m,\u001b[0m \u001b[0mcallback_timeout\u001b[0m\u001b[0;34m)\u001b[0m\u001b[0;34m\u001b[0m\u001b[0;34m\u001b[0m\u001b[0m\n\u001b[1;32m    348\u001b[0m             \u001b[0mfuture\u001b[0m \u001b[0;34m=\u001b[0m \u001b[0masyncio\u001b[0m\u001b[0;34m.\u001b[0m\u001b[0mensure_future\u001b[0m\u001b[0;34m(\u001b[0m\u001b[0mfuture\u001b[0m\u001b[0;34m)\u001b[0m\u001b[0;34m\u001b[0m\u001b[0;34m\u001b[0m\u001b[0m\n\u001b[0;32m--> 349\u001b[0;31m             \u001b[0mresult\u001b[0m \u001b[0;34m=\u001b[0m \u001b[0;32myield\u001b[0m \u001b[0mfuture\u001b[0m\u001b[0;34m\u001b[0m\u001b[0;34m\u001b[0m\u001b[0m\n\u001b[0m\u001b[1;32m    350\u001b[0m         \u001b[0;32mexcept\u001b[0m \u001b[0mException\u001b[0m\u001b[0;34m:\u001b[0m\u001b[0;34m\u001b[0m\u001b[0;34m\u001b[0m\u001b[0m\n\u001b[1;32m    351\u001b[0m             \u001b[0merror\u001b[0m \u001b[0;34m=\u001b[0m \u001b[0msys\u001b[0m\u001b[0;34m.\u001b[0m\u001b[0mexc_info\u001b[0m\u001b[0;34m(\u001b[0m\u001b[0;34m)\u001b[0m\u001b[0;34m\u001b[0m\u001b[0;34m\u001b[0m\u001b[0m\n",
      "\u001b[0;32m/opt/conda/lib/python3.7/site-packages/tornado/gen.py\u001b[0m in \u001b[0;36mrun\u001b[0;34m(self)\u001b[0m\n\u001b[1;32m    760\u001b[0m \u001b[0;34m\u001b[0m\u001b[0m\n\u001b[1;32m    761\u001b[0m                     \u001b[0;32mtry\u001b[0m\u001b[0;34m:\u001b[0m\u001b[0;34m\u001b[0m\u001b[0;34m\u001b[0m\u001b[0m\n\u001b[0;32m--> 762\u001b[0;31m                         \u001b[0mvalue\u001b[0m \u001b[0;34m=\u001b[0m \u001b[0mfuture\u001b[0m\u001b[0;34m.\u001b[0m\u001b[0mresult\u001b[0m\u001b[0;34m(\u001b[0m\u001b[0;34m)\u001b[0m\u001b[0;34m\u001b[0m\u001b[0;34m\u001b[0m\u001b[0m\n\u001b[0m\u001b[1;32m    763\u001b[0m                     \u001b[0;32mexcept\u001b[0m \u001b[0mException\u001b[0m\u001b[0;34m:\u001b[0m\u001b[0;34m\u001b[0m\u001b[0;34m\u001b[0m\u001b[0m\n\u001b[1;32m    764\u001b[0m                         \u001b[0mexc_info\u001b[0m \u001b[0;34m=\u001b[0m \u001b[0msys\u001b[0m\u001b[0;34m.\u001b[0m\u001b[0mexc_info\u001b[0m\u001b[0;34m(\u001b[0m\u001b[0;34m)\u001b[0m\u001b[0;34m\u001b[0m\u001b[0;34m\u001b[0m\u001b[0m\n",
      "\u001b[0;31mCancelledError\u001b[0m: "
     ]
    }
   ],
   "source": [
    "%%time\n",
    "\n",
    "bestseller_article_info = negative_examples_bestsellers_previous_week.drop_duplicates(['article_id', 'sales_channel_id'])[['article_id', 'sales_channel_id', 'bestseller_previous_week_rank', 'price']]"
   ]
  },
  {
   "cell_type": "code",
   "execution_count": null,
   "id": "47640e1c",
   "metadata": {},
   "outputs": [],
   "source": [
    "%%time\n",
    "\n",
    "test_candidates = pd.merge( # negative examples AND candidates for week 108!\n",
    "    test_data,\n",
    "    bestseller_article_info,\n",
    "    how='outer',\n",
    "    on='sales_channel_id'\n",
    ")\n",
    "\n",
    "test_candidates['week'] = transactions.week.max()\n",
    "\n",
    "transactions = pd.concat([transactions, test_candidates])"
   ]
  },
  {
   "cell_type": "code",
   "execution_count": 26,
   "id": "91165f7e",
   "metadata": {},
   "outputs": [
    {
     "name": "stderr",
     "output_type": "stream",
     "text": [
      "distributed.nanny - WARNING - Restarting worker\n",
      "distributed.nanny - WARNING - Restarting worker\n",
      "distributed.nanny - WARNING - Restarting worker\n",
      "distributed.nanny - WARNING - Restarting worker\n",
      "distributed.nanny - WARNING - Restarting worker\n",
      "distributed.nanny - WARNING - Restarting worker\n",
      "distributed.nanny - WARNING - Restarting worker\n",
      "distributed.nanny - WARNING - Restarting worker\n",
      "distributed.nanny - WARNING - Restarting worker\n",
      "distributed.nanny - WARNING - Restarting worker\n",
      "distributed.nanny - WARNING - Restarting worker\n",
      "distributed.nanny - WARNING - Restarting worker\n",
      "distributed.nanny - WARNING - Restarting worker\n",
      "distributed.nanny - WARNING - Restarting worker\n",
      "distributed.nanny - WARNING - Restarting worker\n",
      "distributed.nanny - WARNING - Restarting worker\n"
     ]
    }
   ],
   "source": [
    "%%time\n",
    "\n",
    "transactions.bought_previous_week.fillna(0, inplace=True)\n",
    "transactions.purchased.fillna(0, inplace=True)"
   ]
  },
  {
   "cell_type": "code",
   "execution_count": null,
   "id": "0d5b44f8",
   "metadata": {},
   "outputs": [],
   "source": [
    "%%time\n",
    "\n",
    "# removing \"fake\", incorrect transactions\n",
    "transactions.drop_duplicates(['customer_id', 'week', 'article_id', 'sales_channel_id'], inplace=True)"
   ]
  },
  {
   "cell_type": "code",
   "execution_count": null,
   "id": "4ac8f3f5",
   "metadata": {},
   "outputs": [],
   "source": [
    "transactions.shape"
   ]
  },
  {
   "cell_type": "code",
   "execution_count": null,
   "id": "6def530e",
   "metadata": {},
   "outputs": [],
   "source": [
    "%%time\n",
    "# Yet another way to create negative examples, to further differentiate between user preferences.\n",
    "\n",
    "negative_transactions = transactions[transactions.purchased == 1].copy()\n",
    "negative_transactions.purchased = 0\n",
    "negative_transactions.bought_previous_week = 0"
   ]
  },
  {
   "cell_type": "code",
   "execution_count": null,
   "id": "0ee2ea82",
   "metadata": {},
   "outputs": [],
   "source": [
    "%%time\n",
    "\n",
    "negative_transactions.customer_id = negative_transactions.groupby('week')['customer_id'].transform(np.random.permutation)"
   ]
  },
  {
   "cell_type": "code",
   "execution_count": null,
   "id": "9bd4788f",
   "metadata": {},
   "outputs": [],
   "source": [
    "%%time\n",
    "\n",
    "transactions = pd.concat([transactions, negative_transactions])\n",
    "transactions.drop_duplicates(['customer_id', 'week', 'article_id', 'sales_channel_id'], inplace=True)"
   ]
  },
  {
   "cell_type": "code",
   "execution_count": null,
   "id": "8c7b81a5",
   "metadata": {},
   "outputs": [],
   "source": [
    "transactions.shape"
   ]
  },
  {
   "cell_type": "markdown",
   "id": "a3d7b69c",
   "metadata": {},
   "source": [
    "Let's merge `customers` and `articles` with `transactions`."
   ]
  },
  {
   "cell_type": "code",
   "execution_count": null,
   "id": "be67bd78",
   "metadata": {},
   "outputs": [],
   "source": [
    "articles.drop(columns=['detail_desc', 'prod_name'], inplace=True)"
   ]
  },
  {
   "cell_type": "code",
   "execution_count": null,
   "id": "43b980c6",
   "metadata": {},
   "outputs": [],
   "source": [
    "%%time\n",
    "\n",
    "transactions = pd.merge(transactions, articles, on='article_id', how='left')\n",
    "transactions = pd.merge(transactions, customers, on='customer_id', how='left')"
   ]
  },
  {
   "cell_type": "code",
   "execution_count": null,
   "id": "7c5786e9",
   "metadata": {},
   "outputs": [],
   "source": [
    "transactions.shape"
   ]
  },
  {
   "cell_type": "code",
   "execution_count": null,
   "id": "871d2755",
   "metadata": {},
   "outputs": [
    {
     "name": "stderr",
     "output_type": "stream",
     "text": [
      "distributed.nanny - WARNING - Restarting worker\n"
     ]
    }
   ],
   "source": [
    "%%time\n",
    "\n",
    "# we need to sort transactions to create baskets,\n",
    "# where a basket is a sequence of records\n",
    "# representing purchases (and purchase candidates / negative examples)\n",
    "# for a customer for a given week\n",
    "transactions.sort_values(['customer_id', 'week'], inplace=True)"
   ]
  },
  {
   "cell_type": "code",
   "execution_count": null,
   "id": "2a527072",
   "metadata": {},
   "outputs": [],
   "source": [
    "%%time\n",
    "\n",
    "transactions.to_pickle(f\"data/transactions_last_10_weeks_sorted.pkl\")\n",
    "# transactions = pd.read_pickle(f\"data/transactions_last_10_weeks_sorted.pkl\")"
   ]
  },
  {
   "cell_type": "markdown",
   "id": "746b4ebb",
   "metadata": {},
   "source": [
    "# Dataset preparation"
   ]
  },
  {
   "cell_type": "code",
   "execution_count": 40,
   "id": "93e7133f",
   "metadata": {},
   "outputs": [],
   "source": [
    "first_two_weeks = transactions.week.sort_values().unique()[:2]\n",
    "\n",
    "test_set_week = transactions.week.max()\n",
    "valid_set_week = test_set_week - 1\n",
    "train_set_weeks = set(transactions.week) - set([test_set_week]) - set([valid_set_week])"
   ]
  },
  {
   "cell_type": "code",
   "execution_count": 41,
   "id": "fe75d1c0",
   "metadata": {},
   "outputs": [],
   "source": [
    "%%time\n",
    "\n",
    "transactions = transactions[~transactions.week.isin(set(first_two_weeks))]\n",
    "\n",
    "test_candidates = transactions[transactions.week == test_set_week]\n",
    "train_set = transactions[transactions.week != test_set_week]"
   ]
  },
  {
   "cell_type": "code",
   "execution_count": 43,
   "id": "1f627760",
   "metadata": {},
   "outputs": [
    {
     "data": {
      "text/plain": [
       "((25358610, 36), (55077568, 36))"
      ]
     },
     "execution_count": 43,
     "metadata": {},
     "output_type": "execute_result"
    }
   ],
   "source": [
    "train_set.shape, test_candidates.shape"
   ]
  },
  {
   "cell_type": "code",
   "execution_count": 44,
   "id": "1638432c",
   "metadata": {},
   "outputs": [],
   "source": [
    "%%time\n",
    "\n",
    "train_X = train_set[train_set.week.isin(train_set_weeks)]\n",
    "valid_X = train_set[train_set.week == valid_set_week]\n",
    "\n",
    "train_y = train_X['purchased']\n",
    "valid_y = valid_X['purchased']\n",
    "\n",
    "train_X = train_X.drop(columns='purchased')\n",
    "valid_X = valid_X.drop(columns='purchased')"
   ]
  },
  {
   "cell_type": "code",
   "execution_count": 45,
   "id": "657e195a",
   "metadata": {},
   "outputs": [],
   "source": [
    "del transactions"
   ]
  },
  {
   "cell_type": "code",
   "execution_count": 46,
   "id": "579b3e94",
   "metadata": {},
   "outputs": [],
   "source": [
    "test_X = test_candidates.drop(columns='purchased')\n",
    "del test_candidates"
   ]
  },
  {
   "cell_type": "code",
   "execution_count": 47,
   "id": "8b2248a9",
   "metadata": {},
   "outputs": [
    {
     "name": "stdout",
     "output_type": "stream",
     "text": [
      "CPU times: user 19.3 s, sys: 1.29 s, total: 20.6 s\n",
      "Wall time: 20.6 s\n"
     ]
    }
   ],
   "source": [
    "%%time\n",
    "\n",
    "train_baskets = train_X.groupby(['customer_id', 'week'])['article_id'].count().values\n",
    "valid_baskets = valid_X.groupby(['customer_id', 'week'])['article_id'].count().values\n",
    "test_baskets = test_X.groupby(['customer_id', 'week'])['article_id'].count().values"
   ]
  },
  {
   "cell_type": "markdown",
   "id": "41249e5d",
   "metadata": {},
   "source": [
    "# Vectorize datasets"
   ]
  },
  {
   "cell_type": "code",
   "execution_count": 48,
   "id": "aa5992b8",
   "metadata": {},
   "outputs": [
    {
     "data": {
      "text/plain": [
       "'3.3.2'"
      ]
     },
     "execution_count": 48,
     "metadata": {},
     "output_type": "execute_result"
    }
   ],
   "source": [
    "import lightgbm\n",
    "lightgbm.__version__"
   ]
  },
  {
   "cell_type": "code",
   "execution_count": 49,
   "id": "99dab09a",
   "metadata": {},
   "outputs": [],
   "source": [
    "from sklearn.pipeline import Pipeline, make_pipeline\n",
    "from sklearn.preprocessing import LabelEncoder\n",
    "from sklearn.impute import SimpleImputer\n",
    "from sklearn.base import BaseEstimator, TransformerMixin\n",
    "from sklearn.feature_extraction import DictVectorizer\n",
    "\n",
    "from sklearn.compose import ColumnTransformer\n",
    "from lightgbm.sklearn import LGBMRanker"
   ]
  },
  {
   "cell_type": "code",
   "execution_count": 50,
   "id": "44b27b67",
   "metadata": {},
   "outputs": [],
   "source": [
    "# https://github.com/logicai-io/recsys2019/blob/master/src/recsys/transformers.py\n",
    "# https://github.com/logicai-io/recsys2019/blob/master/src/recsys/vectorizers.py\n",
    "\n",
    "class PandasToRecords(BaseEstimator, TransformerMixin):\n",
    "    def fit(self, X, *arg):\n",
    "        return self\n",
    "\n",
    "    def transform(self, X):\n",
    "        return X.to_dict(orient=\"records\")\n",
    "\n",
    "class SparsityFilter(BaseEstimator, TransformerMixin):\n",
    "    def __init__(self, min_nnz=None):\n",
    "        self.min_nnz = min_nnz\n",
    "\n",
    "    def fit(self, X, y=None):\n",
    "        self.sparsity = X.getnnz(0)\n",
    "        return self\n",
    "\n",
    "    def transform(self, X):\n",
    "        return X[:, self.sparsity >= self.min_nnz]\n",
    "\n",
    "class PandasToNpArray(BaseEstimator, TransformerMixin):\n",
    "    def fit(self, X, *arg):\n",
    "        return self\n",
    "\n",
    "    def transform(self, X):\n",
    "        return X.values.astype(np.float)"
   ]
  },
  {
   "cell_type": "code",
   "execution_count": 51,
   "id": "991d34d4",
   "metadata": {},
   "outputs": [],
   "source": [
    "class Categorize(BaseEstimator, TransformerMixin):\n",
    "    def __init__(self, min_examples=0):\n",
    "        self.min_examples = min_examples\n",
    "        \n",
    "    def fit(self, X):\n",
    "        vc = X.iloc[:, 0].value_counts()\n",
    "        self.categories = vc[vc > self.min_examples].index.tolist()\n",
    "        return self\n",
    "\n",
    "    def transform(self, X):\n",
    "        return pd.DataFrame(data={X.columns[0]: pd.Categorical(X.iloc[:, 0], categories=self.categories).codes})"
   ]
  },
  {
   "cell_type": "code",
   "execution_count": 52,
   "id": "f67309d5",
   "metadata": {},
   "outputs": [],
   "source": [
    "categorical_variables = ['article_id', 'postal_code', 'sales_channel_id', 'bought_previous_week', 'product_type_name', 'product_group_name', \n",
    " 'colour_group_name', 'perceived_colour_value_name', 'perceived_colour_master_name', 'department_name',\n",
    " 'index_code', 'index_name', 'index_group_name', 'section_name', 'garment_group_name',\n",
    " 'FN', 'Active', 'club_member_status', 'fashion_news_frequency', 'graphical_appearance_name',\n",
    " 'bestseller_previous_week_rank', 'product_type_no', 'colour_group_code']\n",
    "numerical_variables = ['graphical_appearance_no', 'perceived_colour_value_id', 'perceived_colour_master_id', \n",
    " 'department_no', 'index_group_no', 'section_no', 'garment_group_no', 'age', 'price', 'product_code']"
   ]
  },
  {
   "cell_type": "code",
   "execution_count": 53,
   "id": "54c78cc6",
   "metadata": {},
   "outputs": [],
   "source": [
    "pipe = make_pipeline(\n",
    "    ColumnTransformer(\n",
    "        [   \n",
    "            (\n",
    "                \"customer_id\",\n",
    "                Categorize(150),\n",
    "                ['customer_id'],\n",
    "            ),\n",
    "            (\n",
    "                \"categorical\",\n",
    "                Categorize(60),\n",
    "                categorical_variables,\n",
    "            ),\n",
    "            (\n",
    "                \"numerical\",\n",
    "                make_pipeline(PandasToNpArray(), SimpleImputer(strategy=\"constant\", fill_value=-1)),\n",
    "                numerical_variables,\n",
    "            ),\n",
    "        ]\n",
    "    )\n",
    ")"
   ]
  },
  {
   "cell_type": "code",
   "execution_count": 55,
   "id": "96782094",
   "metadata": {},
   "outputs": [],
   "source": [
    "# pipe = make_pipeline(\n",
    "#     ColumnTransformer(\n",
    "#         [   \n",
    "#             (\n",
    "#                 \"customer_id\",\n",
    "#                 make_pipeline(PandasToRecords(), DictVectorizer(), SparsityFilter(min_nnz=150)),\n",
    "#                 ['customer_id'],\n",
    "#             ),\n",
    "#             (\n",
    "#                 \"categorical\",\n",
    "#                 make_pipeline(PandasToRecords(), DictVectorizer(), SparsityFilter(min_nnz=60)),\n",
    "#                 categorical_variables,\n",
    "#             ),\n",
    "#             (\n",
    "#                 \"numerical\",\n",
    "#                 make_pipeline(PandasToNpArray(), SimpleImputer(strategy=\"constant\", fill_value=-1)),\n",
    "#                 numerical_variables,\n",
    "#             ),\n",
    "#         ]\n",
    "#     )\n",
    "# )"
   ]
  },
  {
   "cell_type": "code",
   "execution_count": 1,
   "id": "3cb853e7",
   "metadata": {},
   "outputs": [
    {
     "ename": "NameError",
     "evalue": "name 'pipe' is not defined",
     "output_type": "error",
     "traceback": [
      "\u001b[0;31m---------------------------------------------------------------------------\u001b[0m",
      "\u001b[0;31mNameError\u001b[0m                                 Traceback (most recent call last)",
      "\u001b[0;32m<timed exec>\u001b[0m in \u001b[0;36m<module>\u001b[0;34m\u001b[0m\n",
      "\u001b[0;31mNameError\u001b[0m: name 'pipe' is not defined"
     ]
    }
   ],
   "source": [
    "%%time\n",
    "train_X_vec = pipe.fit_transform(train_X)"
   ]
  },
  {
   "cell_type": "code",
   "execution_count": 2,
   "id": "19fd2ba6",
   "metadata": {},
   "outputs": [
    {
     "ename": "NameError",
     "evalue": "name 'pipe' is not defined",
     "output_type": "error",
     "traceback": [
      "\u001b[0;31m---------------------------------------------------------------------------\u001b[0m",
      "\u001b[0;31mNameError\u001b[0m                                 Traceback (most recent call last)",
      "\u001b[0;32m<timed exec>\u001b[0m in \u001b[0;36m<module>\u001b[0;34m\u001b[0m\n",
      "\u001b[0;31mNameError\u001b[0m: name 'pipe' is not defined"
     ]
    }
   ],
   "source": [
    "%%time\n",
    "valid_X_vec = pipe.transform(valid_X)"
   ]
  },
  {
   "cell_type": "code",
   "execution_count": 3,
   "id": "766b3786",
   "metadata": {},
   "outputs": [
    {
     "ename": "NameError",
     "evalue": "name 'LGBMRanker' is not defined",
     "output_type": "error",
     "traceback": [
      "\u001b[0;31m---------------------------------------------------------------------------\u001b[0m",
      "\u001b[0;31mNameError\u001b[0m                                 Traceback (most recent call last)",
      "\u001b[0;32m/tmp/ipykernel_2093/177163448.py\u001b[0m in \u001b[0;36m<module>\u001b[0;34m\u001b[0m\n\u001b[0;32m----> 1\u001b[0;31m ranker = LGBMRanker(\n\u001b[0m\u001b[1;32m      2\u001b[0m     \u001b[0mobjective\u001b[0m\u001b[0;34m=\u001b[0m\u001b[0;34m\"lambdarank\"\u001b[0m\u001b[0;34m,\u001b[0m\u001b[0;34m\u001b[0m\u001b[0;34m\u001b[0m\u001b[0m\n\u001b[1;32m      3\u001b[0m     \u001b[0mmetric\u001b[0m\u001b[0;34m=\u001b[0m\u001b[0;34m\"ndcg\"\u001b[0m\u001b[0;34m,\u001b[0m\u001b[0;34m\u001b[0m\u001b[0;34m\u001b[0m\u001b[0m\n\u001b[1;32m      4\u001b[0m     \u001b[0mboosting_type\u001b[0m\u001b[0;34m=\u001b[0m\u001b[0;34m\"dart\"\u001b[0m\u001b[0;34m,\u001b[0m\u001b[0;34m\u001b[0m\u001b[0;34m\u001b[0m\u001b[0m\n\u001b[1;32m      5\u001b[0m     \u001b[0mn_estimators\u001b[0m\u001b[0;34m=\u001b[0m\u001b[0;36m10\u001b[0m\u001b[0;34m,\u001b[0m\u001b[0;34m\u001b[0m\u001b[0;34m\u001b[0m\u001b[0m\n",
      "\u001b[0;31mNameError\u001b[0m: name 'LGBMRanker' is not defined"
     ]
    }
   ],
   "source": [
    "ranker = LGBMRanker(\n",
    "    objective=\"lambdarank\",\n",
    "    metric=\"ndcg\",\n",
    "    boosting_type=\"dart\",\n",
    "    n_estimators=10,\n",
    "    num_rounds=3,\n",
    ")"
   ]
  },
  {
   "cell_type": "code",
   "execution_count": null,
   "id": "c8adbf02",
   "metadata": {},
   "outputs": [],
   "source": [
    "%%time\n",
    "\n",
    "r = ranker.fit(\n",
    "    train_X_vec,\n",
    "    train_y,\n",
    "    group=train_baskets,\n",
    "    eval_set=[(valid_X_vec, valid_y)],\n",
    "    eval_group=[valid_baskets],\n",
    ")"
   ]
  },
  {
   "cell_type": "code",
   "execution_count": null,
   "id": "24086b30",
   "metadata": {},
   "outputs": [],
   "source": []
  },
  {
   "cell_type": "code",
   "execution_count": 62,
   "id": "2864f166",
   "metadata": {},
   "outputs": [
    {
     "data": {
      "text/plain": [
       "array([  0, 288, 287, 286, 285, 284, 283, 282, 280, 279, 278, 289, 277,\n",
       "       275, 274, 273, 272, 271, 270, 269, 268, 267, 266, 276, 265, 290,\n",
       "       292, 315, 314, 313, 312, 311, 310, 309, 308, 307, 305, 291, 304,\n",
       "       302, 301, 300, 299, 298, 297, 296, 295, 294, 293, 303, 316, 264,\n",
       "       262, 233, 232, 231, 230, 229, 228, 227, 226, 225, 224, 234, 223,\n",
       "       221, 220, 219, 218, 217, 216, 214, 213, 212, 211, 222, 263, 235,\n",
       "       237, 261, 260, 259, 258, 257, 255, 254, 253, 252, 251, 236, 250,\n",
       "       247, 246, 245, 244, 243, 242, 241, 240, 239, 238, 249, 317, 318,\n",
       "       319, 399, 398, 397, 396, 395, 394, 393, 392, 391, 389, 401, 388,\n",
       "       386, 385, 384, 383, 382, 381, 380, 379, 378, 376, 387, 375, 402,\n",
       "       404, 426, 425, 424, 423, 422, 421, 420, 419, 418, 417, 403, 416,\n",
       "       414, 413, 412, 411, 410, 409, 408, 407, 406, 405, 415, 374, 373,\n",
       "       372, 343, 342, 341, 340, 339, 338, 337, 336, 335, 333, 344, 331,\n",
       "       329, 328, 327, 326, 325, 324, 323, 322, 321, 320, 330, 345, 346,\n",
       "       347, 371, 370, 369, 368, 366, 365, 364, 363, 362, 361, 360, 359,\n",
       "       358, 357, 356, 355, 354, 353, 352, 351, 350, 349, 348, 210, 209,\n",
       "       215, 207,  78,  77,  76,  75,  74,  73,  72,  71,  70,  69,  79,\n",
       "        68,  66,  65,  64,  63,  62,  61,  60,  59,  58,  57,  67,  56,\n",
       "        80,  82, 107, 106, 103, 208, 101, 100,  99,  98,  97,  96,  81,\n",
       "        95,  92,  91,  90,  89,  88,  87,  86,  85,  84,  83,  93, 108,\n",
       "        54,  51,  23,  22,  21,  20,  19,  18,  17,  16,  15,  14,  24,\n",
       "        13,  11,  10,   9,   8,   7,   5,   4,   3,   2,   1,  12,  53,\n",
       "        25,  27,  50,  49,  48,  47,  46,  45,  44,  43,  41,  40,  26,\n",
       "        39,  37,  36,  35,  34,  33,  32,  31,  30,  29,  28,  38, 109,\n",
       "       102, 111, 180, 179, 178, 177, 176, 175, 174, 173, 172, 171, 181,\n",
       "       170, 168, 167, 166, 165, 164, 163, 161, 110, 159, 158, 169, 157,\n",
       "       182, 184, 206, 205, 204, 203, 202, 201, 200, 199, 198, 197, 183,\n",
       "       196, 194, 193, 192, 191, 190, 189, 188, 187, 186, 185, 195, 156,\n",
       "       160, 154, 135, 134, 133, 155, 131, 130, 129, 128, 127, 125, 124,\n",
       "       123, 122, 121, 120, 119, 118, 117, 116, 115, 114, 113, 112, 136,\n",
       "       137, 132, 145, 151, 138, 148, 147, 146, 150, 144, 143, 149, 142,\n",
       "       141, 140, 139, 153, 152, 104,   6, 429, 306, 367,  55, 390,  94,\n",
       "       162, 377, 332, 126, 334, 400,  42, 248, 281,  52, 430, 256, 105,\n",
       "       427, 428])"
      ]
     },
     "execution_count": 62,
     "metadata": {},
     "output_type": "execute_result"
    }
   ],
   "source": [
    "ranker.feature_importances_.argsort()"
   ]
  },
  {
   "cell_type": "code",
   "execution_count": 63,
   "id": "4e32e76f",
   "metadata": {},
   "outputs": [
    {
     "name": "stdout",
     "output_type": "stream",
     "text": [
      "[1]\tvalid_0's ndcg@1: 0.8\tvalid_0's ndcg@2: 0.853102\tvalid_0's ndcg@3: 0.877094\tvalid_0's ndcg@4: 0.893132\tvalid_0's ndcg@5: 0.899708\n",
      "CPU times: user 1.04 s, sys: 0 ns, total: 1.04 s\n",
      "Wall time: 43.2 ms\n"
     ]
    },
    {
     "data": {
      "text/plain": [
       "LGBMRanker(boosting_type='dart', metric='ndcg', n_estimators=10, num_rounds=1,\n",
       "           objective='lambdarank')"
      ]
     },
     "execution_count": 63,
     "metadata": {},
     "output_type": "execute_result"
    }
   ],
   "source": [
    "%%time\n",
    "\n",
    "ranker.fit(\n",
    "    train_X_vec,\n",
    "    train_y,\n",
    "    group=train_baskets,\n",
    "    eval_set=[(valid_X_vec, valid_y)],\n",
    "    eval_group=[valid_baskets],\n",
    ")"
   ]
  },
  {
   "cell_type": "code",
   "execution_count": null,
   "id": "0a1f3074",
   "metadata": {},
   "outputs": [],
   "source": []
  },
  {
   "cell_type": "code",
   "execution_count": 64,
   "id": "20bf8a5c",
   "metadata": {},
   "outputs": [
    {
     "name": "stdout",
     "output_type": "stream",
     "text": [
      "[1]\tvalid_0's ndcg@1: 0.8\tvalid_0's ndcg@2: 0.853102\tvalid_0's ndcg@3: 0.877094\tvalid_0's ndcg@4: 0.893132\tvalid_0's ndcg@5: 0.899708\n",
      "CPU times: user 1.19 s, sys: 14.8 ms, total: 1.21 s\n",
      "Wall time: 50.3 ms\n"
     ]
    },
    {
     "data": {
      "text/plain": [
       "LGBMRanker(boosting_type='dart', metric='ndcg', n_estimators=10, num_rounds=1,\n",
       "           objective='lambdarank')"
      ]
     },
     "execution_count": 64,
     "metadata": {},
     "output_type": "execute_result"
    }
   ],
   "source": [
    "%%time\n",
    "\n",
    "ranker.fit(\n",
    "    train_X_vec,\n",
    "    train_y,\n",
    "    group=train_baskets,\n",
    "    eval_set=[(valid_X_vec, valid_y)],\n",
    "    eval_group=[valid_baskets],\n",
    ")\n",
    "\n",
    "#  20 ests"
   ]
  },
  {
   "cell_type": "code",
   "execution_count": null,
   "id": "49dcb465",
   "metadata": {},
   "outputs": [],
   "source": []
  },
  {
   "cell_type": "code",
   "execution_count": 65,
   "id": "d326923f",
   "metadata": {},
   "outputs": [
    {
     "name": "stdout",
     "output_type": "stream",
     "text": [
      "[1]\tvalid_0's ndcg@1: 0.8\tvalid_0's ndcg@2: 0.853102\tvalid_0's ndcg@3: 0.877094\tvalid_0's ndcg@4: 0.893132\tvalid_0's ndcg@5: 0.899708\n",
      "CPU times: user 1.16 s, sys: 19.4 ms, total: 1.18 s\n",
      "Wall time: 49.1 ms\n"
     ]
    },
    {
     "data": {
      "text/plain": [
       "LGBMRanker(boosting_type='dart', metric='ndcg', n_estimators=10, num_rounds=1,\n",
       "           objective='lambdarank')"
      ]
     },
     "execution_count": 65,
     "metadata": {},
     "output_type": "execute_result"
    }
   ],
   "source": [
    "%%time\n",
    "\n",
    "ranker.fit(\n",
    "    train_X_vec,\n",
    "    train_y,\n",
    "    group=train_baskets,\n",
    "    eval_set=[(valid_X_vec, valid_y)],\n",
    "    eval_group=[valid_baskets],\n",
    ")\n",
    "\n",
    "# 10 ests"
   ]
  },
  {
   "cell_type": "code",
   "execution_count": null,
   "id": "072e3133",
   "metadata": {},
   "outputs": [],
   "source": []
  },
  {
   "cell_type": "code",
   "execution_count": 66,
   "id": "7dd31998",
   "metadata": {},
   "outputs": [],
   "source": [
    "del valid_X, train_X\n",
    "del valid_X_vec, train_X_vec"
   ]
  },
  {
   "cell_type": "code",
   "execution_count": 67,
   "id": "9084f847",
   "metadata": {},
   "outputs": [
    {
     "data": {
      "text/plain": [
       "241"
      ]
     },
     "execution_count": 67,
     "metadata": {},
     "output_type": "execute_result"
    }
   ],
   "source": [
    "gc.collect()"
   ]
  },
  {
   "cell_type": "code",
   "execution_count": 68,
   "id": "9a2f7fb8",
   "metadata": {},
   "outputs": [],
   "source": [
    "del train_set"
   ]
  },
  {
   "cell_type": "code",
   "execution_count": 69,
   "id": "ab579580",
   "metadata": {},
   "outputs": [],
   "source": [
    "import joblib\n",
    "# save model\n",
    "# joblib.dump(ranker, 'data/ranker.pkl')\n",
    "# load model\n",
    "ranker = joblib.load('data/ranker.pkl')"
   ]
  },
  {
   "cell_type": "code",
   "execution_count": null,
   "id": "a2d01047",
   "metadata": {},
   "outputs": [],
   "source": [
    "test_X = pd.read_pickle('data/test_X.pkl')"
   ]
  },
  {
   "cell_type": "code",
   "execution_count": null,
   "id": "3cd6c97a",
   "metadata": {},
   "outputs": [],
   "source": [
    "test_baskets = pd.read_pickle('data/test_baskets.pkl')"
   ]
  },
  {
   "cell_type": "code",
   "execution_count": null,
   "id": "2eb058ce",
   "metadata": {},
   "outputs": [],
   "source": [
    "import joblib\n",
    "pipe = joblib.load('data/pipe.pkl')"
   ]
  },
  {
   "cell_type": "code",
   "execution_count": null,
   "id": "5e3bcd39",
   "metadata": {},
   "outputs": [],
   "source": [
    "import gc\n",
    "gc.collect()"
   ]
  },
  {
   "cell_type": "code",
   "execution_count": null,
   "id": "7cd70eb3",
   "metadata": {},
   "outputs": [],
   "source": [
    "%%time\n",
    "\n",
    "chunk_size = 5_000_000\n",
    "preds = []\n",
    "\n",
    "for i in range(0, test_X.shape[0], chunk_size):\n",
    "    test_X_chunk_vectorized = pipe.transform(test_X.iloc[i:i+chunk_size])\n",
    "    preds.append(ranker.predict(test_X_chunk_vectorized))"
   ]
  },
  {
   "cell_type": "code",
   "execution_count": null,
   "id": "a0c4a2af",
   "metadata": {},
   "outputs": [],
   "source": [
    "preds = np.concatenate(preds)"
   ]
  },
  {
   "cell_type": "code",
   "execution_count": null,
   "id": "4aad4be7",
   "metadata": {},
   "outputs": [],
   "source": [
    "test_X.shape"
   ]
  },
  {
   "cell_type": "code",
   "execution_count": null,
   "id": "edfd3443",
   "metadata": {},
   "outputs": [],
   "source": [
    "preds.shape"
   ]
  },
  {
   "cell_type": "code",
   "execution_count": null,
   "id": "455496d3",
   "metadata": {},
   "outputs": [],
   "source": [
    "pd.to_pickle(preds, 'data/preds.pkl')"
   ]
  },
  {
   "cell_type": "code",
   "execution_count": null,
   "id": "a33c6f69",
   "metadata": {},
   "outputs": [],
   "source": [
    "test_X.shape"
   ]
  },
  {
   "cell_type": "code",
   "execution_count": null,
   "id": "a9c1ad2e",
   "metadata": {},
   "outputs": [],
   "source": [
    "test_X['preds'] = preds"
   ]
  },
  {
   "cell_type": "code",
   "execution_count": null,
   "id": "afc38b01",
   "metadata": {},
   "outputs": [],
   "source": [
    "test_X = test_X[['customer_id', 'article_id', 'preds']]"
   ]
  },
  {
   "cell_type": "code",
   "execution_count": null,
   "id": "a970eb24",
   "metadata": {},
   "outputs": [],
   "source": [
    "del test_X_chunk_vectorize, test_X_chunk_vectorized"
   ]
  },
  {
   "cell_type": "code",
   "execution_count": null,
   "id": "f0b51c7e",
   "metadata": {},
   "outputs": [],
   "source": [
    "del preds"
   ]
  },
  {
   "cell_type": "code",
   "execution_count": null,
   "id": "0904f7d5",
   "metadata": {},
   "outputs": [],
   "source": [
    "gc.collect()"
   ]
  },
  {
   "cell_type": "code",
   "execution_count": null,
   "id": "674e4ba7",
   "metadata": {},
   "outputs": [],
   "source": [
    "%%time\n",
    "cust_id2pred = {}\n",
    "\n",
    "for grp in test_X.groupby('customer_id'):\n",
    "    cust_id2pred[grp[0]] = grp[1][['article_id', 'preds']].sort_values('preds', ascending=False)['article_id'].head(12).tolist()"
   ]
  },
  {
   "cell_type": "code",
   "execution_count": null,
   "id": "2a8953d7",
   "metadata": {},
   "outputs": [],
   "source": [
    "sub = pd.read_csv('data/sample_submission.csv')"
   ]
  },
  {
   "cell_type": "code",
   "execution_count": null,
   "id": "5b9c78f0",
   "metadata": {},
   "outputs": [],
   "source": []
  },
  {
   "cell_type": "code",
   "execution_count": null,
   "id": "76f08425",
   "metadata": {},
   "outputs": [],
   "source": [
    "preds_str = []\n",
    "for c in sub.customer_id:\n",
    "    preds_str.append(' '.join(cust_id2pred[c]))"
   ]
  },
  {
   "cell_type": "code",
   "execution_count": null,
   "id": "fdf24392",
   "metadata": {},
   "outputs": [],
   "source": [
    "sub.prediction = preds_str"
   ]
  },
  {
   "cell_type": "code",
   "execution_count": null,
   "id": "88e38ebc",
   "metadata": {},
   "outputs": [],
   "source": [
    "sub.prediction"
   ]
  },
  {
   "cell_type": "code",
   "execution_count": null,
   "id": "a789726c",
   "metadata": {},
   "outputs": [],
   "source": [
    "sub.to_csv('data/subs/test.csv', index=False)"
   ]
  },
  {
   "cell_type": "code",
   "execution_count": null,
   "id": "0e445ed8",
   "metadata": {},
   "outputs": [],
   "source": [
    "from utils import eval_subl_sub"
   ]
  },
  {
   "cell_type": "code",
   "execution_count": null,
   "id": "c3cf0da2",
   "metadata": {},
   "outputs": [],
   "source": [
    "eval_sub('data/subs/test.csv')"
   ]
  },
  {
   "cell_type": "code",
   "execution_count": null,
   "id": "5e6c2474",
   "metadata": {},
   "outputs": [],
   "source": [
    "eval_sub('data/subs/test.csv', skip_cust_with_no_purchases=0)"
   ]
  },
  {
   "cell_type": "code",
   "execution_count": null,
   "id": "090cec01",
   "metadata": {},
   "outputs": [],
   "source": [
    "!kaggle competitions submit -c h-and-m-personalized-fashion-recommendations -f 'data/subs/test.csv' -m 'test'"
   ]
  },
  {
   "cell_type": "code",
   "execution_count": null,
   "id": "59a0376e",
   "metadata": {},
   "outputs": [],
   "source": []
  },
  {
   "cell_type": "code",
   "execution_count": null,
   "id": "f9321cb8",
   "metadata": {},
   "outputs": [],
   "source": [
    "sub['customer_id'].iloc[0]"
   ]
  },
  {
   "cell_type": "code",
   "execution_count": null,
   "id": "dfc68c92",
   "metadata": {},
   "outputs": [],
   "source": [
    "del text_X"
   ]
  },
  {
   "cell_type": "code",
   "execution_count": null,
   "id": "24d7f2dc",
   "metadata": {},
   "outputs": [],
   "source": [
    "gc.collect()"
   ]
  },
  {
   "cell_type": "code",
   "execution_count": null,
   "id": "9bc5abe6",
   "metadata": {},
   "outputs": [],
   "source": [
    "import sys\n",
    "\n",
    "# These are the usual ipython objects, including this one you are creating\n",
    "ipython_vars = ['In', 'Out', 'exit', 'quit', 'get_ipython', 'ipython_vars']\n",
    "\n",
    "# Get a sorted list of the objects and their sizes\n",
    "sorted([(x, sys.getsizeof(globals().get(x))) for x in dir() if not x.startswith('_') and x not in sys.modules and x not in ipython_vars], key=lambda x: x[1], reverse=True)"
   ]
  },
  {
   "cell_type": "code",
   "execution_count": null,
   "id": "dfb42396",
   "metadata": {},
   "outputs": [],
   "source": [
    "len(cust_id2pred)"
   ]
  },
  {
   "cell_type": "code",
   "execution_count": null,
   "id": "e702cee4",
   "metadata": {},
   "outputs": [],
   "source": [
    "grp[1][['article_id', 'preds']].sort_values('preds', ascending=False)['article_id'].head(12).tolist()"
   ]
  },
  {
   "cell_type": "code",
   "execution_count": null,
   "id": "1d2855b7",
   "metadata": {},
   "outputs": [],
   "source": [
    "len(cust_id2pred)"
   ]
  },
  {
   "cell_type": "code",
   "execution_count": null,
   "id": "516088cc",
   "metadata": {},
   "outputs": [],
   "source": [
    "grp[0]"
   ]
  },
  {
   "cell_type": "code",
   "execution_count": null,
   "id": "c1f0c3bd",
   "metadata": {},
   "outputs": [],
   "source": [
    "pd.to_pickle(test_baskets, 'data/test_baskets.pkl')"
   ]
  },
  {
   "cell_type": "code",
   "execution_count": null,
   "id": "3de8f969",
   "metadata": {},
   "outputs": [],
   "source": [
    "joblib.dump(pipe, 'data/pipe.pkl')"
   ]
  },
  {
   "cell_type": "code",
   "execution_count": null,
   "id": "714be6f1",
   "metadata": {},
   "outputs": [],
   "source": [
    "ranker.predict(valid_X_vec).shape"
   ]
  },
  {
   "cell_type": "code",
   "execution_count": null,
   "id": "41439085",
   "metadata": {},
   "outputs": [],
   "source": [
    "import gc"
   ]
  },
  {
   "cell_type": "code",
   "execution_count": null,
   "id": "afd52873",
   "metadata": {},
   "outputs": [],
   "source": [
    "chunks =  np.array_split(test_X.index, 100)"
   ]
  },
  {
   "cell_type": "code",
   "execution_count": null,
   "id": "7f9fd445",
   "metadata": {},
   "outputs": [],
   "source": [
    "for chunk in chunks:\n",
    "    break"
   ]
  },
  {
   "cell_type": "code",
   "execution_count": null,
   "id": "6b052d09",
   "metadata": {},
   "outputs": [],
   "source": [
    "%%time\n",
    "o = pipe.transform(test_X.loc[chunk])"
   ]
  },
  {
   "cell_type": "code",
   "execution_count": null,
   "id": "5de6b308",
   "metadata": {},
   "outputs": [],
   "source": [
    "a[0].shape"
   ]
  },
  {
   "cell_type": "code",
   "execution_count": null,
   "id": "55da4a1b",
   "metadata": {
    "collapsed": true
   },
   "outputs": [],
   "source": []
  }
 ],
 "metadata": {
  "kernelspec": {
   "display_name": "Python 3",
   "language": "python",
   "name": "python3"
  },
  "language_info": {
   "codemirror_mode": {
    "name": "ipython",
    "version": 3
   },
   "file_extension": ".py",
   "mimetype": "text/x-python",
   "name": "python",
   "nbconvert_exporter": "python",
   "pygments_lexer": "ipython3",
   "version": "3.7.12"
  }
 },
 "nbformat": 4,
 "nbformat_minor": 5
}
